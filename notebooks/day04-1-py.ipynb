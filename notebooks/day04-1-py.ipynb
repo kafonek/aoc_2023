{
 "cells": [
  {
   "cell_type": "code",
   "execution_count": 1,
   "id": "0f14a77d-d2ec-4c44-886a-5c2186551d9d",
   "metadata": {},
   "outputs": [
    {
     "data": {
      "text/plain": [
       "['Card 1: 41 48 83 86 17 | 83 86  6 31 17  9 48 53',\n",
       " 'Card 2: 13 32 20 16 61 | 61 30 68 82 17 32 24 19',\n",
       " 'Card 3:  1 21 53 59 44 | 69 82 63 72 16 21 14  1',\n",
       " 'Card 4: 41 92 73 84 69 | 59 84 76 51 58  5 54 83',\n",
       " 'Card 5: 87 83 26 28 32 | 88 30 70 12 93 22 82 36',\n",
       " 'Card 6: 31 18 13 56 72 | 74 77 10 23 35 67 36 11']"
      ]
     },
     "execution_count": 1,
     "metadata": {},
     "output_type": "execute_result"
    }
   ],
   "source": [
    "text = \"\"\"\n",
    "Card 1: 41 48 83 86 17 | 83 86  6 31 17  9 48 53\n",
    "Card 2: 13 32 20 16 61 | 61 30 68 82 17 32 24 19\n",
    "Card 3:  1 21 53 59 44 | 69 82 63 72 16 21 14  1\n",
    "Card 4: 41 92 73 84 69 | 59 84 76 51 58  5 54 83\n",
    "Card 5: 87 83 26 28 32 | 88 30 70 12 93 22 82 36\n",
    "Card 6: 31 18 13 56 72 | 74 77 10 23 35 67 36 11\n",
    "\"\"\"\n",
    "lines = text.strip().split('\\n')\n",
    "lines"
   ]
  },
  {
   "cell_type": "code",
   "execution_count": 2,
   "id": "ea0687af-a08d-45b1-975b-7a9fd5db3aec",
   "metadata": {},
   "outputs": [
    {
     "data": {
      "text/plain": [
       "Card(id='1', winning_numbers=['41', '48', '83', '86', '17'], guess_numbers=['83', '86', '6', '31', '17', '9', '48', '53'])"
      ]
     },
     "execution_count": 2,
     "metadata": {},
     "output_type": "execute_result"
    }
   ],
   "source": [
    "from dataclasses import dataclass\n",
    "from typing import List\n",
    "\n",
    "@dataclass\n",
    "class Card:\n",
    "    id: int\n",
    "    winning_numbers: List[int]\n",
    "    guess_numbers: List[int]\n",
    "\n",
    "    @classmethod\n",
    "    def from_string(cls, s: str) -> 'Card':\n",
    "        card, numbers = s.split(':', 1)\n",
    "        id = card.split()[1]\n",
    "        (left, right) = numbers.split('|', 1)\n",
    "        winning_numbers = left.split()\n",
    "        guess_numbers = right.split()\n",
    "        return cls(id=id, winning_numbers=winning_numbers, guess_numbers=guess_numbers)\n",
    "\n",
    "    def score(self) -> int:\n",
    "        score = 0\n",
    "        for n in self.guess_numbers:\n",
    "            if n in self.winning_numbers:\n",
    "                if not score:\n",
    "                    score = 1\n",
    "                else:\n",
    "                    score *= 2\n",
    "        return score\n",
    "\n",
    "Card.from_string(lines[0])"
   ]
  },
  {
   "cell_type": "code",
   "execution_count": 3,
   "id": "801ae9a1-83b4-4939-9d18-11573addd2cb",
   "metadata": {},
   "outputs": [
    {
     "name": "stdout",
     "output_type": "stream",
     "text": [
      "1 8\n",
      "2 2\n",
      "3 2\n",
      "4 1\n",
      "5 0\n",
      "6 0\n"
     ]
    }
   ],
   "source": [
    "cards = [Card.from_string(line) for line in lines]\n",
    "for card in cards:\n",
    "    print(card.id, card.score())"
   ]
  },
  {
   "cell_type": "code",
   "execution_count": 4,
   "id": "46d0d1c8-8204-4d93-a7a1-ba60b7573546",
   "metadata": {},
   "outputs": [
    {
     "data": {
      "text/plain": [
       "13"
      ]
     },
     "execution_count": 4,
     "metadata": {},
     "output_type": "execute_result"
    }
   ],
   "source": [
    "answer = 0\n",
    "for card in cards:\n",
    "    answer += card.score()\n",
    "\n",
    "answer"
   ]
  },
  {
   "cell_type": "code",
   "execution_count": 5,
   "id": "9d1ce367-cadb-4733-afd4-95807d4780ce",
   "metadata": {},
   "outputs": [
    {
     "name": "stdout",
     "output_type": "stream",
     "text": [
      "997 µs ± 10.2 µs per loop (mean ± std. dev. of 7 runs, 1,000 loops each)\n"
     ]
    }
   ],
   "source": [
    "%%timeit\n",
    "from dataclasses import dataclass\n",
    "from typing import List\n",
    "\n",
    "@dataclass\n",
    "class Card:\n",
    "    id: int\n",
    "    winning_numbers: List[int]\n",
    "    guess_numbers: List[int]\n",
    "\n",
    "    @classmethod\n",
    "    def from_string(cls, s: str) -> 'Card':\n",
    "        card, numbers = s.split(':', 1)\n",
    "        id = card.split()[1]\n",
    "        (left, right) = numbers.split('|', 1)\n",
    "        winning_numbers = left.split()\n",
    "        guess_numbers = right.split()\n",
    "        return cls(id=id, winning_numbers=winning_numbers, guess_numbers=guess_numbers)\n",
    "\n",
    "    def score(self) -> int:\n",
    "        score = 0\n",
    "        for n in self.guess_numbers:\n",
    "            if n in self.winning_numbers:\n",
    "                if not score:\n",
    "                    score = 1\n",
    "                else:\n",
    "                    score *= 2\n",
    "        return score\n",
    "\n",
    "lines = open('../data/day04.txt').readlines()\n",
    "\n",
    "answer = 0\n",
    "for line in lines:\n",
    "    card = Card.from_string(line)\n",
    "    answer += card.score()\n",
    "answer"
   ]
  },
  {
   "cell_type": "code",
   "execution_count": null,
   "id": "e9b6f67d-e589-41c7-a92e-72a9953badfb",
   "metadata": {},
   "outputs": [],
   "source": []
  }
 ],
 "metadata": {
  "kernelspec": {
   "display_name": "Python 3 (ipykernel)",
   "language": "python",
   "name": "python3"
  },
  "language_info": {
   "codemirror_mode": {
    "name": "ipython",
    "version": 3
   },
   "file_extension": ".py",
   "mimetype": "text/x-python",
   "name": "python",
   "nbconvert_exporter": "python",
   "pygments_lexer": "ipython3",
   "version": "3.11.4"
  }
 },
 "nbformat": 4,
 "nbformat_minor": 5
}
