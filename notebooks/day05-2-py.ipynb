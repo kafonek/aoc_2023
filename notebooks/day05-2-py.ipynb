{
 "cells": [
  {
   "cell_type": "code",
   "execution_count": 1,
   "id": "ab007830-877c-4c42-b17f-a70392ff34b0",
   "metadata": {},
   "outputs": [
    {
     "data": {
      "text/plain": [
       "['seeds: 79 14 55 13',\n",
       " '',\n",
       " 'seed-to-soil map:',\n",
       " '50 98 2',\n",
       " '52 50 48',\n",
       " '',\n",
       " 'soil-to-fertilizer map:',\n",
       " '0 15 37',\n",
       " '37 52 2',\n",
       " '39 0 15',\n",
       " '',\n",
       " 'fertilizer-to-water map:',\n",
       " '49 53 8',\n",
       " '0 11 42',\n",
       " '42 0 7',\n",
       " '57 7 4',\n",
       " '',\n",
       " 'water-to-light map:',\n",
       " '88 18 7',\n",
       " '18 25 70',\n",
       " '',\n",
       " 'light-to-temperature map:',\n",
       " '45 77 23',\n",
       " '81 45 19',\n",
       " '68 64 13',\n",
       " '',\n",
       " 'temperature-to-humidity map:',\n",
       " '0 69 1',\n",
       " '1 0 69',\n",
       " '',\n",
       " 'humidity-to-location map:',\n",
       " '60 56 37',\n",
       " '56 93 4']"
      ]
     },
     "execution_count": 1,
     "metadata": {},
     "output_type": "execute_result"
    }
   ],
   "source": [
    "text = \"\"\"\n",
    "seeds: 79 14 55 13\n",
    "\n",
    "seed-to-soil map:\n",
    "50 98 2\n",
    "52 50 48\n",
    "\n",
    "soil-to-fertilizer map:\n",
    "0 15 37\n",
    "37 52 2\n",
    "39 0 15\n",
    "\n",
    "fertilizer-to-water map:\n",
    "49 53 8\n",
    "0 11 42\n",
    "42 0 7\n",
    "57 7 4\n",
    "\n",
    "water-to-light map:\n",
    "88 18 7\n",
    "18 25 70\n",
    "\n",
    "light-to-temperature map:\n",
    "45 77 23\n",
    "81 45 19\n",
    "68 64 13\n",
    "\n",
    "temperature-to-humidity map:\n",
    "0 69 1\n",
    "1 0 69\n",
    "\n",
    "humidity-to-location map:\n",
    "60 56 37\n",
    "56 93 4\n",
    "\"\"\"\n",
    "lines = text.strip().split('\\n')\n",
    "lines"
   ]
  },
  {
   "cell_type": "code",
   "execution_count": 2,
   "id": "ba74ff1a-b572-4220-ad76-5e05fc5242e5",
   "metadata": {},
   "outputs": [
    {
     "name": "stdout",
     "output_type": "stream",
     "text": [
      "seed-to-soil 2\n",
      "soil-to-fertilizer 3\n",
      "fertilizer-to-water 4\n",
      "water-to-light 2\n",
      "light-to-temperature 3\n",
      "temperature-to-humidity 2\n",
      "humidity-to-location 2\n"
     ]
    }
   ],
   "source": [
    "from aoc_2023.day05 import Pipeline\n",
    "\n",
    "pipeline = Pipeline.from_lines(lines[2:])\n",
    "for map in pipeline.maps:\n",
    "    print(map.name, len(map.ranges))"
   ]
  },
  {
   "cell_type": "code",
   "execution_count": 3,
   "id": "039bbb2f-031d-43cc-a5ae-8dc8456440d0",
   "metadata": {},
   "outputs": [
    {
     "name": "stdout",
     "output_type": "stream",
     "text": [
      "79 -> seed-to-soil -> 81\n",
      "81 -> soil-to-fertilizer -> 81\n",
      "81 -> fertilizer-to-water -> 81\n",
      "81 -> water-to-light -> 74\n",
      "74 -> light-to-temperature -> 78\n",
      "78 -> temperature-to-humidity -> 78\n",
      "78 -> humidity-to-location -> 82\n"
     ]
    },
    {
     "data": {
      "text/plain": [
       "82"
      ]
     },
     "execution_count": 3,
     "metadata": {},
     "output_type": "execute_result"
    }
   ],
   "source": [
    "pipeline.get(79, debug=True)"
   ]
  },
  {
   "cell_type": "code",
   "execution_count": 4,
   "id": "10e112fd-9089-4207-b1e1-81e3be4f2374",
   "metadata": {},
   "outputs": [
    {
     "data": {
      "text/plain": [
       "[range(79, 93), range(55, 68)]"
      ]
     },
     "execution_count": 4,
     "metadata": {},
     "output_type": "execute_result"
    }
   ],
   "source": [
    "from typing import List\n",
    "\n",
    "ranges: List[range] = []\n",
    "\n",
    "seed_numbers = lines[0].split(':')[1].split()\n",
    "while seed_numbers:\n",
    "    start = int(seed_numbers.pop(0))\n",
    "    end = start + int(seed_numbers.pop(0))\n",
    "    ranges.append(range(start, end))\n",
    "\n",
    "ranges"
   ]
  },
  {
   "cell_type": "code",
   "execution_count": 5,
   "id": "1ebed32a-5168-496c-9ba6-85651a3b2e1b",
   "metadata": {},
   "outputs": [
    {
     "data": {
      "text/plain": [
       "46"
      ]
     },
     "execution_count": 5,
     "metadata": {},
     "output_type": "execute_result"
    }
   ],
   "source": [
    "import concurrent.futures\n",
    "\n",
    "n_generator = (i for r in ranges for i in r)\n",
    "\n",
    "with concurrent.futures.ProcessPoolExecutor() as executor:\n",
    "    results = executor.map(pipeline.get, n_generator)\n",
    "\n",
    "min(results)"
   ]
  },
  {
   "cell_type": "code",
   "execution_count": null,
   "id": "3a5cef83-3218-4496-8c2c-3208ecfe55bb",
   "metadata": {},
   "outputs": [],
   "source": []
  }
 ],
 "metadata": {
  "kernelspec": {
   "display_name": "Python 3 (ipykernel)",
   "language": "python",
   "name": "python3"
  },
  "language_info": {
   "codemirror_mode": {
    "name": "ipython",
    "version": 3
   },
   "file_extension": ".py",
   "mimetype": "text/x-python",
   "name": "python",
   "nbconvert_exporter": "python",
   "pygments_lexer": "ipython3",
   "version": "3.11.4"
  }
 },
 "nbformat": 4,
 "nbformat_minor": 5
}
