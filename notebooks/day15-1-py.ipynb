{
 "cells": [
  {
   "cell_type": "code",
   "execution_count": 2,
   "id": "4765d16a-457d-40fd-a08f-16eb9c7d17e6",
   "metadata": {},
   "outputs": [
    {
     "data": {
      "text/plain": [
       "72"
      ]
     },
     "execution_count": 2,
     "metadata": {},
     "output_type": "execute_result"
    }
   ],
   "source": [
    "ord('H')"
   ]
  },
  {
   "cell_type": "code",
   "execution_count": 3,
   "id": "caada7fc-eb02-4fb4-8096-06b8a81952b1",
   "metadata": {},
   "outputs": [
    {
     "data": {
      "text/plain": [
       "52"
      ]
     },
     "execution_count": 3,
     "metadata": {},
     "output_type": "execute_result"
    }
   ],
   "source": [
    "def hash(word: str):\n",
    "    value = 0\n",
    "    for c in word:\n",
    "        ascii_code = ord(c)\n",
    "        value += ascii_code\n",
    "        value = value * 17\n",
    "        value = value % 256\n",
    "    return value\n",
    "\n",
    "hash(\"HASH\")"
   ]
  },
  {
   "cell_type": "code",
   "execution_count": 5,
   "id": "b8d8639d-f6c5-435c-8044-81b7543636e8",
   "metadata": {},
   "outputs": [
    {
     "name": "stdout",
     "output_type": "stream",
     "text": [
      "rn=1 30\n",
      "cm- 253\n",
      "qp=3 97\n",
      "cm=2 47\n",
      "qp- 14\n",
      "pc=4 180\n",
      "ot=9 9\n",
      "ab=5 197\n",
      "pc- 48\n",
      "pc=6 214\n",
      "ot=7 231\n"
     ]
    },
    {
     "data": {
      "text/plain": [
       "1320"
      ]
     },
     "execution_count": 5,
     "metadata": {},
     "output_type": "execute_result"
    }
   ],
   "source": [
    "words = \"rn=1,cm-,qp=3,cm=2,qp-,pc=4,ot=9,ab=5,pc-,pc=6,ot=7\".split(',')\n",
    "\n",
    "answer = 0\n",
    "for word in words:\n",
    "    value = hash(word)\n",
    "    print(word, value)\n",
    "    answer += value\n",
    "\n",
    "answer"
   ]
  },
  {
   "cell_type": "code",
   "execution_count": 6,
   "id": "88866bbe-779f-4372-9b1f-839f1b8d3b63",
   "metadata": {},
   "outputs": [
    {
     "data": {
      "text/plain": [
       "509152"
      ]
     },
     "execution_count": 6,
     "metadata": {},
     "output_type": "execute_result"
    }
   ],
   "source": [
    "words = open('../data/day15.txt').read().split(',')\n",
    "answer = 0\n",
    "for word in words:\n",
    "    value = hash(word)\n",
    "    answer += value\n",
    "\n",
    "answer"
   ]
  },
  {
   "cell_type": "code",
   "execution_count": null,
   "id": "37380517-e09d-45dd-a8e4-3d5c0415beca",
   "metadata": {},
   "outputs": [],
   "source": []
  }
 ],
 "metadata": {
  "kernelspec": {
   "display_name": "Python 3 (ipykernel)",
   "language": "python",
   "name": "python3"
  },
  "language_info": {
   "codemirror_mode": {
    "name": "ipython",
    "version": 3
   },
   "file_extension": ".py",
   "mimetype": "text/x-python",
   "name": "python",
   "nbconvert_exporter": "python",
   "pygments_lexer": "ipython3",
   "version": "3.11.4"
  }
 },
 "nbformat": 4,
 "nbformat_minor": 5
}
