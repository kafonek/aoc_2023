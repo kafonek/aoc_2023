{
 "cells": [
  {
   "cell_type": "markdown",
   "id": "95c308c4",
   "metadata": {},
   "source": [
    "Relevant directions from https://adventofcode.com/2023/day/2 part one -\n",
    "\n",
    "You play several games and record the information from each game (your puzzle input). Each game is listed with its ID number (like the 11 in Game 11: ...) followed by a semicolon-separated list of subsets of cubes that were revealed from the bag (like 3 red, 5 green, 4 blue).\n",
    "\n",
    "For example, the record of a few games might look like this:\n",
    "\n",
    "```\n",
    "Game 1: 3 blue, 4 red; 1 red, 2 green, 6 blue; 2 green\n",
    "Game 2: 1 blue, 2 green; 3 green, 4 blue, 1 red; 1 green, 1 blue\n",
    "Game 3: 8 green, 6 blue, 20 red; 5 blue, 4 red, 13 green; 5 green, 1 red\n",
    "Game 4: 1 green, 3 red, 6 blue; 3 green, 6 red; 3 green, 15 blue, 14 red\n",
    "Game 5: 6 red, 1 blue, 3 green; 2 blue, 1 red, 2 green\n",
    "```\n",
    "\n",
    "In game 1, three sets of cubes are revealed from the bag (and then put back again). The first set is 3 blue cubes and 4 red cubes; the second set is 1 red cube, 2 green cubes, and 6 blue cubes; the third set is only 2 green cubes.\n",
    "\n",
    "The Elf would first like to know which games would have been possible if the bag contained only 12 red cubes, 13 green cubes, and 14 blue cubes?\n",
    "\n",
    "In the example above, games 1, 2, and 5 would have been possible if the bag had been loaded with that configuration. However, game 3 would have been impossible because at one point the Elf showed you 20 red cubes at once; similarly, game 4 would also have been impossible because the Elf showed you 15 blue cubes at once. If you add up the IDs of the games that would have been possible, you get **8**.\n",
    "\n",
    "Determine which games would have been possible if the bag had been loaded with only 12 red cubes, 13 green cubes, and 14 blue cubes. What is the sum of the IDs of those games?"
   ]
  },
  {
   "cell_type": "code",
   "execution_count": 2,
   "id": "378cf08d-1212-41cc-8d07-e9669ecd1dda",
   "metadata": {
    "vscode": {
     "languageId": "rust"
    }
   },
   "outputs": [
    {
     "data": {
      "text/plain": [
       "[\"Game 1: 3 blue, 4 red; 1 red, 2 green, 6 blue; 2 green\", \"Game 2: 1 blue, 2 green; 3 green, 4 blue, 1 red; 1 green, 1 blue\", \"Game 3: 8 green, 6 blue, 20 red; 5 blue, 4 red, 13 green; 5 green, 1 red\", \"Game 4: 1 green, 3 red, 6 blue; 3 green, 6 red; 3 green, 15 blue, 14 red\", \"Game 5: 6 red, 1 blue, 3 green; 2 blue, 1 red, 2 green\"]"
      ]
     },
     "execution_count": 2,
     "metadata": {},
     "output_type": "execute_result"
    }
   ],
   "source": [
    "let text = r#\"\n",
    "Game 1: 3 blue, 4 red; 1 red, 2 green, 6 blue; 2 green\n",
    "Game 2: 1 blue, 2 green; 3 green, 4 blue, 1 red; 1 green, 1 blue\n",
    "Game 3: 8 green, 6 blue, 20 red; 5 blue, 4 red, 13 green; 5 green, 1 red\n",
    "Game 4: 1 green, 3 red, 6 blue; 3 green, 6 red; 3 green, 15 blue, 14 red\n",
    "Game 5: 6 red, 1 blue, 3 green; 2 blue, 1 red, 2 green\n",
    "\"#;\n",
    "let lines: Vec<&str> = text.trim().lines().collect();\n",
    "lines"
   ]
  },
  {
   "cell_type": "code",
   "execution_count": 3,
   "id": "de2c3522-6640-4ff0-ad19-f7e5f878b0e4",
   "metadata": {
    "vscode": {
     "languageId": "rust"
    }
   },
   "outputs": [
    {
     "data": {
      "text/plain": [
       "Bag { red: 20, green: 8, blue: 6 }"
      ]
     },
     "execution_count": 3,
     "metadata": {},
     "output_type": "execute_result"
    }
   ],
   "source": [
    "#[derive(Debug)]\n",
    "struct Bag {\n",
    "    red: i32,\n",
    "    green: i32,\n",
    "    blue: i32,\n",
    "}\n",
    "\n",
    "impl Bag {\n",
    "    fn new(red: i32, green: i32, blue: i32) -> Bag {\n",
    "        Bag { red, green, blue }\n",
    "    }\n",
    "\n",
    "    fn from_string(s: &str) -> Result<Bag, &'static str> {\n",
    "        let mut red = 0;\n",
    "        let mut green = 0;\n",
    "        let mut blue = 0;\n",
    "\n",
    "        for part in s.split(',') {\n",
    "            let parts: Vec<&str> = part.trim().split_whitespace().collect();\n",
    "            if parts.len() != 2 {\n",
    "                return Err(\"Invalid input format\");\n",
    "            }\n",
    "\n",
    "            let count = parts[0].parse::<i32>().map_err(|_| \"Invalid count\")?;\n",
    "            match parts[1] {\n",
    "                \"red\" => red = count,\n",
    "                \"green\" => green = count,\n",
    "                \"blue\" => blue = count,\n",
    "                _ => return Err(\"Unknown color\"),\n",
    "            }\n",
    "        }\n",
    "\n",
    "        Ok(Bag::new(red, green, blue))\n",
    "    }\n",
    "\n",
    "    fn can_contain(&self, other: &Bag) -> bool {\n",
    "        self.red >= other.red && self.green >= other.green && self.blue >= other.blue\n",
    "    }\n",
    "}\n",
    "\n",
    "let example = Bag::from_string(\"8 green, 6 blue, 20 red\").unwrap();\n",
    "example"
   ]
  },
  {
   "cell_type": "code",
   "execution_count": 4,
   "id": "510d3577-36d9-459f-9508-bca65b1f2252",
   "metadata": {
    "vscode": {
     "languageId": "rust"
    }
   },
   "outputs": [
    {
     "data": {
      "text/plain": [
       "false"
      ]
     },
     "execution_count": 4,
     "metadata": {},
     "output_type": "execute_result"
    }
   ],
   "source": [
    "let max_bag = Bag::new(12, 13, 14);\n",
    "max_bag.can_contain(&example)"
   ]
  },
  {
   "cell_type": "code",
   "execution_count": 5,
   "id": "7aefc495-08ad-4490-9311-c1f3925b8f67",
   "metadata": {
    "vscode": {
     "languageId": "rust"
    }
   },
   "outputs": [
    {
     "data": {
      "text/plain": [
       "Game { id: 5, bags: [Bag { red: 6, green: 3, blue: 1 }, Bag { red: 1, green: 2, blue: 2 }] }"
      ]
     },
     "execution_count": 5,
     "metadata": {},
     "output_type": "execute_result"
    }
   ],
   "source": [
    "#[derive(Debug)]\n",
    "struct Game {\n",
    "    id: i32,\n",
    "    bags: Vec<Bag>,\n",
    "}\n",
    "\n",
    "impl Game {\n",
    "    fn from_string(s: &str) -> Result<Game, &'static str> {\n",
    "        let parts: Vec<&str> = s.split(':').collect();\n",
    "        if parts.len() != 2 {\n",
    "            return Err(\"Invalid input format\");\n",
    "        }\n",
    "\n",
    "        let id = parts[0].split_whitespace().last().ok_or(\"Invalid ID\")?\n",
    "            .parse::<i32>().map_err(|_| \"ID is not a number\")?;\n",
    "\n",
    "        let bag_parts = parts[1].split(';');\n",
    "        let mut bags = Vec::new();\n",
    "\n",
    "        for part in bag_parts {\n",
    "            match Bag::from_string(part) {\n",
    "                Ok(bag) => bags.push(bag),\n",
    "                Err(e) => return Err(e),\n",
    "            }\n",
    "        }\n",
    "\n",
    "        Ok(Game { id, bags })\n",
    "    }\n",
    "\n",
    "    fn check(&self, max_bag: &Bag) -> bool {\n",
    "        self.bags.iter().all(|bag| max_bag.can_contain(bag))\n",
    "    }\n",
    "}\n",
    "\n",
    "let game = Game::from_string(\"Game 5: 6 red, 1 blue, 3 green; 2 blue, 1 red, 2 green\\n\").unwrap();\n",
    "game"
   ]
  },
  {
   "cell_type": "code",
   "execution_count": 6,
   "id": "e66234b8-423c-4b55-a429-bf2ac158db04",
   "metadata": {
    "vscode": {
     "languageId": "rust"
    }
   },
   "outputs": [
    {
     "data": {
      "text/plain": [
       "true"
      ]
     },
     "execution_count": 6,
     "metadata": {},
     "output_type": "execute_result"
    }
   ],
   "source": [
    "game.check(&max_bag)"
   ]
  },
  {
   "cell_type": "code",
   "execution_count": 7,
   "id": "d434cb65-b5ce-487d-87f2-dfe1d7acbb17",
   "metadata": {
    "vscode": {
     "languageId": "rust"
    }
   },
   "outputs": [
    {
     "data": {
      "text/plain": [
       "[Game { id: 1, bags: [Bag { red: 4, green: 0, blue: 3 }, Bag { red: 1, green: 2, blue: 6 }, Bag { red: 0, green: 2, blue: 0 }] }, Game { id: 2, bags: [Bag { red: 0, green: 2, blue: 1 }, Bag { red: 1, green: 3, blue: 4 }, Bag { red: 0, green: 1, blue: 1 }] }, Game { id: 3, bags: [Bag { red: 20, green: 8, blue: 6 }, Bag { red: 4, green: 13, blue: 5 }, Bag { red: 1, green: 5, blue: 0 }] }, Game { id: 4, bags: [Bag { red: 3, green: 1, blue: 6 }, Bag { red: 6, green: 3, blue: 0 }, Bag { red: 14, green: 3, blue: 15 }] }, Game { id: 5, bags: [Bag { red: 6, green: 3, blue: 1 }, Bag { red: 1, green: 2, blue: 2 }] }]"
      ]
     },
     "execution_count": 7,
     "metadata": {},
     "output_type": "execute_result"
    }
   ],
   "source": [
    "let mut games = Vec::new();\n",
    "for line in &lines {\n",
    "    let game = Game::from_string(&line).unwrap();\n",
    "    games.push(game);\n",
    "};\n",
    "games"
   ]
  },
  {
   "cell_type": "code",
   "execution_count": 8,
   "id": "387aea71-7bcf-4bb1-8159-62922e380027",
   "metadata": {
    "vscode": {
     "languageId": "rust"
    }
   },
   "outputs": [
    {
     "name": "stdout",
     "output_type": "stream",
     "text": [
      "ID 1. Check: true\n",
      "ID 2. Check: true\n",
      "ID 3. Check: false\n",
      "ID 4. Check: false\n",
      "ID 5. Check: true\n"
     ]
    },
    {
     "data": {
      "text/plain": [
       "()"
      ]
     },
     "execution_count": 8,
     "metadata": {},
     "output_type": "execute_result"
    }
   ],
   "source": [
    "for game in &games {\n",
    "    println!(\"ID {}. Check: {}\", &game.id, game.check(&max_bag));\n",
    "}"
   ]
  },
  {
   "cell_type": "code",
   "execution_count": 9,
   "id": "d072006a-11ac-41c8-9f23-6a30c42cbee0",
   "metadata": {
    "vscode": {
     "languageId": "rust"
    }
   },
   "outputs": [
    {
     "data": {
      "text/plain": [
       "8"
      ]
     },
     "execution_count": 9,
     "metadata": {},
     "output_type": "execute_result"
    }
   ],
   "source": [
    "let mut id_sum = 0;\n",
    "for game in &games {\n",
    "    if game.check(&max_bag) {\n",
    "        id_sum += &game.id\n",
    "    }\n",
    "}\n",
    "id_sum"
   ]
  },
  {
   "cell_type": "code",
   "execution_count": null,
   "id": "997e3086-1321-4b71-83d7-8e5daea082a2",
   "metadata": {
    "vscode": {
     "languageId": "rust"
    }
   },
   "outputs": [],
   "source": []
  }
 ],
 "metadata": {
  "kernelspec": {
   "display_name": "Rust",
   "language": "rust",
   "name": "rust"
  },
  "language_info": {
   "codemirror_mode": "rust",
   "file_extension": ".rs",
   "mimetype": "text/rust",
   "name": "Rust",
   "pygment_lexer": "rust",
   "version": ""
  }
 },
 "nbformat": 4,
 "nbformat_minor": 5
}
