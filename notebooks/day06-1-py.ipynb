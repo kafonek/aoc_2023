{
 "cells": [
  {
   "cell_type": "code",
   "execution_count": 1,
   "id": "e23a0806-d2cf-4937-b3e8-4b6af226a03c",
   "metadata": {},
   "outputs": [
    {
     "data": {
      "text/plain": [
       "(['7', '15', '30'], ['9', '40', '200'])"
      ]
     },
     "execution_count": 1,
     "metadata": {},
     "output_type": "execute_result"
    }
   ],
   "source": [
    "text = \"\"\"\n",
    "Time:      7  15   30\n",
    "Distance:  9  40  200\n",
    "\"\"\"\n",
    "\n",
    "lines = text.strip().split('\\n')\n",
    "times = lines[0].split(':')[1].split()\n",
    "distances = lines[1].split(':')[1].split()\n",
    "times, distances"
   ]
  },
  {
   "cell_type": "code",
   "execution_count": 2,
   "id": "3f5d73a1-55e5-4efb-a38f-a4bc4ee812c8",
   "metadata": {},
   "outputs": [
    {
     "name": "stdout",
     "output_type": "stream",
     "text": [
      "7 9 4\n",
      "15 40 8\n",
      "30 200 9\n"
     ]
    },
    {
     "data": {
      "text/plain": [
       "[Race(time=7, distance_to_beat=9, answer=4),\n",
       " Race(time=15, distance_to_beat=40, answer=8),\n",
       " Race(time=30, distance_to_beat=200, answer=9)]"
      ]
     },
     "execution_count": 2,
     "metadata": {},
     "output_type": "execute_result"
    }
   ],
   "source": [
    "from aoc_2023.day06 import Race\n",
    "\n",
    "races = []\n",
    "for (t, d) in zip(times, distances):\n",
    "    r = Race(time=int(t), distance_to_beat=int(d))\n",
    "    r.run()\n",
    "    print(t, d, r.answer)\n",
    "    races.append(r)\n",
    "\n",
    "races"
   ]
  },
  {
   "cell_type": "code",
   "execution_count": 3,
   "id": "80ff2562-065d-4eb9-b273-1ee092701a1b",
   "metadata": {},
   "outputs": [
    {
     "data": {
      "text/plain": [
       "288"
      ]
     },
     "execution_count": 3,
     "metadata": {},
     "output_type": "execute_result"
    }
   ],
   "source": [
    "import math\n",
    "math.prod(r.answer for r in races)"
   ]
  },
  {
   "cell_type": "code",
   "execution_count": null,
   "id": "5b380720-5749-444e-8ec0-aba03c87bb3f",
   "metadata": {},
   "outputs": [],
   "source": []
  }
 ],
 "metadata": {
  "kernelspec": {
   "display_name": "Python 3 (ipykernel)",
   "language": "python",
   "name": "python3"
  },
  "language_info": {
   "codemirror_mode": {
    "name": "ipython",
    "version": 3
   },
   "file_extension": ".py",
   "mimetype": "text/x-python",
   "name": "python",
   "nbconvert_exporter": "python",
   "pygments_lexer": "ipython3",
   "version": "3.11.4"
  }
 },
 "nbformat": 4,
 "nbformat_minor": 5
}
