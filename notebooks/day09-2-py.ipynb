{
 "cells": [
  {
   "cell_type": "code",
   "execution_count": 20,
   "id": "e6df2ac6-0951-46d4-9b61-f70026b0cba8",
   "metadata": {},
   "outputs": [
    {
     "data": {
      "text/plain": [
       "['0 3 6 9 12 15', '1 3 6 10 15 21', '10 13 16 21 30 45']"
      ]
     },
     "execution_count": 20,
     "metadata": {},
     "output_type": "execute_result"
    }
   ],
   "source": [
    "text = \"\"\"\n",
    "0 3 6 9 12 15\n",
    "1 3 6 10 15 21\n",
    "10 13 16 21 30 45\n",
    "\"\"\"\n",
    "\n",
    "lines = text.strip().split('\\n')\n",
    "lines"
   ]
  },
  {
   "cell_type": "code",
   "execution_count": 21,
   "id": "1e5bd5d5-a983-4925-a4f1-e5af03d3980e",
   "metadata": {},
   "outputs": [
    {
     "data": {
      "text/plain": [
       "[10, 13, 16, 21, 30, 45]"
      ]
     },
     "execution_count": 21,
     "metadata": {},
     "output_type": "execute_result"
    }
   ],
   "source": [
    "nums = [int(c) for c in lines[2].split()]\n",
    "nums"
   ]
  },
  {
   "cell_type": "code",
   "execution_count": 22,
   "id": "d3b57f19-eab6-4530-9cbd-89af1b31374c",
   "metadata": {},
   "outputs": [
    {
     "data": {
      "text/plain": [
       "[[3, 3, 5, 9, 15], [0, 2, 4, 6], [2, 2, 2], [0, 0], [0]]"
      ]
     },
     "execution_count": 22,
     "metadata": {},
     "output_type": "execute_result"
    }
   ],
   "source": [
    "from typing import List\n",
    "\n",
    "def make_diffs(numbers: List[int]):\n",
    "    return [j - i for i, j in zip(numbers, numbers[1:])]\n",
    "\n",
    "def make_diff_hirerarchy(numbers: List[int]):\n",
    "    diffs = make_diffs(numbers)\n",
    "    total_diffs = [diffs]\n",
    "    while len(diffs) > 1:\n",
    "        diffs = make_diffs(diffs)\n",
    "        total_diffs.append(diffs)\n",
    "    return total_diffs\n",
    "\n",
    "def find_pattern_precursor(diff_hierarchy: List[List[int]]):\n",
    "    n = 0\n",
    "    for diff in reversed(diff_hierarchy):\n",
    "        item = diff[0]\n",
    "        new = item - n\n",
    "        print(n, new)\n",
    "        n = new\n",
    "    return n\n",
    "        \n",
    "\n",
    "diffs = make_diff_hirerarchy(nums)\n",
    "diffs"
   ]
  },
  {
   "cell_type": "code",
   "execution_count": 23,
   "id": "c77a17df-e4c8-4906-ae8b-f6b628cabe2c",
   "metadata": {},
   "outputs": [
    {
     "name": "stdout",
     "output_type": "stream",
     "text": [
      "0 0\n",
      "0 0\n",
      "0 2\n",
      "2 -2\n",
      "-2 5\n"
     ]
    },
    {
     "data": {
      "text/plain": [
       "5"
      ]
     },
     "execution_count": 23,
     "metadata": {},
     "output_type": "execute_result"
    }
   ],
   "source": [
    "find_pattern_precursor(diffs)"
   ]
  },
  {
   "cell_type": "code",
   "execution_count": 24,
   "id": "572b5ac3-ed39-4cbf-8d6a-aee3b3249818",
   "metadata": {},
   "outputs": [
    {
     "data": {
      "text/plain": [
       "[Pattern(numbers=[0, 3, 6, 9, 12, 15]),\n",
       " Pattern(numbers=[1, 3, 6, 10, 15, 21]),\n",
       " Pattern(numbers=[10, 13, 16, 21, 30, 45])]"
      ]
     },
     "execution_count": 24,
     "metadata": {},
     "output_type": "execute_result"
    }
   ],
   "source": [
    "from dataclasses import dataclass\n",
    "from typing import List\n",
    "\n",
    "@dataclass\n",
    "class Pattern:\n",
    "    numbers: List[int]\n",
    "\n",
    "    @staticmethod\n",
    "    def from_line(s: str):\n",
    "        return Pattern([int(c) for c in s.split()])\n",
    "\n",
    "\n",
    "patterns = [Pattern.from_line(line) for line in lines]\n",
    "patterns"
   ]
  },
  {
   "cell_type": "code",
   "execution_count": 9,
   "id": "363ab239-4bcd-4ad8-92d9-cc7ffb6419c6",
   "metadata": {},
   "outputs": [
    {
     "name": "stdout",
     "output_type": "stream",
     "text": [
      "[[3, 3, 5, 9, 15], [0, 2, 4, 6], [2, 2, 2], [0, 0], [0]]\n"
     ]
    }
   ],
   "source": [
    "diffs = make_diff_hierarchy(patterns[2].numbers)\n",
    "import pprint\n",
    "pprint.pprint(diffs)"
   ]
  },
  {
   "cell_type": "code",
   "execution_count": null,
   "id": "bcfee024-ddf1-4934-b41e-631170d2dab9",
   "metadata": {},
   "outputs": [],
   "source": []
  },
  {
   "cell_type": "code",
   "execution_count": 32,
   "id": "223583a8-8cf5-499a-8fed-e589807860b4",
   "metadata": {},
   "outputs": [
    {
     "name": "stdout",
     "output_type": "stream",
     "text": [
      "18\n",
      "28\n",
      "68\n"
     ]
    },
    {
     "data": {
      "text/plain": [
       "114"
      ]
     },
     "execution_count": 32,
     "metadata": {},
     "output_type": "execute_result"
    }
   ],
   "source": [
    "answer = 0\n",
    "for p in patterns:\n",
    "    next_number = p.next_number()\n",
    "    print(next_number)\n",
    "    answer += next_number\n",
    "\n",
    "answer"
   ]
  },
  {
   "cell_type": "code",
   "execution_count": null,
   "id": "c7c122cb-dfe8-4023-936b-326182b32ba8",
   "metadata": {},
   "outputs": [],
   "source": []
  }
 ],
 "metadata": {
  "kernelspec": {
   "display_name": "Python 3 (ipykernel)",
   "language": "python",
   "name": "python3"
  },
  "language_info": {
   "codemirror_mode": {
    "name": "ipython",
    "version": 3
   },
   "file_extension": ".py",
   "mimetype": "text/x-python",
   "name": "python",
   "nbconvert_exporter": "python",
   "pygments_lexer": "ipython3",
   "version": "3.10.13"
  }
 },
 "nbformat": 4,
 "nbformat_minor": 5
}
