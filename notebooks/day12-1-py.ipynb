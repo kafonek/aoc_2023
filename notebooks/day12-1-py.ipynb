{
 "cells": [
  {
   "cell_type": "code",
   "execution_count": 3,
   "id": "60e1476d-dd3e-42cd-99ca-7a3c7715bd42",
   "metadata": {},
   "outputs": [
    {
     "data": {
      "text/plain": [
       "['???.### 1,1,3',\n",
       " '.??..??...?##. 1,1,3',\n",
       " '?#?#?#?#?#?#?#? 1,3,1,6',\n",
       " '????.#...#... 4,1,1',\n",
       " '????.######..#####. 1,6,5',\n",
       " '?###???????? 3,2,1']"
      ]
     },
     "execution_count": 3,
     "metadata": {},
     "output_type": "execute_result"
    }
   ],
   "source": [
    "text = \"\"\"\n",
    "???.### 1,1,3\n",
    ".??..??...?##. 1,1,3\n",
    "?#?#?#?#?#?#?#? 1,3,1,6\n",
    "????.#...#... 4,1,1\n",
    "????.######..#####. 1,6,5\n",
    "?###???????? 3,2,1\n",
    "\"\"\".strip()\n",
    "\n",
    "lines = text.split('\\n')\n",
    "lines"
   ]
  },
  {
   "cell_type": "code",
   "execution_count": 5,
   "id": "29e79c65-0de1-4b35-80e6-9b1665e83510",
   "metadata": {},
   "outputs": [
    {
     "data": {
      "text/plain": [
       "Spring(pattern='???.###', codes=[1, 1, 3])"
      ]
     },
     "execution_count": 5,
     "metadata": {},
     "output_type": "execute_result"
    }
   ],
   "source": [
    "from dataclasses import dataclass\n",
    "from typing import List\n",
    "\n",
    "@dataclass\n",
    "class Spring:\n",
    "    pattern: str\n",
    "    codes: List[int]\n",
    "\n",
    "    @staticmethod\n",
    "    def from_line(s: str):\n",
    "        \"input is a line like: ???.### 1,1,3\"\n",
    "        pattern, code_part = s.split()\n",
    "        codes = [int(part) for part in code_part.split(',')]\n",
    "        return Spring(pattern=pattern, codes=codes)\n",
    "\n",
    "    def solve(self) -> int:\n",
    "        \"\"\"\n",
    "        Return all the number of possible arrangements for replacing ? with . or #\n",
    "        in the pattern string so that the codes numbers match contiguous blocks of #\n",
    "        \"\"\"\n",
    "        \n",
    "\n",
    "spring = Spring.from_line(lines[0])\n",
    "spring"
   ]
  },
  {
   "cell_type": "code",
   "execution_count": null,
   "id": "b96c3e68-1ed2-441e-af98-fb16b82b2ed0",
   "metadata": {},
   "outputs": [],
   "source": [
    "assert Spring.from_line('???.### 1,1,3').solve() == 1\n",
    "assert Spring.from_line('.??..??...?##. 1,1,3').solve() == 4\n",
    "assert Spring.from_line('?#?#?#?#?#?#?#? 1,3,1,6').solve() == 1\n",
    "assert Spring.from_line('????.#...#... 4,1,1').solve() == 1\n",
    "assert Spring.from_line('????.######..#####. 1,6,5').solve() == 4\n",
    "assert Spring.from_line('?###???????? 3,2,1').solve() == 10"
   ]
  },
  {
   "cell_type": "code",
   "execution_count": 6,
   "id": "7e5cc430-fdfd-43d3-ba32-26b2146c4629",
   "metadata": {},
   "outputs": [
    {
     "data": {
      "text/plain": [
       "'Tests passed!'"
      ]
     },
     "execution_count": 6,
     "metadata": {},
     "output_type": "execute_result"
    }
   ],
   "source": [
    "from dataclasses import dataclass\n",
    "from typing import List\n",
    "\n",
    "@dataclass\n",
    "class Spring:\n",
    "    pattern: str\n",
    "    codes: List[int]\n",
    "\n",
    "    @staticmethod\n",
    "    def from_line(s: str):\n",
    "        pattern, code_part = s.split()\n",
    "        codes = [int(part) for part in code_part.split(',')]\n",
    "        return Spring(pattern=pattern, codes=codes)\n",
    "\n",
    "    def solve(self) -> int:\n",
    "        return self._solve_recursive(self.pattern, self.codes, 0)\n",
    "\n",
    "    def _solve_recursive(self, pattern: str, codes: List[int], code_index: int) -> int:\n",
    "        if '?' not in pattern:\n",
    "            return 1 if self._matches_codes(pattern, codes) else 0\n",
    "        \n",
    "        count = 0\n",
    "        question_mark_index = pattern.index('?')\n",
    "        # Replace '?' with '.' and solve recursively\n",
    "        new_pattern = pattern[:question_mark_index] + '.' + pattern[question_mark_index + 1:]\n",
    "        count += self._solve_recursive(new_pattern, codes, code_index)\n",
    "\n",
    "        # Replace '?' with '#' and solve recursively\n",
    "        new_pattern = pattern[:question_mark_index] + '#' + pattern[question_mark_index + 1:]\n",
    "        count += self._solve_recursive(new_pattern, codes, code_index)\n",
    "\n",
    "        return count\n",
    "\n",
    "    def _matches_codes(self, pattern: str, codes: List[int]) -> bool:\n",
    "        code_counts = []\n",
    "        count = 0\n",
    "\n",
    "        for char in pattern:\n",
    "            if char == '#':\n",
    "                count += 1\n",
    "            elif count > 0:\n",
    "                code_counts.append(count)\n",
    "                count = 0\n",
    "\n",
    "        if count > 0:\n",
    "            code_counts.append(count)\n",
    "\n",
    "        return code_counts == codes\n",
    "\n",
    "# Test cases\n",
    "assert Spring.from_line('???.### 1,1,3').solve() == 1\n",
    "assert Spring.from_line('.??..??...?##. 1,1,3').solve() == 4\n",
    "assert Spring.from_line('?#?#?#?#?#?#?#? 1,3,1,6').solve() == 1\n",
    "assert Spring.from_line('????.#...#... 4,1,1').solve() == 1\n",
    "assert Spring.from_line('????.######..#####. 1,6,5').solve() == 4\n",
    "assert Spring.from_line('?###???????? 3,2,1').solve() == 10\n",
    "\n",
    "\"Tests passed!\"\n"
   ]
  },
  {
   "cell_type": "code",
   "execution_count": 7,
   "id": "40d10057-c4d4-4dd8-aef2-a5f4cd802315",
   "metadata": {},
   "outputs": [
    {
     "data": {
      "text/plain": [
       "1000"
      ]
     },
     "execution_count": 7,
     "metadata": {},
     "output_type": "execute_result"
    }
   ],
   "source": [
    "lines = open('../data/day12.txt').readlines()\n",
    "len(lines)"
   ]
  },
  {
   "cell_type": "code",
   "execution_count": 8,
   "id": "3b33c0c9-a753-435a-b6a3-8b29c430e0bd",
   "metadata": {},
   "outputs": [
    {
     "data": {
      "text/plain": [
       "7705"
      ]
     },
     "execution_count": 8,
     "metadata": {},
     "output_type": "execute_result"
    }
   ],
   "source": [
    "answer = 0\n",
    "for line in lines:\n",
    "    spring = Spring.from_line(line)\n",
    "    answer += spring.solve()\n",
    "\n",
    "answer"
   ]
  },
  {
   "cell_type": "code",
   "execution_count": null,
   "id": "14c795cb-bac4-4b86-96e9-deeff67a7df3",
   "metadata": {},
   "outputs": [],
   "source": []
  }
 ],
 "metadata": {
  "kernelspec": {
   "display_name": "Python 3 (ipykernel)",
   "language": "python",
   "name": "python3"
  },
  "language_info": {
   "codemirror_mode": {
    "name": "ipython",
    "version": 3
   },
   "file_extension": ".py",
   "mimetype": "text/x-python",
   "name": "python",
   "nbconvert_exporter": "python",
   "pygments_lexer": "ipython3",
   "version": "3.11.4"
  }
 },
 "nbformat": 4,
 "nbformat_minor": 5
}
