{
 "cells": [
  {
   "cell_type": "code",
   "execution_count": null,
   "id": "1bc8af3f-fee7-4f1c-aa9b-2923eee63dc7",
   "metadata": {},
   "outputs": [],
   "source": [
    "text = \"\"\"\n",
    "RL\n",
    "\n",
    "AAA = (BBB, CCC)\n",
    "BBB = (DDD, EEE)\n",
    "CCC = (ZZZ, GGG)\n",
    "DDD = (DDD, DDD)\n",
    "EEE = (EEE, EEE)\n",
    "GGG = (GGG, GGG)\n",
    "ZZZ = (ZZZ, ZZZ)\n",
    "\"\"\"\n",
    "\n",
    "lines = text.strip().split('\\n')\n",
    "pattern = list(lines[0])\n",
    "pattern"
   ]
  },
  {
   "cell_type": "code",
   "execution_count": null,
   "id": "b5f8f464-1def-454b-911a-88cfc5d00bb9",
   "metadata": {},
   "outputs": [],
   "source": [
    "lines[2]"
   ]
  },
  {
   "cell_type": "code",
   "execution_count": null,
   "id": "4ea74407-dc5e-41fe-9482-0fb13889552c",
   "metadata": {},
   "outputs": [],
   "source": [
    "from dataclasses import dataclass\n",
    "\n",
    "@dataclass\n",
    "class Point:\n",
    "    name: str\n",
    "    left: str\n",
    "    right: str\n",
    "\n",
    "    @classmethod\n",
    "    def from_string(cls, s: str):\n",
    "        # sample: AAA = (BBB, CCC)\n",
    "        left1, right1 = s.split('=') # (AAA, (BBB, CCC))\n",
    "        left2, right2 = right1.strip().strip('()').split(',') # (BBB, CCC)\n",
    "        return cls(name=left1.strip(), left=left2.strip(), right=right2.strip())\n",
    "\n",
    "p = Point.from_string(lines[2])\n",
    "p"
   ]
  },
  {
   "cell_type": "code",
   "execution_count": null,
   "id": "dac3ece8-a9f3-42b9-adb7-b5690e597f48",
   "metadata": {},
   "outputs": [],
   "source": [
    "points = {}\n",
    "for line in lines[2:]:\n",
    "    p = Point.from_string(line)\n",
    "    points[p.name] = p\n",
    "\n",
    "points"
   ]
  },
  {
   "cell_type": "code",
   "execution_count": null,
   "id": "61dd6283-8361-40a7-a237-e2068be46959",
   "metadata": {},
   "outputs": [],
   "source": [
    "import itertools\n",
    "\n",
    "steps = 0\n",
    "cycle = itertools.cycle(pattern)\n",
    "while True:\n",
    "    if steps > 5:\n",
    "        break\n",
    "    print(next(cycle))\n",
    "    steps += 1"
   ]
  },
  {
   "cell_type": "code",
   "execution_count": null,
   "id": "aa8c93a2-870b-41fb-9970-350a37931267",
   "metadata": {},
   "outputs": [],
   "source": [
    "cycle = itertools.cycle(pattern)\n",
    "\n",
    "current = points['AAA']\n",
    "steps = 0\n",
    "while True:\n",
    "    if current.name == 'ZZZ':\n",
    "        break\n",
    "    direction = next(cycle)\n",
    "    if direction == 'R':\n",
    "        current = points[current.right]\n",
    "    else:\n",
    "        current = points[current.left]\n",
    "    steps += 1\n",
    "\n",
    "steps\n"
   ]
  },
  {
   "cell_type": "code",
   "execution_count": null,
   "id": "7c0f25b2-fb38-46b6-b735-7829c5bfbf40",
   "metadata": {},
   "outputs": [],
   "source": [
    "text = \"\"\"\n",
    "LLR\n",
    "\n",
    "AAA = (BBB, BBB)\n",
    "BBB = (AAA, ZZZ)\n",
    "ZZZ = (ZZZ, ZZZ)\n",
    "\"\"\"\n",
    "\n",
    "lines = text.strip().split('\\n')\n",
    "pattern = list(lines[0])\n",
    "\n",
    "points = {}\n",
    "for line in lines[2:]:\n",
    "    p = Point.from_string(line)\n",
    "    points[p.name] = p\n",
    "\n",
    "cycle = itertools.cycle(pattern)\n",
    "\n",
    "current = points['AAA']\n",
    "steps = 0\n",
    "while True:\n",
    "    if current.name == 'ZZZ':\n",
    "        break\n",
    "    direction = next(cycle)\n",
    "    if direction == 'R':\n",
    "        current = points[current.right]\n",
    "    else:\n",
    "        current = points[current.left]\n",
    "    steps += 1\n",
    "\n",
    "steps"
   ]
  },
  {
   "cell_type": "code",
   "execution_count": null,
   "id": "8a9fc0d1-cdcf-4136-be37-0293d2ac2131",
   "metadata": {},
   "outputs": [],
   "source": []
  }
 ],
 "metadata": {
  "kernelspec": {
   "display_name": "Python 3 (ipykernel)",
   "language": "python",
   "name": "python3"
  },
  "language_info": {
   "codemirror_mode": {
    "name": "ipython",
    "version": 3
   },
   "file_extension": ".py",
   "mimetype": "text/x-python",
   "name": "python",
   "nbconvert_exporter": "python",
   "pygments_lexer": "ipython3",
   "version": "3.10.13"
  }
 },
 "nbformat": 4,
 "nbformat_minor": 5
}
