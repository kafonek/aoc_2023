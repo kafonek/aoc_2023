{
 "cells": [
  {
   "cell_type": "code",
   "execution_count": 1,
   "id": "1953bb18-442a-4998-9e27-f0c3e233c174",
   "metadata": {},
   "outputs": [
    {
     "data": {
      "text/plain": [
       "['Game 1: 3 blue, 4 red; 1 red, 2 green, 6 blue; 2 green\\n',\n",
       " 'Game 2: 1 blue, 2 green; 3 green, 4 blue, 1 red; 1 green, 1 blue\\n',\n",
       " 'Game 3: 8 green, 6 blue, 20 red; 5 blue, 4 red, 13 green; 5 green, 1 red\\n',\n",
       " 'Game 4: 1 green, 3 red, 6 blue; 3 green, 6 red; 3 green, 15 blue, 14 red\\n',\n",
       " 'Game 5: 6 red, 1 blue, 3 green; 2 blue, 1 red, 2 green\\n']"
      ]
     },
     "execution_count": 1,
     "metadata": {},
     "output_type": "execute_result"
    }
   ],
   "source": [
    "lines = open('../train/day02-2.txt').readlines()\n",
    "lines"
   ]
  },
  {
   "cell_type": "code",
   "execution_count": 2,
   "id": "3e5211ea-597d-4f99-a407-ce9bf3483b54",
   "metadata": {},
   "outputs": [
    {
     "data": {
      "text/plain": [
       "Bag(blue=6, red=20, green=8)"
      ]
     },
     "execution_count": 2,
     "metadata": {},
     "output_type": "execute_result"
    }
   ],
   "source": [
    "from dataclasses import dataclass\n",
    "from typing import List, Optional\n",
    "\n",
    "@dataclass\n",
    "class Bag:\n",
    "    blue: Optional[int] = 0\n",
    "    red: Optional[int] = 0\n",
    "    green: Optional[int] = 0\n",
    "\n",
    "    @classmethod\n",
    "    def from_string(cls, s: str):\n",
    "        \"input should look something like: 3 blue, 4 red, 2 green\"\n",
    "        d = {}\n",
    "        for part in s.strip().split(','):\n",
    "            count, color = part.split()\n",
    "            d[color] = int(count)\n",
    "        return cls(**d)\n",
    "\n",
    "    def power(self) -> int:\n",
    "        return self.blue * self.red * self.green\n",
    "\n",
    "example = Bag.from_string(\"8 green, 6 blue, 20 red\")\n",
    "example"
   ]
  },
  {
   "cell_type": "code",
   "execution_count": 3,
   "id": "8cea91f7-0852-4a06-ab3b-64770f37872d",
   "metadata": {},
   "outputs": [
    {
     "data": {
      "text/plain": [
       "Game(id=1, bags=[Bag(blue=3, red=4, green=0), Bag(blue=6, red=1, green=2), Bag(blue=0, red=0, green=2)])"
      ]
     },
     "execution_count": 3,
     "metadata": {},
     "output_type": "execute_result"
    }
   ],
   "source": [
    "@dataclass\n",
    "class Game:\n",
    "    id: int\n",
    "    bags: List[Bag]\n",
    "\n",
    "    @classmethod\n",
    "    def from_string(cls, s: str):\n",
    "        \"input sould look something like: Game 1: 3 blue; ...\"\n",
    "        id_part, bag_parts = s.split(':', 1)\n",
    "        id = id_part.split()[-1]\n",
    "        bags = []\n",
    "        for part in bag_parts.split(';'):\n",
    "            bag = Bag.from_string(part)\n",
    "            bags.append(bag)\n",
    "        return cls(id=int(id), bags=bags)\n",
    "\n",
    "    def max_values(self) -> Bag:\n",
    "        max_blue = max_red = max_green = 0\n",
    "        for bag in self.bags:\n",
    "            max_blue = max(bag.blue, max_blue)\n",
    "            max_red = max(bag.red, max_red)\n",
    "            max_green = max(bag.green, max_green)\n",
    "        return Bag(blue=max_blue, red=max_red, green=max_green)\n",
    "\n",
    "g = Game.from_string('Game 1: 3 blue, 4 red; 1 red, 2 green, 6 blue; 2 green\\n')\n",
    "g"
   ]
  },
  {
   "cell_type": "code",
   "execution_count": 4,
   "id": "5b15c3b4-18c1-465f-b8be-d9ded6ccb066",
   "metadata": {},
   "outputs": [
    {
     "data": {
      "text/plain": [
       "Bag(blue=6, red=4, green=2)"
      ]
     },
     "execution_count": 4,
     "metadata": {},
     "output_type": "execute_result"
    }
   ],
   "source": [
    "g.max_values()"
   ]
  },
  {
   "cell_type": "code",
   "execution_count": 5,
   "id": "65929e89-9d8d-4596-9999-0e0a5135a88a",
   "metadata": {},
   "outputs": [
    {
     "data": {
      "text/plain": [
       "48"
      ]
     },
     "execution_count": 5,
     "metadata": {},
     "output_type": "execute_result"
    }
   ],
   "source": [
    "g.max_values().power()"
   ]
  },
  {
   "cell_type": "code",
   "execution_count": 6,
   "id": "d567d963-43f9-46a8-bd4e-c4bcf27cc177",
   "metadata": {},
   "outputs": [
    {
     "data": {
      "text/plain": [
       "[Game(id=1, bags=[Bag(blue=3, red=4, green=0), Bag(blue=6, red=1, green=2), Bag(blue=0, red=0, green=2)]),\n",
       " Game(id=2, bags=[Bag(blue=1, red=0, green=2), Bag(blue=4, red=1, green=3), Bag(blue=1, red=0, green=1)]),\n",
       " Game(id=3, bags=[Bag(blue=6, red=20, green=8), Bag(blue=5, red=4, green=13), Bag(blue=0, red=1, green=5)]),\n",
       " Game(id=4, bags=[Bag(blue=6, red=3, green=1), Bag(blue=0, red=6, green=3), Bag(blue=15, red=14, green=3)]),\n",
       " Game(id=5, bags=[Bag(blue=1, red=6, green=3), Bag(blue=2, red=1, green=2)])]"
      ]
     },
     "execution_count": 6,
     "metadata": {},
     "output_type": "execute_result"
    }
   ],
   "source": [
    "games = []\n",
    "for line in lines:\n",
    "    game = Game.from_string(line)\n",
    "    games.append(game)\n",
    "games"
   ]
  },
  {
   "cell_type": "code",
   "execution_count": 7,
   "id": "64da43d0-57bd-4505-93d0-1a2aab09a1a8",
   "metadata": {},
   "outputs": [
    {
     "name": "stdout",
     "output_type": "stream",
     "text": [
      "ID: 1. Power: 48\n",
      "ID: 2. Power: 12\n",
      "ID: 3. Power: 1560\n",
      "ID: 4. Power: 630\n",
      "ID: 5. Power: 36\n"
     ]
    }
   ],
   "source": [
    "for game in games:\n",
    "    print(f\"ID: {game.id}. Power: {game.max_values().power()}\")"
   ]
  },
  {
   "cell_type": "code",
   "execution_count": 8,
   "id": "0c8acdbb-fc40-49e0-98c1-d33d42f679a0",
   "metadata": {},
   "outputs": [
    {
     "data": {
      "text/plain": [
       "2286"
      ]
     },
     "execution_count": 8,
     "metadata": {},
     "output_type": "execute_result"
    }
   ],
   "source": [
    "power_sum = 0\n",
    "for game in games:\n",
    "    power_sum += game.max_values().power()\n",
    "power_sum"
   ]
  },
  {
   "cell_type": "code",
   "execution_count": 9,
   "id": "bca1916a-7942-4236-8006-33c082be8be0",
   "metadata": {},
   "outputs": [
    {
     "name": "stdout",
     "output_type": "stream",
     "text": [
      "2.76 ms ± 392 µs per loop (mean ± std. dev. of 7 runs, 100 loops each)\n"
     ]
    }
   ],
   "source": [
    "%%timeit\n",
    "\n",
    "from dataclasses import dataclass\n",
    "from typing import List, Optional\n",
    "\n",
    "@dataclass\n",
    "class Bag:\n",
    "    blue: Optional[int] = 0\n",
    "    red: Optional[int] = 0\n",
    "    green: Optional[int] = 0\n",
    "\n",
    "    @classmethod\n",
    "    def from_string(cls, s: str):\n",
    "        \"input should look something like: 3 blue, 4 red, 2 green\"\n",
    "        d = {}\n",
    "        for part in s.strip().split(','):\n",
    "            count, color = part.split()\n",
    "            d[color] = int(count)\n",
    "        return cls(**d)\n",
    "\n",
    "    def power(self) -> int:\n",
    "        return self.blue * self.red * self.green\n",
    "\n",
    "@dataclass\n",
    "class Game:\n",
    "    id: int\n",
    "    bags: List[Bag]\n",
    "\n",
    "    @classmethod\n",
    "    def from_string(cls, s: str):\n",
    "        \"input sould look something like: Game 1: 3 blue; ...\"\n",
    "        id_part, bag_parts = s.split(':', 1)\n",
    "        id = id_part.split()[-1]\n",
    "        bags = []\n",
    "        for part in bag_parts.split(';'):\n",
    "            bag = Bag.from_string(part)\n",
    "            bags.append(bag)\n",
    "        return cls(id=int(id), bags=bags)\n",
    "\n",
    "    def max_values(self) -> Bag:\n",
    "        max_blue = max_red = max_green = 0\n",
    "        for bag in self.bags:\n",
    "            max_blue = max(bag.blue, max_blue)\n",
    "            max_red = max(bag.red, max_red)\n",
    "            max_green = max(bag.green, max_green)\n",
    "        return Bag(blue=max_blue, red=max_red, green=max_green)\n",
    "\n",
    "\n",
    "lines = open('../prod/day02-2.txt').readlines()\n",
    "\n",
    "games = []\n",
    "for line in lines:\n",
    "    game = Game.from_string(line)\n",
    "    games.append(game)\n",
    "    \n",
    "power_sum = 0\n",
    "for game in games:\n",
    "    power_sum += game.max_values().power()\n",
    "    \n",
    "power_sum"
   ]
  },
  {
   "cell_type": "code",
   "execution_count": null,
   "id": "2795ea27-e55d-41ef-b14c-c5e2be594d69",
   "metadata": {},
   "outputs": [],
   "source": []
  }
 ],
 "metadata": {
  "kernelspec": {
   "display_name": "Python 3 (ipykernel)",
   "language": "python",
   "name": "python3"
  },
  "language_info": {
   "codemirror_mode": {
    "name": "ipython",
    "version": 3
   },
   "file_extension": ".py",
   "mimetype": "text/x-python",
   "name": "python",
   "nbconvert_exporter": "python",
   "pygments_lexer": "ipython3",
   "version": "3.11.4"
  }
 },
 "nbformat": 4,
 "nbformat_minor": 5
}
