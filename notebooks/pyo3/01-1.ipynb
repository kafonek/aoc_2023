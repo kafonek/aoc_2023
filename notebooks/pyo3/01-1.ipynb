{
 "cells": [
  {
   "cell_type": "code",
   "execution_count": 1,
   "id": "406d7bf0-75bb-43d6-bac9-57d1783d85aa",
   "metadata": {},
   "outputs": [
    {
     "data": {
      "text/plain": [
       "['1abc2', 'pqr3stu8vwx', 'a1b2c3d4e5f', 'treb7uchet']"
      ]
     },
     "execution_count": 1,
     "metadata": {},
     "output_type": "execute_result"
    }
   ],
   "source": [
    "text = \"\"\"\n",
    "1abc2\n",
    "pqr3stu8vwx\n",
    "a1b2c3d4e5f\n",
    "treb7uchet\n",
    "\"\"\"\n",
    "lines = text.split()\n",
    "lines"
   ]
  },
  {
   "cell_type": "code",
   "execution_count": 2,
   "id": "80d59ecb-7482-4bf5-aa26-07d589169544",
   "metadata": {},
   "outputs": [
    {
     "data": {
      "text/plain": [
       "Calibration"
      ]
     },
     "execution_count": 2,
     "metadata": {},
     "output_type": "execute_result"
    }
   ],
   "source": [
    "from aoc_2023_pyo3.day01 import Calibration\n",
    "Calibration"
   ]
  },
  {
   "cell_type": "code",
   "execution_count": 3,
   "id": "5add6aef-fc91-485b-8cc1-fc53207dea59",
   "metadata": {},
   "outputs": [
    {
     "data": {
      "text/plain": [
       "[<Calibration at 0x7f7636abeb80>,\n",
       " <Calibration at 0x7f7636abea60>,\n",
       " <Calibration at 0x7f7636abeb50>,\n",
       " <Calibration at 0x7f7636abc5a0>]"
      ]
     },
     "execution_count": 3,
     "metadata": {},
     "output_type": "execute_result"
    }
   ],
   "source": [
    "calibrations = []\n",
    "\n",
    "for line in lines:\n",
    "    calibrations.append(Calibration.from_line(line))\n",
    "    \n",
    "calibrations"
   ]
  },
  {
   "cell_type": "code",
   "execution_count": 4,
   "id": "0beade1a-8f28-4801-908c-129dbb86b0c8",
   "metadata": {},
   "outputs": [
    {
     "name": "stdout",
     "output_type": "stream",
     "text": [
      "12\n",
      "38\n",
      "15\n",
      "77\n"
     ]
    },
    {
     "data": {
      "text/plain": [
       "142"
      ]
     },
     "execution_count": 4,
     "metadata": {},
     "output_type": "execute_result"
    }
   ],
   "source": [
    "answer = 0\n",
    "for c in calibrations:\n",
    "    value = c.value()\n",
    "    print(value)\n",
    "    answer += value\n",
    "\n",
    "answer"
   ]
  },
  {
   "cell_type": "code",
   "execution_count": null,
   "id": "947d918b-40f0-4faf-9034-0015a1e77655",
   "metadata": {},
   "outputs": [],
   "source": []
  }
 ],
 "metadata": {
  "kernelspec": {
   "display_name": "Python 3 (ipykernel)",
   "language": "python",
   "name": "python3"
  },
  "language_info": {
   "codemirror_mode": {
    "name": "ipython",
    "version": 3
   },
   "file_extension": ".py",
   "mimetype": "text/x-python",
   "name": "python",
   "nbconvert_exporter": "python",
   "pygments_lexer": "ipython3",
   "version": "3.12.1"
  }
 },
 "nbformat": 4,
 "nbformat_minor": 5
}
