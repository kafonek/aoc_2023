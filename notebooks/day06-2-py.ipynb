{
 "cells": [
  {
   "cell_type": "code",
   "execution_count": 1,
   "id": "e23a0806-d2cf-4937-b3e8-4b6af226a03c",
   "metadata": {},
   "outputs": [
    {
     "data": {
      "text/plain": [
       "(71530, 940200)"
      ]
     },
     "execution_count": 1,
     "metadata": {},
     "output_type": "execute_result"
    }
   ],
   "source": [
    "text = \"\"\"\n",
    "Time:      7  15   30\n",
    "Distance:  9  40  200\n",
    "\"\"\"\n",
    "\n",
    "lines = text.strip().split('\\n')\n",
    "t = int(''.join(lines[0].split(':')[1].split()))\n",
    "d = int(''.join(lines[1].split(':')[1].split()))\n",
    "t, d"
   ]
  },
  {
   "cell_type": "code",
   "execution_count": 2,
   "id": "3f5d73a1-55e5-4efb-a38f-a4bc4ee812c8",
   "metadata": {},
   "outputs": [
    {
     "data": {
      "text/plain": [
       "Race(time=71530, distance_to_beat=940200, answer=71503)"
      ]
     },
     "execution_count": 2,
     "metadata": {},
     "output_type": "execute_result"
    }
   ],
   "source": [
    "from aoc_2023.day06 import Race\n",
    "\n",
    "r = Race(time=t, distance_to_beat=d)\n",
    "r.run()\n",
    "r"
   ]
  },
  {
   "cell_type": "code",
   "execution_count": null,
   "id": "5b380720-5749-444e-8ec0-aba03c87bb3f",
   "metadata": {},
   "outputs": [],
   "source": []
  }
 ],
 "metadata": {
  "kernelspec": {
   "display_name": "Python 3 (ipykernel)",
   "language": "python",
   "name": "python3"
  },
  "language_info": {
   "codemirror_mode": {
    "name": "ipython",
    "version": 3
   },
   "file_extension": ".py",
   "mimetype": "text/x-python",
   "name": "python",
   "nbconvert_exporter": "python",
   "pygments_lexer": "ipython3",
   "version": "3.11.4"
  }
 },
 "nbformat": 4,
 "nbformat_minor": 5
}
