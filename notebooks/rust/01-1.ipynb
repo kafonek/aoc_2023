{
 "cells": [
  {
   "cell_type": "code",
   "execution_count": 2,
   "id": "19cd7eee-dea8-484e-b3b3-06131fb38615",
   "metadata": {},
   "outputs": [],
   "source": [
    ":dep ../../rust"
   ]
  },
  {
   "cell_type": "code",
   "execution_count": 3,
   "id": "94b6647e-eb34-4a3e-a704-03871c826cec",
   "metadata": {},
   "outputs": [
    {
     "data": {
      "text/plain": [
       "[\"1abc2\", \"pqr3stu8vwx\", \"a1b2c3d4e5f\", \"treb7uchet\"]"
      ]
     },
     "execution_count": 3,
     "metadata": {},
     "output_type": "execute_result"
    }
   ],
   "source": [
    "let text = r#\"\n",
    "1abc2\n",
    "pqr3stu8vwx\n",
    "a1b2c3d4e5f\n",
    "treb7uchet\n",
    "\"#.trim();\n",
    "let lines: Vec<&str> = text.lines().collect();\n",
    "lines"
   ]
  },
  {
   "cell_type": "code",
   "execution_count": 4,
   "id": "1dbd5040-1360-4446-9bcb-493c3ac9fecb",
   "metadata": {},
   "outputs": [
    {
     "data": {
      "text/plain": [
       "12"
      ]
     },
     "execution_count": 4,
     "metadata": {},
     "output_type": "execute_result"
    }
   ],
   "source": [
    "use aoc_2023::day01::Calibration;\n",
    "\n",
    "let calibration = Calibration::from_line(&lines[0].to_string());\n",
    "calibration.value()"
   ]
  },
  {
   "cell_type": "code",
   "execution_count": 5,
   "id": "4f2dcdf0-d531-44d9-ba94-296d1254558c",
   "metadata": {},
   "outputs": [
    {
     "data": {
      "text/plain": [
       "142"
      ]
     },
     "execution_count": 5,
     "metadata": {},
     "output_type": "execute_result"
    }
   ],
   "source": [
    "let mut answer = 0;\n",
    "for line in &lines {\n",
    "    let calibration = Calibration::from_line(&line.to_string());\n",
    "    answer += calibration.value();\n",
    "}\n",
    "answer"
   ]
  },
  {
   "cell_type": "code",
   "execution_count": null,
   "id": "5b0b6857-2783-4819-a04a-fb79628a26d6",
   "metadata": {},
   "outputs": [],
   "source": []
  }
 ],
 "metadata": {
  "kernelspec": {
   "display_name": "Rust",
   "language": "rust",
   "name": "rust"
  },
  "language_info": {
   "codemirror_mode": "rust",
   "file_extension": ".rs",
   "mimetype": "text/rust",
   "name": "Rust",
   "pygment_lexer": "rust",
   "version": ""
  }
 },
 "nbformat": 4,
 "nbformat_minor": 5
}
