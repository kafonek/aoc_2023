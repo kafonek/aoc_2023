{
 "cells": [
  {
   "cell_type": "code",
   "execution_count": 1,
   "id": "e6df2ac6-0951-46d4-9b61-f70026b0cba8",
   "metadata": {},
   "outputs": [
    {
     "data": {
      "text/plain": [
       "['0 3 6 9 12 15', '1 3 6 10 15 21', '10 13 16 21 30 45']"
      ]
     },
     "execution_count": 1,
     "metadata": {},
     "output_type": "execute_result"
    }
   ],
   "source": [
    "text = \"\"\"\n",
    "0 3 6 9 12 15\n",
    "1 3 6 10 15 21\n",
    "10 13 16 21 30 45\n",
    "\"\"\"\n",
    "\n",
    "lines = text.strip().split('\\n')\n",
    "lines"
   ]
  },
  {
   "cell_type": "code",
   "execution_count": 2,
   "id": "d3b57f19-eab6-4530-9cbd-89af1b31374c",
   "metadata": {},
   "outputs": [
    {
     "data": {
      "text/plain": [
       "[[3, 3, 5, 9, 15], [0, 2, 4, 6], [2, 2, 2], [0, 0], [0]]"
      ]
     },
     "execution_count": 2,
     "metadata": {},
     "output_type": "execute_result"
    }
   ],
   "source": [
    "from aoc_2023.day09 import make_diffs, make_diff_hierarchy, next_diffs\n",
    "        \n",
    "nums = [int(c) for c in lines[2].split()]\n",
    "diffs = make_diff_hierarchy(nums)\n",
    "diffs"
   ]
  },
  {
   "cell_type": "code",
   "execution_count": 3,
   "id": "c77a17df-e4c8-4906-ae8b-f6b628cabe2c",
   "metadata": {},
   "outputs": [
    {
     "data": {
      "text/plain": [
       "[0, 2, 8, 23]"
      ]
     },
     "execution_count": 3,
     "metadata": {},
     "output_type": "execute_result"
    }
   ],
   "source": [
    "nd = next_diffs(diffs)\n",
    "nd"
   ]
  },
  {
   "cell_type": "code",
   "execution_count": 4,
   "id": "640f75ea-d8a4-4e97-81cf-75b952a12495",
   "metadata": {},
   "outputs": [
    {
     "data": {
      "text/plain": [
       "68"
      ]
     },
     "execution_count": 4,
     "metadata": {},
     "output_type": "execute_result"
    }
   ],
   "source": [
    "nums[-1] + nd[-1]"
   ]
  },
  {
   "cell_type": "code",
   "execution_count": 5,
   "id": "223583a8-8cf5-499a-8fed-e589807860b4",
   "metadata": {},
   "outputs": [
    {
     "name": "stdout",
     "output_type": "stream",
     "text": [
      "18\n",
      "28\n",
      "68\n"
     ]
    },
    {
     "data": {
      "text/plain": [
       "114"
      ]
     },
     "execution_count": 5,
     "metadata": {},
     "output_type": "execute_result"
    }
   ],
   "source": [
    "total = 0\n",
    "for line in lines:\n",
    "    nums = [int(c) for c in line.split()]\n",
    "    diffs = make_diff_hierarchy(nums)\n",
    "    nd = next_diffs(diffs)\n",
    "    answer = nums[-1] + nd[-1]\n",
    "    print(answer)\n",
    "    total += answer\n",
    "\n",
    "total"
   ]
  },
  {
   "cell_type": "code",
   "execution_count": null,
   "id": "c7c122cb-dfe8-4023-936b-326182b32ba8",
   "metadata": {},
   "outputs": [],
   "source": []
  }
 ],
 "metadata": {
  "kernelspec": {
   "display_name": "Python 3 (ipykernel)",
   "language": "python",
   "name": "python3"
  },
  "language_info": {
   "codemirror_mode": {
    "name": "ipython",
    "version": 3
   },
   "file_extension": ".py",
   "mimetype": "text/x-python",
   "name": "python",
   "nbconvert_exporter": "python",
   "pygments_lexer": "ipython3",
   "version": "3.11.4"
  }
 },
 "nbformat": 4,
 "nbformat_minor": 5
}
