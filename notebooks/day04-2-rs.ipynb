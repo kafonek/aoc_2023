{
 "cells": [
  {
   "cell_type": "code",
   "execution_count": 2,
   "id": "0f14a77d-d2ec-4c44-886a-5c2186551d9d",
   "metadata": {},
   "outputs": [
    {
     "data": {
      "text/plain": [
       "[\"Card 1: 41 48 83 86 17 | 83 86  6 31 17  9 48 53\", \"Card 2: 13 32 20 16 61 | 61 30 68 82 17 32 24 19\", \"Card 3:  1 21 53 59 44 | 69 82 63 72 16 21 14  1\", \"Card 4: 41 92 73 84 69 | 59 84 76 51 58  5 54 83\", \"Card 5: 87 83 26 28 32 | 88 30 70 12 93 22 82 36\", \"Card 6: 31 18 13 56 72 | 74 77 10 23 35 67 36 11\"]"
      ]
     },
     "execution_count": 2,
     "metadata": {},
     "output_type": "execute_result"
    }
   ],
   "source": [
    "let text = r#\"\n",
    "Card 1: 41 48 83 86 17 | 83 86  6 31 17  9 48 53\n",
    "Card 2: 13 32 20 16 61 | 61 30 68 82 17 32 24 19\n",
    "Card 3:  1 21 53 59 44 | 69 82 63 72 16 21 14  1\n",
    "Card 4: 41 92 73 84 69 | 59 84 76 51 58  5 54 83\n",
    "Card 5: 87 83 26 28 32 | 88 30 70 12 93 22 82 36\n",
    "Card 6: 31 18 13 56 72 | 74 77 10 23 35 67 36 11\n",
    "\"#;\n",
    "let lines: Vec<&str> = text.trim().lines().collect();\n",
    "lines"
   ]
  },
  {
   "cell_type": "code",
   "execution_count": 3,
   "id": "c67e3479-d5f4-4f25-9751-d22bb0b52d4e",
   "metadata": {},
   "outputs": [
    {
     "data": {
      "text/plain": [
       "Card { id: 1, winning_numbers: [41, 48, 83, 86, 17], guess_numbers: [83, 86, 6, 31, 17, 9, 48, 53] }"
      ]
     },
     "execution_count": 3,
     "metadata": {},
     "output_type": "execute_result"
    }
   ],
   "source": [
    "#[derive(Debug)]\n",
    "struct Card {\n",
    "    pub id: i32,\n",
    "    winning_numbers: Vec<i32>,\n",
    "    guess_numbers: Vec<i32>,\n",
    "}\n",
    "\n",
    "impl Card {\n",
    "    fn from_string(s: &str) -> Card {\n",
    "        let parts: Vec<&str> = s.splitn(2, ':').collect();\n",
    "        let card = parts[0];\n",
    "        let numbers = parts[1];\n",
    "\n",
    "        let id: i32 = card\n",
    "            .split_whitespace()\n",
    "            .nth(1)\n",
    "            .expect(\"Error parsing Card ID\")\n",
    "            .parse()\n",
    "            .expect(\"Error converting Card ID to i32\");\n",
    "        \n",
    "        let number_parts: Vec<&str> = numbers.splitn(2, '|').collect();\n",
    "        let winning_numbers: Vec<i32> = number_parts[0]\n",
    "            .split_whitespace()\n",
    "            .map(|n| n.parse().expect(\"Error converting winning number to i32\"))\n",
    "            .collect();\n",
    "        let guess_numbers: Vec<i32> = number_parts[1]\n",
    "            .split_whitespace()\n",
    "            .map(|n| n.parse().expect(\"Error converting guess number to i32\"))\n",
    "            .collect();\n",
    "        Card {\n",
    "            id,\n",
    "            winning_numbers,\n",
    "            guess_numbers\n",
    "        }\n",
    "    }\n",
    "\n",
    "    fn copies(&self) -> Vec<i32> {\n",
    "        let copy_range = self.guess_numbers\n",
    "            .iter()\n",
    "            .filter(|n| self.winning_numbers.contains(n))\n",
    "            .count();\n",
    "        let start = self.id + 1;\n",
    "        let stop = start + copy_range as i32;\n",
    "        (start..stop).collect()\n",
    "    }\n",
    "}\n",
    "\n",
    "let c = Card::from_string(&lines[0]);\n",
    "c"
   ]
  },
  {
   "cell_type": "code",
   "execution_count": 4,
   "id": "586b8df7-fe1a-4c06-8255-406b5ae4b0d4",
   "metadata": {},
   "outputs": [
    {
     "data": {
      "text/plain": [
       "[2, 3, 4, 5]"
      ]
     },
     "execution_count": 4,
     "metadata": {},
     "output_type": "execute_result"
    }
   ],
   "source": [
    "c.copies()"
   ]
  },
  {
   "cell_type": "code",
   "execution_count": 5,
   "id": "bdfdccd3-093f-4b72-b510-9d35d73954a1",
   "metadata": {},
   "outputs": [
    {
     "data": {
      "text/plain": [
       "{5: 14, 6: 1, 1: 1, 2: 2, 3: 4, 4: 8}"
      ]
     },
     "execution_count": 5,
     "metadata": {},
     "output_type": "execute_result"
    }
   ],
   "source": [
    "use std::collections::HashMap;\n",
    "\n",
    "let mut cards: Vec<Card> = Vec::new();\n",
    "for line in &lines {\n",
    "    cards.push(Card::from_string(line));\n",
    "}\n",
    "\n",
    "// basically {card.id: 1 for card in cards}\n",
    "let mut counts: HashMap<i32, i32> = cards.iter().map(|card| (card.id, 1)).collect();\n",
    "\n",
    "for card in &cards {\n",
    "    let mult = *counts.get(&card.id).unwrap();\n",
    "    for copy in card.copies() {\n",
    "        if let Some(count) = counts.get_mut(&copy) {\n",
    "            *count += mult;\n",
    "        }\n",
    "    }\n",
    "}\n",
    "\n",
    "counts"
   ]
  },
  {
   "cell_type": "code",
   "execution_count": 6,
   "id": "e9b6f67d-e589-41c7-a92e-72a9953badfb",
   "metadata": {},
   "outputs": [
    {
     "data": {
      "text/plain": [
       "30"
      ]
     },
     "execution_count": 6,
     "metadata": {},
     "output_type": "execute_result"
    }
   ],
   "source": [
    "counts.values().into_iter().sum::<i32>()"
   ]
  },
  {
   "cell_type": "code",
   "execution_count": null,
   "id": "9df95c7d-18cf-4947-a9d6-f5d83185beef",
   "metadata": {},
   "outputs": [],
   "source": []
  }
 ],
 "metadata": {
  "kernelspec": {
   "display_name": "Rust",
   "language": "rust",
   "name": "rust"
  },
  "language_info": {
   "codemirror_mode": "rust",
   "file_extension": ".rs",
   "mimetype": "text/rust",
   "name": "Rust",
   "pygment_lexer": "rust",
   "version": ""
  }
 },
 "nbformat": 4,
 "nbformat_minor": 5
}
