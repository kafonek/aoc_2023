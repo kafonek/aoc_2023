{
 "cells": [
  {
   "cell_type": "code",
   "execution_count": 2,
   "id": "2e69f416-c27c-45c7-b86c-e4f15768859c",
   "metadata": {},
   "outputs": [],
   "source": [
    ":dep regex"
   ]
  },
  {
   "cell_type": "code",
   "execution_count": 3,
   "id": "473da186-e48c-4ae8-8a5f-81891dc12a9b",
   "metadata": {},
   "outputs": [
    {
     "data": {
      "text/plain": [
       "[\"two1nine\", \"eightwothree\", \"abcone2threexyz\", \"xtwone3four\", \"4nineeightseven2\", \"zoneight234\", \"7pqrstsixteen\"]"
      ]
     },
     "execution_count": 3,
     "metadata": {},
     "output_type": "execute_result"
    }
   ],
   "source": [
    "use std::fs::File;\n",
    "use std::io::BufReader;\n",
    "use std::io::BufRead;\n",
    "\n",
    "let f = File::open(\"../train/day01-2.txt\").unwrap();\n",
    "let reader = BufReader::new(f);\n",
    "let lines: Vec<String> = reader.lines().map(|l| l.unwrap()).collect();\n",
    "lines"
   ]
  },
  {
   "cell_type": "code",
   "execution_count": 4,
   "id": "03e43237-dc4c-4e44-aa69-f8a42509ebbd",
   "metadata": {},
   "outputs": [
    {
     "data": {
      "text/plain": [
       "[(\"one\", \"1\"), (\"two\", \"2\"), (\"three\", \"3\"), (\"four\", \"4\"), (\"five\", \"5\"), (\"six\", \"6\"), (\"seven\", \"7\"), (\"eight\", \"8\"), (\"nine\", \"9\")]"
      ]
     },
     "execution_count": 4,
     "metadata": {},
     "output_type": "execute_result"
    }
   ],
   "source": [
    "let tuples = [\n",
    "        (\"one\", \"1\"),\n",
    "        (\"two\", \"2\"),\n",
    "        (\"three\", \"3\"),\n",
    "        (\"four\", \"4\"),\n",
    "        (\"five\", \"5\"),\n",
    "        (\"six\", \"6\"),\n",
    "        (\"seven\", \"7\"),\n",
    "        (\"eight\", \"8\"),\n",
    "        (\"nine\", \"9\"),\n",
    "    ];\n",
    "\n",
    "tuples"
   ]
  },
  {
   "cell_type": "code",
   "execution_count": 5,
   "id": "fc3366db-3056-4fc1-a839-2305b72e05c4",
   "metadata": {},
   "outputs": [
    {
     "data": {
      "text/plain": [
       "Regex(\"one|two|three|four|five|six|seven|eight|nine|\\\\d\")"
      ]
     },
     "execution_count": 5,
     "metadata": {},
     "output_type": "execute_result"
    }
   ],
   "source": [
    "use regex::Regex;\n",
    "\n",
    "let pattern: String = tuples.iter()\n",
    "        .map(|(key, _)| *key)\n",
    "        .chain(std::iter::once(\"\\\\d\"))\n",
    "        .collect::<Vec<&str>>()\n",
    "        .join(\"|\");\n",
    "let re = Regex::new(&pattern).unwrap();\n",
    "re"
   ]
  },
  {
   "cell_type": "code",
   "execution_count": 6,
   "id": "0571d470-e43c-4d28-aa9a-83d50eeb0363",
   "metadata": {},
   "outputs": [
    {
     "data": {
      "text/plain": [
       "{\"five\": \"5\", \"three\": \"3\", \"four\": \"4\", \"two\": \"2\", \"six\": \"6\", \"nine\": \"9\", \"one\": \"1\", \"seven\": \"7\", \"eight\": \"8\"}"
      ]
     },
     "execution_count": 6,
     "metadata": {},
     "output_type": "execute_result"
    }
   ],
   "source": [
    "use std::collections::HashMap;\n",
    "\n",
    "let maps: HashMap<_, _> = tuples.into_iter().collect();\n",
    "maps"
   ]
  },
  {
   "cell_type": "code",
   "execution_count": 7,
   "id": "6f5d8dc7-81e9-427e-9a83-9fd50baa3722",
   "metadata": {},
   "outputs": [
    {
     "data": {
      "text/plain": [
       "[\"2\", \"1\", \"9\"]"
      ]
     },
     "execution_count": 7,
     "metadata": {},
     "output_type": "execute_result"
    }
   ],
   "source": [
    "let mut matches = Vec::new();\n",
    "let mut start = 0;\n",
    "while let Some(matched) = re.find(&lines[0][start..]) {\n",
    "    let word_or_digit = matched.as_str();\n",
    "    start += matched.start() + 1;\n",
    "\n",
    "    let map_value = maps.get(word_or_digit).unwrap_or(&word_or_digit);\n",
    "    matches.push(map_value.to_string());\n",
    "}\n",
    "matches"
   ]
  },
  {
   "cell_type": "code",
   "execution_count": 8,
   "id": "06c02b61-c1d9-497a-8a0d-18b65684f662",
   "metadata": {},
   "outputs": [
    {
     "data": {
      "text/plain": [
       "[[\"2\", \"1\", \"9\"], [\"8\", \"2\", \"3\"], [\"1\", \"2\", \"3\"], [\"2\", \"1\", \"3\", \"4\"], [\"4\", \"9\", \"8\", \"7\", \"2\"], [\"1\", \"8\", \"2\", \"3\", \"4\"], [\"7\", \"6\"]]"
      ]
     },
     "execution_count": 8,
     "metadata": {},
     "output_type": "execute_result"
    }
   ],
   "source": [
    "let mut extracted_digits: Vec<Vec<String>> = Vec::new();\n",
    "\n",
    "for line in &lines {\n",
    "    let mut matches = Vec::new();\n",
    "    let mut start = 0;\n",
    "    while let Some(matched) = re.find(&line[start..]) {\n",
    "        let word_or_digit = matched.as_str();\n",
    "        start += matched.start() + 1;\n",
    "    \n",
    "        let map_value = maps.get(word_or_digit).unwrap_or(&word_or_digit);\n",
    "        matches.push(map_value.to_string());\n",
    "    }\n",
    "    extracted_digits.push(matches);\n",
    "}\n",
    "extracted_digits"
   ]
  },
  {
   "cell_type": "code",
   "execution_count": 9,
   "id": "f79a1234-53be-40e3-b7d9-c4ac1211b463",
   "metadata": {},
   "outputs": [
    {
     "data": {
      "text/plain": [
       "[\"29\", \"83\", \"13\", \"24\", \"42\", \"14\", \"76\"]"
      ]
     },
     "execution_count": 9,
     "metadata": {},
     "output_type": "execute_result"
    }
   ],
   "source": [
    "let mut combines: Vec<String> = Vec::new();\n",
    "for item in &extracted_digits {\n",
    "    let combine = {\n",
    "        let first = {\n",
    "            let i = item.first().unwrap();\n",
    "            maps.get(i.as_str()).unwrap_or(&i.as_str()).to_string()\n",
    "        };\n",
    "        let second = {\n",
    "            let i = item.last().unwrap();\n",
    "            maps.get(i.as_str()).unwrap_or(&i.as_str()).to_string()\n",
    "        };\n",
    "        format!(\"{}{}\", first, second)\n",
    "    };\n",
    "    combines.push(combine);\n",
    "}\n",
    "combines"
   ]
  },
  {
   "cell_type": "code",
   "execution_count": 10,
   "id": "70d977c5-69f0-41f6-9874-c269c0732296",
   "metadata": {},
   "outputs": [
    {
     "data": {
      "text/plain": [
       "[29, 83, 13, 24, 42, 14, 76]"
      ]
     },
     "execution_count": 10,
     "metadata": {},
     "output_type": "execute_result"
    }
   ],
   "source": [
    "let combines_n = combines.iter().map(|s| s.parse::<i32>().unwrap()).collect::<Vec<i32>>();\n",
    "combines_n"
   ]
  },
  {
   "cell_type": "code",
   "execution_count": 11,
   "id": "3a734d43-4f53-4c11-9a8a-128560260843",
   "metadata": {},
   "outputs": [
    {
     "data": {
      "text/plain": [
       "281"
      ]
     },
     "execution_count": 11,
     "metadata": {},
     "output_type": "execute_result"
    }
   ],
   "source": [
    "combines_n.iter().sum::<i32>()"
   ]
  },
  {
   "cell_type": "code",
   "execution_count": null,
   "id": "00101e60-24af-48db-a33a-7902b9883304",
   "metadata": {},
   "outputs": [],
   "source": []
  }
 ],
 "metadata": {
  "kernelspec": {
   "display_name": "Rust",
   "language": "rust",
   "name": "rust"
  },
  "language_info": {
   "codemirror_mode": "rust",
   "file_extension": ".rs",
   "mimetype": "text/rust",
   "name": "Rust",
   "pygment_lexer": "rust",
   "version": ""
  }
 },
 "nbformat": 4,
 "nbformat_minor": 5
}
