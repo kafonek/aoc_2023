{
 "cells": [
  {
   "cell_type": "code",
   "execution_count": 14,
   "id": "a2c2ee81-14bb-4001-8fde-465ec401094c",
   "metadata": {},
   "outputs": [
    {
     "data": {
      "text/plain": [
       "<Graph (10, 10)>"
      ]
     },
     "execution_count": 14,
     "metadata": {},
     "output_type": "execute_result"
    }
   ],
   "source": [
    "from aoc_2023.gridgraph import Graph\n",
    "\n",
    "text = \"\"\"\n",
    "O....#....\n",
    "O.OO#....#\n",
    ".....##...\n",
    "OO.#O....O\n",
    ".O.....O#.\n",
    "O.#..O.#.#\n",
    "..O..#O..O\n",
    ".......O..\n",
    "#....###..\n",
    "#OO..#....\n",
    "\"\"\"\n",
    "\n",
    "graph = Graph.from_string(text.strip())\n",
    "graph"
   ]
  },
  {
   "cell_type": "code",
   "execution_count": 15,
   "id": "61f83e05-222b-4a37-b1d8-ef69aa1ddad7",
   "metadata": {},
   "outputs": [
    {
     "name": "stdout",
     "output_type": "stream",
     "text": [
      "O....#....\n",
      "O.OO#....#\n",
      ".....##...\n",
      "OO.#O....O\n",
      ".O.....O#.\n",
      "O.#..O.#.#\n",
      "..O..#O..O\n",
      ".......O..\n",
      "#....###..\n",
      "#OO..#....\n",
      "\n"
     ]
    }
   ],
   "source": [
    "print(str(graph))"
   ]
  },
  {
   "cell_type": "code",
   "execution_count": 16,
   "id": "501b8896-e104-42a9-b4bc-c2317053c965",
   "metadata": {},
   "outputs": [
    {
     "data": {
      "text/plain": [
       "[<Node (0 0): O>,\n",
       " <Node (0 1): O>,\n",
       " <Node (0 2): .>,\n",
       " <Node (0 3): O>,\n",
       " <Node (0 4): .>,\n",
       " <Node (0 5): O>,\n",
       " <Node (0 6): .>,\n",
       " <Node (0 7): .>,\n",
       " <Node (0 8): #>,\n",
       " <Node (0 9): #>]"
      ]
     },
     "execution_count": 16,
     "metadata": {},
     "output_type": "execute_result"
    }
   ],
   "source": [
    "col = graph.get_col(0)\n",
    "col"
   ]
  },
  {
   "cell_type": "code",
   "execution_count": 17,
   "id": "af3d48e5-de03-4a8f-ba8f-052dc6c77fe2",
   "metadata": {},
   "outputs": [
    {
     "data": {
      "text/plain": [
       "[<Node (0 0): O>,\n",
       " <Node (0 1): O>,\n",
       " <Node (0 2): O>,\n",
       " <Node (0 3): .>,\n",
       " <Node (0 4): O>,\n",
       " <Node (0 5): .>,\n",
       " <Node (0 6): .>,\n",
       " <Node (0 7): .>,\n",
       " <Node (0 8): #>,\n",
       " <Node (0 9): #>]"
      ]
     },
     "execution_count": 17,
     "metadata": {},
     "output_type": "execute_result"
    }
   ],
   "source": [
    "for node in col:\n",
    "    neighbor = node.up()\n",
    "    if neighbor and node.value == 'O' and neighbor.value == '.':\n",
    "        node.swap(neighbor)\n",
    "graph.get_col(0)"
   ]
  },
  {
   "cell_type": "code",
   "execution_count": 18,
   "id": "516ba089-094b-4235-bd28-2956d111849f",
   "metadata": {},
   "outputs": [
    {
     "name": "stdout",
     "output_type": "stream",
     "text": [
      "OOOO.#.O..\n",
      "OO..#....#\n",
      "OO..O##..O\n",
      "O..#.OO...\n",
      "........#.\n",
      "..#....#.#\n",
      "..O..#.O.O\n",
      "..O.......\n",
      "#....###..\n",
      "#....#....\n",
      "\n"
     ]
    }
   ],
   "source": [
    "for col in graph.cols():\n",
    "    while True:\n",
    "        changes = 0\n",
    "        for node in col:\n",
    "            neighbor = node.up()\n",
    "            if neighbor and node.value == 'O' and neighbor.value == '.':\n",
    "                node.swap(neighbor)\n",
    "                changes += 1\n",
    "        if not changes:\n",
    "            break\n",
    "\n",
    "print(str(graph))"
   ]
  },
  {
   "cell_type": "code",
   "execution_count": 19,
   "id": "a1fad5cc-9852-4110-8357-aab7047440c4",
   "metadata": {},
   "outputs": [
    {
     "data": {
      "text/plain": [
       "<Node (0 0): O>"
      ]
     },
     "execution_count": 19,
     "metadata": {},
     "output_type": "execute_result"
    }
   ],
   "source": [
    "graph.get_node(0, 0)"
   ]
  },
  {
   "cell_type": "code",
   "execution_count": 20,
   "id": "fe3a3cb0-7377-423d-bd60-fc439152e6bc",
   "metadata": {},
   "outputs": [
    {
     "data": {
      "text/plain": [
       "(10, 10)"
      ]
     },
     "execution_count": 20,
     "metadata": {},
     "output_type": "execute_result"
    }
   ],
   "source": [
    "graph.shape"
   ]
  },
  {
   "cell_type": "code",
   "execution_count": 22,
   "id": "559038e8-8241-4d80-a641-dcf4bc3d959b",
   "metadata": {},
   "outputs": [
    {
     "data": {
      "text/plain": [
       "136"
      ]
     },
     "execution_count": 22,
     "metadata": {},
     "output_type": "execute_result"
    }
   ],
   "source": [
    "answer = 0\n",
    "max_row = graph.shape[0]\n",
    "for node in graph.flatten():\n",
    "    if node.value == 'O':\n",
    "        answer += max_row - node.row\n",
    "\n",
    "answer"
   ]
  },
  {
   "cell_type": "code",
   "execution_count": 23,
   "id": "fdda51e1-bfa0-4b78-bc3f-8ece950d7612",
   "metadata": {},
   "outputs": [
    {
     "data": {
      "text/plain": [
       "<Graph (100, 100)>"
      ]
     },
     "execution_count": 23,
     "metadata": {},
     "output_type": "execute_result"
    }
   ],
   "source": [
    "text = open('../../data/day14.txt').read()\n",
    "\n",
    "graph = Graph.from_string(text)\n",
    "graph"
   ]
  },
  {
   "cell_type": "code",
   "execution_count": 24,
   "id": "bd0cafaf-af16-4017-bc8d-91a1dccdd008",
   "metadata": {},
   "outputs": [],
   "source": [
    "for col in graph.cols():\n",
    "    while True:\n",
    "        changes = 0\n",
    "        for node in col:\n",
    "            neighbor = node.up()\n",
    "            if neighbor and node.value == 'O' and neighbor.value == '.':\n",
    "                node.swap(neighbor)\n",
    "                changes += 1\n",
    "        if not changes:\n",
    "            break"
   ]
  },
  {
   "cell_type": "code",
   "execution_count": 25,
   "id": "9726a571-b70f-4f8a-8e0f-d662514e331d",
   "metadata": {},
   "outputs": [
    {
     "data": {
      "text/plain": [
       "109833"
      ]
     },
     "execution_count": 25,
     "metadata": {},
     "output_type": "execute_result"
    }
   ],
   "source": [
    "answer = 0\n",
    "max_row = graph.shape[0]\n",
    "for node in graph.flatten():\n",
    "    if node.value == 'O':\n",
    "        answer += max_row - node.row\n",
    "\n",
    "answer"
   ]
  },
  {
   "cell_type": "code",
   "execution_count": null,
   "id": "0e15906d-0d31-4e0d-aa5c-b9ebefeea1f8",
   "metadata": {},
   "outputs": [],
   "source": []
  }
 ],
 "metadata": {
  "kernelspec": {
   "display_name": "Python 3 (ipykernel)",
   "language": "python",
   "name": "python3"
  },
  "language_info": {
   "codemirror_mode": {
    "name": "ipython",
    "version": 3
   },
   "file_extension": ".py",
   "mimetype": "text/x-python",
   "name": "python",
   "nbconvert_exporter": "python",
   "pygments_lexer": "ipython3",
   "version": "3.11.4"
  }
 },
 "nbformat": 4,
 "nbformat_minor": 5
}
