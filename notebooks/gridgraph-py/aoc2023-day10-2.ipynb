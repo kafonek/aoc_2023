{
 "cells": [
  {
   "cell_type": "code",
   "execution_count": 31,
   "id": "a62fffd3-a374-4464-b470-9344e4392d0d",
   "metadata": {},
   "outputs": [
    {
     "data": {
      "text/plain": [
       "<Graph (9, 11)>"
      ]
     },
     "execution_count": 31,
     "metadata": {},
     "output_type": "execute_result"
    }
   ],
   "source": [
    "from aoc_2023.gridgraph import Graph, Node\n",
    "\n",
    "text = \"\"\"\n",
    "...........\n",
    ".S-------7.\n",
    ".|F-----7|.\n",
    ".||.....||.\n",
    ".||.....||.\n",
    ".|L-7.F-J|.\n",
    ".|..|.|..|.\n",
    ".L--J.L--J.\n",
    "...........\n",
    "\"\"\"\n",
    "\n",
    "graph = Graph.from_string(text.strip())\n",
    "graph"
   ]
  },
  {
   "cell_type": "code",
   "execution_count": 32,
   "id": "a3515e43-90d0-4353-938f-34dff00b7cb9",
   "metadata": {},
   "outputs": [
    {
     "data": {
      "text/plain": [
       "46"
      ]
     },
     "execution_count": 32,
     "metadata": {},
     "output_type": "execute_result"
    }
   ],
   "source": [
    "graph.edges.clear()\n",
    "\n",
    "for node in graph.flatten():\n",
    "    if node.value in ['-', 'J', '7', 'S']:\n",
    "        left = node.left()\n",
    "        if left and left.value in ['-', 'L', 'F', 'S']:\n",
    "            node.add_edge(left)\n",
    "    if node.value in ['-', 'L', 'F', 'S']:\n",
    "        right = node.right()\n",
    "        if right and right.value in ['-', 'J', '7', 'S']:\n",
    "            node.add_edge(right)\n",
    "    if node.value in ['|', 'L', 'J', 'S']:\n",
    "        up = node.up()\n",
    "        if up and up.value in ['|', '7', 'F', 'S']:\n",
    "            node.add_edge(up)\n",
    "    if node.value in ['|', '7', 'F', 'S']:\n",
    "        down = node.down()\n",
    "        if down and down.value in ['|', 'L', 'J', 'S']:\n",
    "            node.add_edge(down)\n",
    "\n",
    "len(graph.edges)"
   ]
  },
  {
   "cell_type": "code",
   "execution_count": 33,
   "id": "1d3f94d2-4b37-4f5e-bab0-2e98e4e55657",
   "metadata": {},
   "outputs": [
    {
     "data": {
      "text/plain": [
       "<Node (1 1): S>"
      ]
     },
     "execution_count": 33,
     "metadata": {},
     "output_type": "execute_result"
    }
   ],
   "source": [
    "for node in graph.flatten():\n",
    "    if node.value == 'S':\n",
    "        break\n",
    "node"
   ]
  },
  {
   "cell_type": "code",
   "execution_count": 34,
   "id": "e7ea40ee-43e5-4eea-8f00-6f85e29c68a2",
   "metadata": {},
   "outputs": [
    {
     "data": {
      "text/plain": [
       "<Edge S -> |>"
      ]
     },
     "execution_count": 34,
     "metadata": {},
     "output_type": "execute_result"
    }
   ],
   "source": [
    "neighbor, edge = graph.edges[node].popitem()\n",
    "edge"
   ]
  },
  {
   "cell_type": "code",
   "execution_count": 35,
   "id": "4e03b26c-d0f8-40d5-a271-a2c8c0c120fb",
   "metadata": {},
   "outputs": [
    {
     "data": {
      "text/plain": [
       "46"
      ]
     },
     "execution_count": 35,
     "metadata": {},
     "output_type": "execute_result"
    }
   ],
   "source": [
    "# every node has two edges. Pop out the edge with node we just came from then traverse to the next\n",
    "path = [edge.node1, edge.node2] # S, and first connection\n",
    "\n",
    "while True:\n",
    "    edges = graph.edges[path[-1]]\n",
    "    edges.pop(path[-2]) # pop out the edge going back from where we just came\n",
    "    neighbor, edge = edges.popitem()\n",
    "    if neighbor.value == 'S':\n",
    "        break\n",
    "    path.append(neighbor)\n",
    "len(path)"
   ]
  },
  {
   "cell_type": "code",
   "execution_count": 36,
   "id": "8e95fd44-837d-4f03-90f6-d3ad45992b90",
   "metadata": {},
   "outputs": [
    {
     "data": {
      "text/plain": [
       "[<Node (1 1): S>,\n",
       " <Node (1 2): |>,\n",
       " <Node (1 3): |>,\n",
       " <Node (1 4): |>,\n",
       " <Node (1 5): |>,\n",
       " <Node (1 6): |>,\n",
       " <Node (1 7): L>,\n",
       " <Node (2 7): ->,\n",
       " <Node (3 7): ->,\n",
       " <Node (4 7): J>,\n",
       " <Node (4 6): |>,\n",
       " <Node (4 5): 7>,\n",
       " <Node (3 5): ->,\n",
       " <Node (2 5): L>,\n",
       " <Node (2 4): |>,\n",
       " <Node (2 3): |>,\n",
       " <Node (2 2): F>,\n",
       " <Node (3 2): ->,\n",
       " <Node (4 2): ->,\n",
       " <Node (5 2): ->,\n",
       " <Node (6 2): ->,\n",
       " <Node (7 2): ->,\n",
       " <Node (8 2): 7>,\n",
       " <Node (8 3): |>,\n",
       " <Node (8 4): |>,\n",
       " <Node (8 5): J>,\n",
       " <Node (7 5): ->,\n",
       " <Node (6 5): F>,\n",
       " <Node (6 6): |>,\n",
       " <Node (6 7): L>,\n",
       " <Node (7 7): ->,\n",
       " <Node (8 7): ->,\n",
       " <Node (9 7): J>,\n",
       " <Node (9 6): |>,\n",
       " <Node (9 5): |>,\n",
       " <Node (9 4): |>,\n",
       " <Node (9 3): |>,\n",
       " <Node (9 2): |>,\n",
       " <Node (9 1): 7>,\n",
       " <Node (8 1): ->,\n",
       " <Node (7 1): ->,\n",
       " <Node (6 1): ->,\n",
       " <Node (5 1): ->,\n",
       " <Node (4 1): ->,\n",
       " <Node (3 1): ->,\n",
       " <Node (2 1): ->]"
      ]
     },
     "execution_count": 36,
     "metadata": {},
     "output_type": "execute_result"
    }
   ],
   "source": [
    "path"
   ]
  },
  {
   "cell_type": "code",
   "execution_count": 29,
   "id": "78110b59-230a-4b79-957e-b0439beaadf0",
   "metadata": {},
   "outputs": [
    {
     "name": "stdout",
     "output_type": "stream",
     "text": [
      "<Node (0 6): .>\n",
      "[<Node (10 6): .>, <Node (1 6): |>, <Node (0 5): .>, <Node (0 7): .>]\n",
      "\n",
      "<Node (2 6): .>\n",
      "[<Node (1 6): |>, <Node (3 6): .>, <Node (2 5): L>, <Node (2 7): ->]\n",
      "\n",
      "<Node (3 6): .>\n",
      "[<Node (2 6): .>, <Node (4 6): |>, <Node (3 5): ->, <Node (3 7): ->]\n",
      "\n",
      "<Node (5 6): .>\n",
      "[<Node (4 6): |>, <Node (6 6): |>, <Node (5 5): .>, <Node (5 7): .>]\n",
      "\n",
      "<Node (7 6): .>\n",
      "[<Node (6 6): |>, <Node (8 6): .>, <Node (7 5): ->, <Node (7 7): ->]\n",
      "\n",
      "<Node (8 6): .>\n",
      "[<Node (7 6): .>, <Node (9 6): |>, <Node (8 5): J>, <Node (8 7): ->]\n",
      "\n",
      "<Node (10 6): .>\n",
      "[<Node (9 6): |>, None, <Node (10 5): .>, <Node (10 7): .>]\n",
      "\n"
     ]
    },
    {
     "data": {
      "text/plain": [
       "[]"
      ]
     },
     "execution_count": 29,
     "metadata": {},
     "output_type": "execute_result"
    }
   ],
   "source": [
    "inside = []\n",
    "for node in graph.flatten():\n",
    "    if node in path:\n",
    "        continue\n",
    "    neighbors = node.neighbors()\n",
    "    if node.row == 6:\n",
    "        print(node)\n",
    "        print(neighbors)\n",
    "        print('')\n",
    "    if len(neighbors) != 4: # it's on an edge of grid, can't be in the loop\n",
    "        continue\n",
    "    # check left, right, above, below\n",
    "    if neighbors[0] not in ['S', 'J', '7', '|', '.']:\n",
    "        continue\n",
    "    if neighbors[1] not in ['S', 'F', 'L', '.']:\n",
    "        continue\n",
    "    if neighbors[2] not in ['S', 'L', 'J', '-', '.']:\n",
    "        continue\n",
    "    if neighbors[3] not in ['S', 'F', '7', '-', '.']:\n",
    "        continue\n",
    "    inside.append(neighbors)\n",
    "            \n",
    "inside"
   ]
  },
  {
   "cell_type": "code",
   "execution_count": 30,
   "id": "3b5a6dd7-5799-4308-aca8-2d74e203d461",
   "metadata": {},
   "outputs": [
    {
     "data": {
      "text/plain": [
       "[<Node (10 6): .>, <Node (1 6): |>, <Node (0 5): .>, <Node (0 7): .>]"
      ]
     },
     "execution_count": 30,
     "metadata": {},
     "output_type": "execute_result"
    }
   ],
   "source": [
    "graph.neighbors(0, 6)"
   ]
  },
  {
   "cell_type": "code",
   "execution_count": null,
   "id": "de0773a6-9e4d-41d1-8e98-de7573b84915",
   "metadata": {},
   "outputs": [],
   "source": [
    "text = open('../../data/day10.txt').read()\n",
    "graph = Graph.from_string(text)\n",
    "graph"
   ]
  },
  {
   "cell_type": "code",
   "execution_count": null,
   "id": "d7dbdb9d-f277-43c3-a64f-076ed3b17ee6",
   "metadata": {},
   "outputs": [],
   "source": [
    "graph.edges.clear()\n",
    "\n",
    "for node in graph.flatten():\n",
    "    if node.value in ['-', 'J', '7', 'S']:\n",
    "        left = node.left()\n",
    "        if left and left.value in ['-', 'L', 'F', 'S']:\n",
    "            node.add_edge(left)\n",
    "    if node.value in ['-', 'L', 'F', 'S']:\n",
    "        right = node.right()\n",
    "        if right and right.value in ['-', 'J', '7', 'S']:\n",
    "            node.add_edge(right)\n",
    "    if node.value in ['|', 'L', 'J', 'S']:\n",
    "        up = node.up()\n",
    "        if up and up.value in ['|', '7', 'F', 'S']:\n",
    "            node.add_edge(up)\n",
    "    if node.value in ['|', '7', 'F', 'S']:\n",
    "        down = node.down()\n",
    "        if down and down.value in ['|', 'L', 'J', 'S']:\n",
    "            node.add_edge(down)\n",
    "\n",
    "len(graph.edges)"
   ]
  },
  {
   "cell_type": "code",
   "execution_count": null,
   "id": "bb12fa9b-4808-4b93-a9fa-a3d88ee98640",
   "metadata": {},
   "outputs": [],
   "source": [
    "for node in graph.flatten():\n",
    "    if node.value == 'S':\n",
    "        break\n",
    "node"
   ]
  },
  {
   "cell_type": "code",
   "execution_count": null,
   "id": "0582829d-abd5-40ad-8020-bc7d4236109a",
   "metadata": {},
   "outputs": [],
   "source": [
    "neighbor, edge = graph.edges[node].popitem()\n",
    "edge"
   ]
  },
  {
   "cell_type": "code",
   "execution_count": null,
   "id": "8cabb767-676b-4ef9-97cb-24bc6a69968f",
   "metadata": {},
   "outputs": [],
   "source": [
    "# every node has two edges. Pop out the edge with node we just came from then traverse to the next\n",
    "path = [edge.node1, edge.node2] # S, and first connection\n",
    "right_hand = []\n",
    "left_hand = []\n",
    "\n",
    "while True:\n",
    "    edges = graph.edges[path[-1]]\n",
    "    edges.pop(path[-2]) # pop out the edge going back from where we just came\n",
    "    neighbor, edge = edges.popitem()\n",
    "    if neighbor.value == 'S':\n",
    "        break\n",
    "    path.append(neighbor)\n",
    "len(path)"
   ]
  },
  {
   "cell_type": "code",
   "execution_count": null,
   "id": "102459c1-620c-415f-b39f-6d0bafcb71e2",
   "metadata": {},
   "outputs": [],
   "source": []
  },
  {
   "cell_type": "code",
   "execution_count": null,
   "id": "98870d71-8ba0-4357-8f1b-81dee40511d6",
   "metadata": {},
   "outputs": [],
   "source": []
  },
  {
   "cell_type": "code",
   "execution_count": null,
   "id": "7a6edfa1-782a-41c4-9d9b-bba987fdbc91",
   "metadata": {},
   "outputs": [],
   "source": []
  }
 ],
 "metadata": {
  "kernelspec": {
   "display_name": "Python 3 (ipykernel)",
   "language": "python",
   "name": "python3"
  },
  "language_info": {
   "codemirror_mode": {
    "name": "ipython",
    "version": 3
   },
   "file_extension": ".py",
   "mimetype": "text/x-python",
   "name": "python",
   "nbconvert_exporter": "python",
   "pygments_lexer": "ipython3",
   "version": "3.11.4"
  }
 },
 "nbformat": 4,
 "nbformat_minor": 5
}
