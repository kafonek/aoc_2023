{
 "cells": [
  {
   "cell_type": "code",
   "execution_count": 13,
   "id": "a62fffd3-a374-4464-b470-9344e4392d0d",
   "metadata": {},
   "outputs": [
    {
     "data": {
      "text/plain": [
       "<Graph (5, 5)>"
      ]
     },
     "execution_count": 13,
     "metadata": {},
     "output_type": "execute_result"
    }
   ],
   "source": [
    "from aoc_2023.gridgraph import Graph\n",
    "\n",
    "text = \"\"\"\n",
    "..F7.\n",
    ".FJ|.\n",
    "SJ.L7\n",
    "|F--J\n",
    "LJ...\n",
    "\"\"\"\n",
    "\n",
    "graph = Graph.from_string(text.strip())\n",
    "graph"
   ]
  },
  {
   "cell_type": "code",
   "execution_count": 14,
   "id": "d19c4e90-12bf-4466-904a-bf0b7e45c268",
   "metadata": {},
   "outputs": [
    {
     "name": "stdout",
     "output_type": "stream",
     "text": [
      "..F7.\n",
      ".FJ|.\n",
      "SJ.L7\n",
      "|F--J\n",
      "LJ...\n",
      "\n"
     ]
    }
   ],
   "source": [
    "print(str(graph))"
   ]
  },
  {
   "cell_type": "code",
   "execution_count": 15,
   "id": "b59953ad-bb8f-4341-83be-1d2f9663431e",
   "metadata": {},
   "outputs": [
    {
     "data": {
      "text/plain": [
       "<Node (0 2): S>"
      ]
     },
     "execution_count": 15,
     "metadata": {},
     "output_type": "execute_result"
    }
   ],
   "source": [
    "graph.get_node(0, 2)"
   ]
  },
  {
   "cell_type": "code",
   "execution_count": 35,
   "id": "a3515e43-90d0-4353-938f-34dff00b7cb9",
   "metadata": {},
   "outputs": [
    {
     "data": {
      "text/plain": [
       "16"
      ]
     },
     "execution_count": 35,
     "metadata": {},
     "output_type": "execute_result"
    }
   ],
   "source": [
    "graph.edges.clear()\n",
    "\n",
    "for node in graph.flatten():\n",
    "    if node.value in ['-', 'J', '7', 'S']:\n",
    "        left = node.left()\n",
    "        if left and left.value in ['-', 'L', 'F', 'S']:\n",
    "            node.add_edge(left)\n",
    "    if node.value in ['-', 'L', 'F', 'S']:\n",
    "        right = node.right()\n",
    "        if right and right.value in ['-', 'J', '7', 'S']:\n",
    "            node.add_edge(right)\n",
    "    if node.value in ['|', 'L', 'J', 'S']:\n",
    "        up = node.up()\n",
    "        if up and up.value in ['|', '7', 'F', 'S']:\n",
    "            node.add_edge(up)\n",
    "    if node.value in ['|', '7', 'F', 'S']:\n",
    "        down = node.down()\n",
    "        if down and down.value in ['|', 'L', 'J', 'S']:\n",
    "            node.add_edge(down)\n",
    "\n",
    "len(graph.edges)"
   ]
  },
  {
   "cell_type": "code",
   "execution_count": 36,
   "id": "1d3f94d2-4b37-4f5e-bab0-2e98e4e55657",
   "metadata": {},
   "outputs": [
    {
     "data": {
      "text/plain": [
       "<Node (0 2): S>"
      ]
     },
     "execution_count": 36,
     "metadata": {},
     "output_type": "execute_result"
    }
   ],
   "source": [
    "for node in graph.flatten():\n",
    "    if node.value == 'S':\n",
    "        break\n",
    "node"
   ]
  },
  {
   "cell_type": "code",
   "execution_count": 37,
   "id": "4992956f-9527-440d-81be-5157720970c2",
   "metadata": {},
   "outputs": [
    {
     "data": {
      "text/plain": [
       "<Edge S -> |>"
      ]
     },
     "execution_count": 37,
     "metadata": {},
     "output_type": "execute_result"
    }
   ],
   "source": [
    "assert len(graph.edges[node]) == 2\n",
    "\n",
    "neighbor, edge = graph.edges[node].popitem()\n",
    "edge"
   ]
  },
  {
   "cell_type": "code",
   "execution_count": 38,
   "id": "e7ea40ee-43e5-4eea-8f00-6f85e29c68a2",
   "metadata": {},
   "outputs": [
    {
     "data": {
      "text/plain": [
       "[<Node (0 2): S>,\n",
       " <Node (0 3): |>,\n",
       " <Node (0 4): L>,\n",
       " <Node (1 4): J>,\n",
       " <Node (1 3): F>,\n",
       " <Node (2 3): ->,\n",
       " <Node (3 3): ->,\n",
       " <Node (4 3): J>,\n",
       " <Node (4 2): 7>,\n",
       " <Node (3 2): L>,\n",
       " <Node (3 1): |>,\n",
       " <Node (3 0): 7>,\n",
       " <Node (2 0): F>,\n",
       " <Node (2 1): J>,\n",
       " <Node (1 1): F>,\n",
       " <Node (1 2): J>]"
      ]
     },
     "execution_count": 38,
     "metadata": {},
     "output_type": "execute_result"
    }
   ],
   "source": [
    "# every node has two edges. Pop out the edge with node we just came from then traverse to the next\n",
    "path = [edge.node1, edge.node2] # S, and first connection\n",
    "\n",
    "while True:\n",
    "    edges = graph.edges[path[-1]]\n",
    "    edges.pop(path[-2]) # pop out the edge going back from where we just came\n",
    "    neighbor, edge = edges.popitem()\n",
    "    if neighbor.value == 'S':\n",
    "        break\n",
    "    path.append(neighbor)\n",
    "\n",
    "path\n",
    "        "
   ]
  },
  {
   "cell_type": "code",
   "execution_count": 39,
   "id": "01df7c3a-a7a4-4409-bcd2-ba40081926ae",
   "metadata": {},
   "outputs": [
    {
     "data": {
      "text/plain": [
       "16"
      ]
     },
     "execution_count": 39,
     "metadata": {},
     "output_type": "execute_result"
    }
   ],
   "source": [
    "len(path)"
   ]
  },
  {
   "cell_type": "code",
   "execution_count": 40,
   "id": "de0773a6-9e4d-41d1-8e98-de7573b84915",
   "metadata": {},
   "outputs": [
    {
     "data": {
      "text/plain": [
       "<Graph (140, 140)>"
      ]
     },
     "execution_count": 40,
     "metadata": {},
     "output_type": "execute_result"
    }
   ],
   "source": [
    "text = open('../../data/day10.txt').read()\n",
    "graph = Graph.from_string(text)\n",
    "graph"
   ]
  },
  {
   "cell_type": "code",
   "execution_count": 44,
   "id": "d7dbdb9d-f277-43c3-a64f-076ed3b17ee6",
   "metadata": {},
   "outputs": [
    {
     "data": {
      "text/plain": [
       "17075"
      ]
     },
     "execution_count": 44,
     "metadata": {},
     "output_type": "execute_result"
    }
   ],
   "source": [
    "graph.edges.clear()\n",
    "\n",
    "for node in graph.flatten():\n",
    "    if node.value in ['-', 'J', '7', 'S']:\n",
    "        left = node.left()\n",
    "        if left and left.value in ['-', 'L', 'F', 'S']:\n",
    "            node.add_edge(left)\n",
    "    if node.value in ['-', 'L', 'F', 'S']:\n",
    "        right = node.right()\n",
    "        if right and right.value in ['-', 'J', '7', 'S']:\n",
    "            node.add_edge(right)\n",
    "    if node.value in ['|', 'L', 'J', 'S']:\n",
    "        up = node.up()\n",
    "        if up and up.value in ['|', '7', 'F', 'S']:\n",
    "            node.add_edge(up)\n",
    "    if node.value in ['|', '7', 'F', 'S']:\n",
    "        down = node.down()\n",
    "        if down and down.value in ['|', 'L', 'J', 'S']:\n",
    "            node.add_edge(down)\n",
    "\n",
    "len(graph.edges)"
   ]
  },
  {
   "cell_type": "code",
   "execution_count": 45,
   "id": "bb12fa9b-4808-4b93-a9fa-a3d88ee98640",
   "metadata": {},
   "outputs": [
    {
     "data": {
      "text/plain": [
       "<Node (88 128): S>"
      ]
     },
     "execution_count": 45,
     "metadata": {},
     "output_type": "execute_result"
    }
   ],
   "source": [
    "for node in graph.flatten():\n",
    "    if node.value == 'S':\n",
    "        break\n",
    "node"
   ]
  },
  {
   "cell_type": "code",
   "execution_count": 46,
   "id": "c67a844e-646e-4c7a-bfd3-700700951c1a",
   "metadata": {},
   "outputs": [
    {
     "data": {
      "text/plain": [
       "<Edge S -> L>"
      ]
     },
     "execution_count": 46,
     "metadata": {},
     "output_type": "execute_result"
    }
   ],
   "source": [
    "neighbor, edge = graph.edges[node].popitem()\n",
    "edge"
   ]
  },
  {
   "cell_type": "code",
   "execution_count": 47,
   "id": "8cabb767-676b-4ef9-97cb-24bc6a69968f",
   "metadata": {},
   "outputs": [
    {
     "data": {
      "text/plain": [
       "13280"
      ]
     },
     "execution_count": 47,
     "metadata": {},
     "output_type": "execute_result"
    }
   ],
   "source": [
    "path = [edge.node1, edge.node2] # S, and first connection\n",
    "\n",
    "while True:\n",
    "    edges = graph.edges[path[-1]]\n",
    "    edges.pop(path[-2]) # pop out the edge going back from where we just came\n",
    "    neighbor, edge = edges.popitem()\n",
    "    if neighbor.value == 'S':\n",
    "        break\n",
    "    path.append(neighbor)\n",
    "len(path)    "
   ]
  },
  {
   "cell_type": "code",
   "execution_count": 48,
   "id": "55c8f5b5-a5de-4a42-a420-63ffc8f32573",
   "metadata": {},
   "outputs": [
    {
     "data": {
      "text/plain": [
       "6640.0"
      ]
     },
     "execution_count": 48,
     "metadata": {},
     "output_type": "execute_result"
    }
   ],
   "source": [
    "len(path) / 2"
   ]
  },
  {
   "cell_type": "code",
   "execution_count": null,
   "id": "98870d71-8ba0-4357-8f1b-81dee40511d6",
   "metadata": {},
   "outputs": [],
   "source": []
  }
 ],
 "metadata": {
  "kernelspec": {
   "display_name": "Python 3 (ipykernel)",
   "language": "python",
   "name": "python3"
  },
  "language_info": {
   "codemirror_mode": {
    "name": "ipython",
    "version": 3
   },
   "file_extension": ".py",
   "mimetype": "text/x-python",
   "name": "python",
   "nbconvert_exporter": "python",
   "pygments_lexer": "ipython3",
   "version": "3.11.4"
  }
 },
 "nbformat": 4,
 "nbformat_minor": 5
}
