{
 "cells": [
  {
   "cell_type": "code",
   "execution_count": 30,
   "id": "a2c2ee81-14bb-4001-8fde-465ec401094c",
   "metadata": {},
   "outputs": [
    {
     "data": {
      "text/plain": [
       "<Graph (10, 10)>"
      ]
     },
     "execution_count": 30,
     "metadata": {},
     "output_type": "execute_result"
    }
   ],
   "source": [
    "from aoc_2023.gridgraph import Graph, Node\n",
    "\n",
    "text = \"\"\"\n",
    "O....#....\n",
    "O.OO#....#\n",
    ".....##...\n",
    "OO.#O....O\n",
    ".O.....O#.\n",
    "O.#..O.#.#\n",
    "..O..#O..O\n",
    ".......O..\n",
    "#....###..\n",
    "#OO..#....\n",
    "\"\"\"\n",
    "\n",
    "graph = Graph.from_string(text.strip())\n",
    "graph"
   ]
  },
  {
   "cell_type": "code",
   "execution_count": 31,
   "id": "61f83e05-222b-4a37-b1d8-ef69aa1ddad7",
   "metadata": {},
   "outputs": [
    {
     "name": "stdout",
     "output_type": "stream",
     "text": [
      "O....#....\n",
      "O.OO#....#\n",
      ".....##...\n",
      "OO.#O....O\n",
      ".O.....O#.\n",
      "O.#..O.#.#\n",
      "..O..#O..O\n",
      ".......O..\n",
      "#....###..\n",
      "#OO..#....\n",
      "\n"
     ]
    }
   ],
   "source": [
    "print(str(graph))"
   ]
  },
  {
   "cell_type": "code",
   "execution_count": 32,
   "id": "92d1559f-d4ee-43bb-8a0d-8c759b085215",
   "metadata": {},
   "outputs": [
    {
     "name": "stdout",
     "output_type": "stream",
     "text": [
      ".....#....\n",
      "....#...O#\n",
      "...OO##...\n",
      ".OO#......\n",
      ".....OOO#.\n",
      ".O#...O#.#\n",
      "....O#....\n",
      "......OOOO\n",
      "#...O###..\n",
      "#..OO#....\n",
      "\n"
     ]
    }
   ],
   "source": [
    "from typing import Literal\n",
    "\n",
    "def tilt(direction: int):\n",
    "    # north, west, south, east is 0, 1, 2, 3\n",
    "    if direction == 0 or direction == 2: # north or south\n",
    "        iterable = graph.cols()\n",
    "    else: # east or west\n",
    "        iterable = graph.rows()\n",
    "\n",
    "    if direction == 0: # north\n",
    "        fn = Node.up\n",
    "    elif direction == 1: # west\n",
    "        fn = Node.left\n",
    "    elif direction == 2: # south\n",
    "        fn = Node.down\n",
    "    else: # east\n",
    "        fn = Node.right\n",
    "\n",
    "    for row_or_col in iterable:\n",
    "        while True:\n",
    "            changes = 0\n",
    "            for node in row_or_col:\n",
    "                neighbor = fn(node)\n",
    "                if neighbor and node.value == 'O' and neighbor.value == '.':\n",
    "                    node.swap(neighbor)\n",
    "                    changes += 1\n",
    "            if not changes:\n",
    "                break\n",
    "\n",
    "def cycle():\n",
    "    for direction in range(4):\n",
    "        tilt(direction)\n",
    "\n",
    "cycle()\n",
    "print(str(graph))"
   ]
  },
  {
   "cell_type": "code",
   "execution_count": 33,
   "id": "501b8896-e104-42a9-b4bc-c2317053c965",
   "metadata": {},
   "outputs": [
    {
     "name": "stdout",
     "output_type": "stream",
     "text": [
      ".....#....\n",
      "....#...O#\n",
      ".....##...\n",
      "..O#......\n",
      ".....OOO#.\n",
      ".O#...O#.#\n",
      "....O#...O\n",
      ".......OOO\n",
      "#..OO###..\n",
      "#.OOO#...O\n",
      "\n"
     ]
    }
   ],
   "source": [
    "cycle()\n",
    "print(str(graph))"
   ]
  },
  {
   "cell_type": "code",
   "execution_count": 34,
   "id": "af3d48e5-de03-4a8f-ba8f-052dc6c77fe2",
   "metadata": {},
   "outputs": [
    {
     "name": "stdout",
     "output_type": "stream",
     "text": [
      ".....#....\n",
      "....#...O#\n",
      ".....##...\n",
      "..O#......\n",
      ".....OOO#.\n",
      ".O#...O#.#\n",
      "....O#...O\n",
      ".......OOO\n",
      "#...O###.O\n",
      "#.OOO#...O\n",
      "\n"
     ]
    }
   ],
   "source": [
    "cycle()\n",
    "print(str(graph))"
   ]
  },
  {
   "cell_type": "code",
   "execution_count": 35,
   "id": "a1fad5cc-9852-4110-8357-aab7047440c4",
   "metadata": {},
   "outputs": [
    {
     "data": {
      "application/vnd.jupyter.widget-view+json": {
       "model_id": "db6b9fc665404bf894a79d0a174c207f",
       "version_major": 2,
       "version_minor": 0
      },
      "text/plain": [
       "  0%|          | 0/1000000000 [00:00<?, ?it/s]"
      ]
     },
     "metadata": {},
     "output_type": "display_data"
    },
    {
     "data": {
      "text/plain": [
       "169"
      ]
     },
     "execution_count": 35,
     "metadata": {},
     "output_type": "execute_result"
    }
   ],
   "source": [
    "from tqdm.auto import tqdm\n",
    "import collections\n",
    "\n",
    "text = \"\"\"\n",
    "O....#....\n",
    "O.OO#....#\n",
    ".....##...\n",
    "OO.#O....O\n",
    ".O.....O#.\n",
    "O.#..O.#.#\n",
    "..O..#O..O\n",
    ".......O..\n",
    "#....###..\n",
    "#OO..#....\n",
    "\"\"\"\n",
    "\n",
    "text = open('../../data/day14.txt').read()\n",
    "\n",
    "graph = Graph.from_string(text.strip())\n",
    "states = collections.defaultdict(int)\n",
    "\n",
    "for i in tqdm(range(1_000_000_000)):\n",
    "    cycle()\n",
    "    states[str(graph)] += 1\n",
    "    if 3 in states.values():\n",
    "        break\n",
    "\n",
    "len(states)"
   ]
  },
  {
   "cell_type": "code",
   "execution_count": 36,
   "id": "9945f1a7-11de-471c-8350-566a566851ae",
   "metadata": {
    "scrolled": true
   },
   "outputs": [
    {
     "name": "stdout",
     "output_type": "stream",
     "text": [
      "....O#.... 1\n",
      "....O#.... 1\n",
      ".....#.... 1\n",
      ".....#.... 1\n",
      ".....#.... 1\n",
      ".....#.... 1\n",
      ".....#.... 1\n",
      ".....#.... 1\n",
      ".....#.... 1\n",
      ".....#.... 1\n",
      ".....#.... 1\n",
      ".....#.... 1\n",
      ".....#.... 1\n",
      ".....#.... 1\n",
      ".....#.... 1\n",
      ".....#.... 1\n",
      ".....#.... 1\n",
      ".....#.... 1\n",
      ".....#.... 1\n",
      ".....#.... 1\n",
      ".....#.... 1\n",
      ".....#.... 1\n",
      ".....#.... 1\n",
      ".....#.... 1\n",
      ".....#.... 1\n",
      ".....#.... 1\n",
      ".....#.... 1\n",
      ".....#.... 1\n",
      ".....#.... 1\n",
      ".....#.... 1\n",
      ".....#.... 1\n",
      ".....#.... 1\n",
      ".....#.... 1\n",
      ".....#.... 1\n",
      ".....#.... 1\n",
      ".....#.... 1\n",
      ".....#.... 1\n",
      ".....#.... 1\n",
      ".....#.... 1\n",
      ".....#.... 1\n",
      ".....#.... 1\n",
      ".....#.... 1\n",
      ".....#.... 1\n",
      ".....#.... 1\n",
      ".....#.... 1\n",
      ".....#.... 1\n",
      ".....#.... 1\n",
      ".....#.... 1\n",
      ".....#.... 1\n",
      ".....#.... 1\n",
      ".....#.... 1\n",
      ".....#.... 1\n",
      ".....#.... 1\n",
      ".....#.... 1\n",
      ".....#.... 1\n",
      ".....#.... 1\n",
      ".....#.... 1\n",
      ".....#.... 1\n",
      ".....#.... 1\n",
      ".....#.... 1\n",
      ".....#.... 1\n",
      ".....#.... 1\n",
      ".....#.... 1\n",
      ".....#.... 1\n",
      ".....#.... 1\n",
      ".....#.... 1\n",
      ".....#.... 1\n",
      ".....#.... 1\n",
      ".....#.... 1\n",
      ".....#.... 1\n",
      ".....#.... 1\n",
      ".....#.... 1\n",
      ".....#.... 1\n",
      ".....#.... 1\n",
      ".....#.... 1\n",
      ".....#.... 1\n",
      ".....#.... 1\n",
      ".....#.... 1\n",
      ".....#.... 1\n",
      ".....#.... 1\n",
      ".....#.... 1\n",
      ".....#.... 1\n",
      ".....#.... 1\n",
      ".....#.... 1\n",
      ".....#.... 1\n",
      ".....#.... 1\n",
      ".....#.... 1\n",
      ".....#.... 1\n",
      ".....#.... 1\n",
      ".....#.... 1\n",
      ".....#.... 1\n",
      ".....#.... 1\n",
      ".....#.... 1\n",
      ".....#.... 1\n",
      ".....#.... 1\n",
      ".....#.... 1\n",
      ".....#.... 1\n",
      ".....#.... 1\n",
      ".....#.... 1\n",
      ".....#.... 1\n",
      ".....#.... 1\n",
      ".....#.... 1\n",
      ".....#.... 1\n",
      ".....#.... 1\n",
      ".....#.... 1\n",
      ".....#.... 1\n",
      ".....#.... 1\n",
      ".....#.... 1\n",
      ".....#.... 1\n",
      ".....#.... 1\n",
      ".....#.... 1\n",
      ".....#.... 1\n",
      ".....#.... 1\n",
      ".....#.... 1\n",
      ".....#.... 1\n",
      ".....#.... 1\n",
      ".....#.... 1\n",
      ".....#.... 1\n",
      ".....#.... 1\n",
      ".....#.... 1\n",
      ".....#.... 1\n",
      ".....#.... 1\n",
      ".....#.... 1\n",
      ".....#.... 1\n",
      ".....#.... 1\n",
      ".....#.... 1\n",
      ".....#.... 1\n",
      ".....#.... 1\n",
      ".....#.... 1\n",
      ".....#.... 1\n",
      ".....#.... 1\n",
      ".....#.... 1\n",
      ".....#.... 1\n",
      ".....#.... 1\n",
      ".....#.... 1\n",
      ".....#.... 1\n",
      ".....#.... 1\n",
      ".....#.... 1\n",
      ".....#.... 1\n",
      ".....#.... 1\n",
      ".....#.... 1\n",
      ".....#.... 3\n",
      ".....#.... 2\n",
      ".....#.... 2\n",
      ".....#.... 2\n",
      ".....#.... 2\n",
      ".....#.... 2\n",
      ".....#.... 2\n",
      ".....#.... 2\n",
      ".....#.... 2\n",
      ".....#.... 2\n",
      ".....#.... 2\n",
      ".....#.... 2\n",
      ".....#.... 2\n",
      ".....#.... 2\n",
      ".....#.... 2\n",
      ".....#.... 2\n",
      ".....#.... 2\n",
      ".....#.... 2\n",
      ".....#.... 2\n",
      ".....#.... 2\n",
      ".....#.... 2\n",
      ".....#.... 2\n",
      ".....#.... 2\n",
      ".....#.... 2\n",
      ".....#.... 2\n",
      ".....#.... 2\n",
      ".....#.... 2\n",
      ".....#.... 2\n"
     ]
    }
   ],
   "source": [
    "for k, v in states.items():\n",
    "    print(k[:10], v)"
   ]
  },
  {
   "cell_type": "code",
   "execution_count": 37,
   "id": "0f5d6b94-6912-4c35-a3ad-bae2ee9f8846",
   "metadata": {},
   "outputs": [
    {
     "data": {
      "text/plain": [
       "141"
      ]
     },
     "execution_count": 37,
     "metadata": {},
     "output_type": "execute_result"
    }
   ],
   "source": [
    "pre_cycle = len([i for i in states.values() if i == 1])\n",
    "pre_cycle"
   ]
  },
  {
   "cell_type": "code",
   "execution_count": 38,
   "id": "6f20b4c9-817e-431d-911b-b8b64322be4d",
   "metadata": {},
   "outputs": [
    {
     "data": {
      "text/plain": [
       "28"
      ]
     },
     "execution_count": 38,
     "metadata": {},
     "output_type": "execute_result"
    }
   ],
   "source": [
    "cycle_len = len([i for i in states.values() if i > 1])\n",
    "cycle_len"
   ]
  },
  {
   "cell_type": "code",
   "execution_count": 39,
   "id": "c8a7fada-e5b2-4e0f-b0a1-a099243636c0",
   "metadata": {},
   "outputs": [
    {
     "data": {
      "text/plain": [
       "19"
      ]
     },
     "execution_count": 39,
     "metadata": {},
     "output_type": "execute_result"
    }
   ],
   "source": [
    "modulo = (1_000_000_000 - pre_cycle) % cycle_len\n",
    "modulo"
   ]
  },
  {
   "cell_type": "code",
   "execution_count": 40,
   "id": "38cdfe67-e65c-4fb4-9224-3eac5a127628",
   "metadata": {},
   "outputs": [
    {
     "data": {
      "text/plain": [
       "160"
      ]
     },
     "execution_count": 40,
     "metadata": {},
     "output_type": "execute_result"
    }
   ],
   "source": [
    "pre_cycle + modulo"
   ]
  },
  {
   "cell_type": "code",
   "execution_count": 41,
   "id": "54e2e66b-fc54-42a6-9ef3-79ccb76bc3ff",
   "metadata": {},
   "outputs": [
    {
     "data": {
      "text/plain": [
       "<Graph (100, 100)>"
      ]
     },
     "execution_count": 41,
     "metadata": {},
     "output_type": "execute_result"
    }
   ],
   "source": [
    "keys = [i for i in states.keys()]\n",
    "graph = Graph.from_string(keys[pre_cycle + modulo-1])\n",
    "graph"
   ]
  },
  {
   "cell_type": "code",
   "execution_count": 42,
   "id": "6b47360b-77ad-4917-9be0-b116b4f43cf0",
   "metadata": {},
   "outputs": [
    {
     "data": {
      "text/plain": [
       "99875"
      ]
     },
     "execution_count": 42,
     "metadata": {},
     "output_type": "execute_result"
    }
   ],
   "source": [
    "answer = 0\n",
    "max_row = graph.shape[0]\n",
    "for node in graph.flatten():\n",
    "    if node.value == 'O':\n",
    "        answer += max_row - node.row\n",
    "\n",
    "answer"
   ]
  },
  {
   "cell_type": "code",
   "execution_count": null,
   "id": "32d85888-31e5-44a4-956f-bda31e01f606",
   "metadata": {},
   "outputs": [],
   "source": []
  }
 ],
 "metadata": {
  "kernelspec": {
   "display_name": "Python 3 (ipykernel)",
   "language": "python",
   "name": "python3"
  },
  "language_info": {
   "codemirror_mode": {
    "name": "ipython",
    "version": 3
   },
   "file_extension": ".py",
   "mimetype": "text/x-python",
   "name": "python",
   "nbconvert_exporter": "python",
   "pygments_lexer": "ipython3",
   "version": "3.11.4"
  }
 },
 "nbformat": 4,
 "nbformat_minor": 5
}
