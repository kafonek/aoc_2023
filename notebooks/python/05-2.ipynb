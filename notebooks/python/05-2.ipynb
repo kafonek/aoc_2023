{
 "cells": [
  {
   "cell_type": "code",
   "execution_count": 1,
   "id": "b97593b8-2528-4c08-96b9-a28868e7c9cd",
   "metadata": {},
   "outputs": [
    {
     "data": {
      "text/plain": [
       "['seeds: 79 14 55 13',\n",
       " '',\n",
       " 'seed-to-soil map:',\n",
       " '50 98 2',\n",
       " '52 50 48',\n",
       " '',\n",
       " 'soil-to-fertilizer map:',\n",
       " '0 15 37',\n",
       " '37 52 2',\n",
       " '39 0 15',\n",
       " '',\n",
       " 'fertilizer-to-water map:',\n",
       " '49 53 8',\n",
       " '0 11 42',\n",
       " '42 0 7',\n",
       " '57 7 4',\n",
       " '',\n",
       " 'water-to-light map:',\n",
       " '88 18 7',\n",
       " '18 25 70',\n",
       " '',\n",
       " 'light-to-temperature map:',\n",
       " '45 77 23',\n",
       " '81 45 19',\n",
       " '68 64 13',\n",
       " '',\n",
       " 'temperature-to-humidity map:',\n",
       " '0 69 1',\n",
       " '1 0 69',\n",
       " '',\n",
       " 'humidity-to-location map:',\n",
       " '60 56 37',\n",
       " '56 93 4']"
      ]
     },
     "execution_count": 1,
     "metadata": {},
     "output_type": "execute_result"
    }
   ],
   "source": [
    "text = \"\"\"\n",
    "seeds: 79 14 55 13\n",
    "\n",
    "seed-to-soil map:\n",
    "50 98 2\n",
    "52 50 48\n",
    "\n",
    "soil-to-fertilizer map:\n",
    "0 15 37\n",
    "37 52 2\n",
    "39 0 15\n",
    "\n",
    "fertilizer-to-water map:\n",
    "49 53 8\n",
    "0 11 42\n",
    "42 0 7\n",
    "57 7 4\n",
    "\n",
    "water-to-light map:\n",
    "88 18 7\n",
    "18 25 70\n",
    "\n",
    "light-to-temperature map:\n",
    "45 77 23\n",
    "81 45 19\n",
    "68 64 13\n",
    "\n",
    "temperature-to-humidity map:\n",
    "0 69 1\n",
    "1 0 69\n",
    "\n",
    "humidity-to-location map:\n",
    "60 56 37\n",
    "56 93 4\n",
    "\"\"\"\n",
    "lines = text.strip().split('\\n')\n",
    "lines"
   ]
  },
  {
   "cell_type": "code",
   "execution_count": 2,
   "id": "6404b048-cfdd-4878-ac67-d76ab9bb83b8",
   "metadata": {},
   "outputs": [
    {
     "name": "stdout",
     "output_type": "stream",
     "text": [
      "seed-to-soil 2\n",
      "soil-to-fertilizer 3\n",
      "fertilizer-to-water 4\n",
      "water-to-light 2\n",
      "light-to-temperature 3\n",
      "temperature-to-humidity 2\n",
      "humidity-to-location 2\n"
     ]
    }
   ],
   "source": [
    "from aoc_2023.day05 import Pipeline\n",
    "\n",
    "pipeline = Pipeline.from_lines(lines[2:])\n",
    "for map in pipeline.maps:\n",
    "    print(map.name, len(map.ranges))"
   ]
  },
  {
   "cell_type": "code",
   "execution_count": 3,
   "id": "2e041a91-23eb-4bf1-a7d2-1a4dec3dec4b",
   "metadata": {},
   "outputs": [
    {
     "name": "stdout",
     "output_type": "stream",
     "text": [
      "79 -> seed-to-soil -> 81\n",
      "81 -> soil-to-fertilizer -> 81\n",
      "81 -> fertilizer-to-water -> 81\n",
      "81 -> water-to-light -> 74\n",
      "74 -> light-to-temperature -> 78\n",
      "78 -> temperature-to-humidity -> 78\n",
      "78 -> humidity-to-location -> 82\n"
     ]
    },
    {
     "data": {
      "text/plain": [
       "82"
      ]
     },
     "execution_count": 3,
     "metadata": {},
     "output_type": "execute_result"
    }
   ],
   "source": [
    "pipeline.get(79, debug=True)"
   ]
  },
  {
   "cell_type": "code",
   "execution_count": 4,
   "id": "8e1a200d-8619-4efc-bd0b-7b5d8170d0d4",
   "metadata": {},
   "outputs": [
    {
     "data": {
      "text/plain": [
       "[range(79, 93), range(55, 68)]"
      ]
     },
     "execution_count": 4,
     "metadata": {},
     "output_type": "execute_result"
    }
   ],
   "source": [
    "from typing import List\n",
    "\n",
    "ranges: List[range] = []\n",
    "\n",
    "seed_numbers = lines[0].split(':')[1].split()\n",
    "while seed_numbers:\n",
    "    start = int(seed_numbers.pop(0))\n",
    "    end = start + int(seed_numbers.pop(0))\n",
    "    ranges.append(range(start, end))\n",
    "\n",
    "ranges"
   ]
  },
  {
   "cell_type": "code",
   "execution_count": 5,
   "id": "ab38de59-9ca0-46ec-8f86-9a2dabba5662",
   "metadata": {},
   "outputs": [
    {
     "data": {
      "text/plain": [
       "46"
      ]
     },
     "execution_count": 5,
     "metadata": {},
     "output_type": "execute_result"
    }
   ],
   "source": [
    "import concurrent.futures\n",
    "\n",
    "n_generator = (i for r in ranges for i in r)\n",
    "\n",
    "with concurrent.futures.ProcessPoolExecutor() as executor:\n",
    "    results = executor.map(pipeline.get, n_generator)\n",
    "\n",
    "min(results)"
   ]
  },
  {
   "cell_type": "code",
   "execution_count": null,
   "id": "9e6d4150-c2a2-4ffd-a8b4-dcccec8d9792",
   "metadata": {},
   "outputs": [],
   "source": []
  }
 ],
 "metadata": {
  "kernelspec": {
   "display_name": "Python 3 (ipykernel)",
   "language": "python",
   "name": "python3"
  },
  "language_info": {
   "codemirror_mode": {
    "name": "ipython",
    "version": 3
   },
   "file_extension": ".py",
   "mimetype": "text/x-python",
   "name": "python",
   "nbconvert_exporter": "python",
   "pygments_lexer": "ipython3",
   "version": "3.12.1"
  }
 },
 "nbformat": 4,
 "nbformat_minor": 5
}
