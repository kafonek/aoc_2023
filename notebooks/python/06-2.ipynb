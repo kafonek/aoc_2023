{
 "cells": [
  {
   "cell_type": "code",
   "execution_count": 1,
   "id": "9447b835-93c5-4d1b-a72c-806cd05922c4",
   "metadata": {},
   "outputs": [
    {
     "data": {
      "text/plain": [
       "(71530, 940200)"
      ]
     },
     "execution_count": 1,
     "metadata": {},
     "output_type": "execute_result"
    }
   ],
   "source": [
    "text = \"\"\"\n",
    "Time:      7  15   30\n",
    "Distance:  9  40  200\n",
    "\"\"\"\n",
    "\n",
    "lines = text.strip().split('\\n')\n",
    "t = int(''.join(lines[0].split(':')[1].split()))\n",
    "d = int(''.join(lines[1].split(':')[1].split()))\n",
    "t, d"
   ]
  },
  {
   "cell_type": "code",
   "execution_count": 2,
   "id": "9bbf6600-c3ee-47d9-bcdc-4bb149d5e65e",
   "metadata": {},
   "outputs": [
    {
     "data": {
      "text/plain": [
       "71503"
      ]
     },
     "execution_count": 2,
     "metadata": {},
     "output_type": "execute_result"
    }
   ],
   "source": [
    "from aoc_2023.day06 import Race\n",
    "\n",
    "r = Race(time=t, distance_to_beat=d)\n",
    "r.run()"
   ]
  },
  {
   "cell_type": "code",
   "execution_count": null,
   "id": "81e96746-3757-4437-9b8d-19449e08247d",
   "metadata": {},
   "outputs": [],
   "source": []
  }
 ],
 "metadata": {
  "kernelspec": {
   "display_name": "Python 3 (ipykernel)",
   "language": "python",
   "name": "python3"
  },
  "language_info": {
   "codemirror_mode": {
    "name": "ipython",
    "version": 3
   },
   "file_extension": ".py",
   "mimetype": "text/x-python",
   "name": "python",
   "nbconvert_exporter": "python",
   "pygments_lexer": "ipython3",
   "version": "3.12.1"
  }
 },
 "nbformat": 4,
 "nbformat_minor": 5
}
