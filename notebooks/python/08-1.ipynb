{
 "cells": [
  {
   "cell_type": "code",
   "execution_count": 1,
   "id": "b53893ea-3c50-46a8-93d7-ad6ebd732819",
   "metadata": {},
   "outputs": [
    {
     "data": {
      "text/plain": [
       "['R', 'L']"
      ]
     },
     "execution_count": 1,
     "metadata": {},
     "output_type": "execute_result"
    }
   ],
   "source": [
    "text = \"\"\"\n",
    "RL\n",
    "\n",
    "AAA = (BBB, CCC)\n",
    "BBB = (DDD, EEE)\n",
    "CCC = (ZZZ, GGG)\n",
    "DDD = (DDD, DDD)\n",
    "EEE = (EEE, EEE)\n",
    "GGG = (GGG, GGG)\n",
    "ZZZ = (ZZZ, ZZZ)\n",
    "\"\"\"\n",
    "\n",
    "lines = text.strip().split('\\n')\n",
    "pattern = list(lines[0])\n",
    "pattern"
   ]
  },
  {
   "cell_type": "code",
   "execution_count": 2,
   "id": "f52b4f17-5ccf-499f-9dcd-9976a30d1c65",
   "metadata": {},
   "outputs": [
    {
     "data": {
      "text/plain": [
       "'AAA = (BBB, CCC)'"
      ]
     },
     "execution_count": 2,
     "metadata": {},
     "output_type": "execute_result"
    }
   ],
   "source": [
    "lines[2]"
   ]
  },
  {
   "cell_type": "code",
   "execution_count": 3,
   "id": "148adcab-73dc-4b2c-873b-ef6d711acd90",
   "metadata": {},
   "outputs": [
    {
     "data": {
      "text/plain": [
       "Point(name='AAA', left='BBB', right='CCC', index=0)"
      ]
     },
     "execution_count": 3,
     "metadata": {},
     "output_type": "execute_result"
    }
   ],
   "source": [
    "from aoc_2023.day08 import Point\n",
    "\n",
    "p = Point.from_string(lines[2])\n",
    "p"
   ]
  },
  {
   "cell_type": "code",
   "execution_count": 4,
   "id": "da1ee0e2-b711-4107-9864-8ad1f9f4ff26",
   "metadata": {},
   "outputs": [
    {
     "data": {
      "text/plain": [
       "{'AAA': Point(name='AAA', left='BBB', right='CCC', index=0),\n",
       " 'BBB': Point(name='BBB', left='DDD', right='EEE', index=0),\n",
       " 'CCC': Point(name='CCC', left='ZZZ', right='GGG', index=0),\n",
       " 'DDD': Point(name='DDD', left='DDD', right='DDD', index=0),\n",
       " 'EEE': Point(name='EEE', left='EEE', right='EEE', index=0),\n",
       " 'GGG': Point(name='GGG', left='GGG', right='GGG', index=0),\n",
       " 'ZZZ': Point(name='ZZZ', left='ZZZ', right='ZZZ', index=0)}"
      ]
     },
     "execution_count": 4,
     "metadata": {},
     "output_type": "execute_result"
    }
   ],
   "source": [
    "points = {}\n",
    "for line in lines[2:]:\n",
    "    p = Point.from_string(line)\n",
    "    points[p.name] = p\n",
    "\n",
    "points"
   ]
  },
  {
   "cell_type": "code",
   "execution_count": 5,
   "id": "99c4b4fb-5d5f-4145-8590-1abf846b9980",
   "metadata": {},
   "outputs": [
    {
     "name": "stdout",
     "output_type": "stream",
     "text": [
      "R\n",
      "L\n",
      "R\n",
      "L\n",
      "R\n",
      "L\n"
     ]
    }
   ],
   "source": [
    "import itertools\n",
    "\n",
    "steps = 0\n",
    "cycle = itertools.cycle(pattern)\n",
    "while True:\n",
    "    if steps > 5:\n",
    "        break\n",
    "    print(next(cycle))\n",
    "    steps += 1"
   ]
  },
  {
   "cell_type": "code",
   "execution_count": 6,
   "id": "8aedb3b2-41eb-482c-81c3-62125ff36717",
   "metadata": {},
   "outputs": [
    {
     "data": {
      "text/plain": [
       "2"
      ]
     },
     "execution_count": 6,
     "metadata": {},
     "output_type": "execute_result"
    }
   ],
   "source": [
    "cycle = itertools.cycle(pattern)\n",
    "\n",
    "current = points['AAA']\n",
    "steps = 0\n",
    "while True:\n",
    "    if current.name == 'ZZZ':\n",
    "        break\n",
    "    direction = next(cycle)\n",
    "    if direction == 'R':\n",
    "        current = points[current.right]\n",
    "    else:\n",
    "        current = points[current.left]\n",
    "    steps += 1\n",
    "\n",
    "steps"
   ]
  },
  {
   "cell_type": "code",
   "execution_count": 7,
   "id": "d7629094-a0bd-4cfe-bd29-7fd42840330b",
   "metadata": {},
   "outputs": [
    {
     "data": {
      "text/plain": [
       "6"
      ]
     },
     "execution_count": 7,
     "metadata": {},
     "output_type": "execute_result"
    }
   ],
   "source": [
    "text = \"\"\"\n",
    "LLR\n",
    "\n",
    "AAA = (BBB, BBB)\n",
    "BBB = (AAA, ZZZ)\n",
    "ZZZ = (ZZZ, ZZZ)\n",
    "\"\"\"\n",
    "\n",
    "lines = text.strip().split('\\n')\n",
    "pattern = list(lines[0])\n",
    "\n",
    "points = {}\n",
    "for line in lines[2:]:\n",
    "    p = Point.from_string(line)\n",
    "    points[p.name] = p\n",
    "\n",
    "cycle = itertools.cycle(pattern)\n",
    "\n",
    "current = points['AAA']\n",
    "steps = 0\n",
    "while True:\n",
    "    if current.name == 'ZZZ':\n",
    "        break\n",
    "    direction = next(cycle)\n",
    "    if direction == 'R':\n",
    "        current = points[current.right]\n",
    "    else:\n",
    "        current = points[current.left]\n",
    "    steps += 1\n",
    "\n",
    "steps"
   ]
  },
  {
   "cell_type": "code",
   "execution_count": null,
   "id": "a1f10b62-ec73-4db0-be9b-b3895a1d5b57",
   "metadata": {},
   "outputs": [],
   "source": []
  }
 ],
 "metadata": {
  "kernelspec": {
   "display_name": "Python 3 (ipykernel)",
   "language": "python",
   "name": "python3"
  },
  "language_info": {
   "codemirror_mode": {
    "name": "ipython",
    "version": 3
   },
   "file_extension": ".py",
   "mimetype": "text/x-python",
   "name": "python",
   "nbconvert_exporter": "python",
   "pygments_lexer": "ipython3",
   "version": "3.12.1"
  }
 },
 "nbformat": 4,
 "nbformat_minor": 5
}
