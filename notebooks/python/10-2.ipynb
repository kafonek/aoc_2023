{
 "cells": [
  {
   "cell_type": "code",
   "execution_count": 1,
   "id": "92ac0c4f-d734-49de-8df3-14fd0dd52d43",
   "metadata": {},
   "outputs": [
    {
     "data": {
      "text/plain": [
       "<Grid (10, 20)>"
      ]
     },
     "execution_count": 1,
     "metadata": {},
     "output_type": "execute_result"
    }
   ],
   "source": [
    "from aoc_2023.gridthings import Grid, Node\n",
    "\n",
    "text = \"\"\"\n",
    "FF7FSF7F7F7F7F7F---7\n",
    "L|LJ||||||||||||F--J\n",
    "FL-7LJLJ||||||LJL-77\n",
    "F--JF--7||LJLJ7F7FJ-\n",
    "L---JF-JLJ.||-FJLJJ7\n",
    "|F|F-JF---7F7-L7L|7|\n",
    "|FFJF7L7F-JF7|JL---7\n",
    "7-L-JL7||F7|L7F-7F7|\n",
    "L.L7LFJ|||||FJL7||LJ\n",
    "L7JLJL-JLJLJL--JLJ.L\n",
    "\"\"\".strip()\n",
    "\n",
    "grid = Grid.from_string(text)\n",
    "grid"
   ]
  },
  {
   "cell_type": "code",
   "execution_count": 2,
   "id": "1af342da-dcf2-4beb-b58c-8bef71724ae8",
   "metadata": {},
   "outputs": [
    {
     "data": {
      "text/plain": [
       "196"
      ]
     },
     "execution_count": 2,
     "metadata": {},
     "output_type": "execute_result"
    }
   ],
   "source": [
    "for node in grid.flatten():\n",
    "    if node.value == '-':\n",
    "        grid.add_edge(node, node.left())\n",
    "        grid.add_edge(node, node.right())\n",
    "    elif node.value == '|':\n",
    "        grid.add_edge(node, node.up())\n",
    "        grid.add_edge(node, node.down())\n",
    "    elif node.value == '7':\n",
    "        grid.add_edge(node, node.left())\n",
    "        grid.add_edge(node, node.down())\n",
    "    elif node.value == 'J':\n",
    "        grid.add_edge(node, node.up())\n",
    "        grid.add_edge(node, node.left())\n",
    "    elif node.value == 'L':\n",
    "        grid.add_edge(node, node.right())\n",
    "        grid.add_edge(node, node.up())\n",
    "    elif node.value == 'F':\n",
    "        grid.add_edge(node, node.down())\n",
    "        grid.add_edge(node, node.right())\n",
    "\n",
    "len(grid.edges)"
   ]
  },
  {
   "cell_type": "code",
   "execution_count": 3,
   "id": "440193df-563e-4997-b94c-5caa52b0a76b",
   "metadata": {},
   "outputs": [
    {
     "data": {
      "text/plain": [
       "<Node (4, 0) = S>"
      ]
     },
     "execution_count": 3,
     "metadata": {},
     "output_type": "execute_result"
    }
   ],
   "source": [
    "for node in grid.flatten():\n",
    "    if node.value == 'S':\n",
    "        for neighbor in node.linear():\n",
    "            if neighbor and node in grid.get_edges(neighbor):\n",
    "                grid.add_edge(node, neighbor)\n",
    "        break\n",
    "node"
   ]
  },
  {
   "cell_type": "code",
   "execution_count": 4,
   "id": "062b80d6-3eb8-49f6-84e5-a3083e0fd04f",
   "metadata": {},
   "outputs": [
    {
     "data": {
      "text/plain": [
       "{<Node (3, 0) = F>: 1, <Node (4, 1) = |>: 1}"
      ]
     },
     "execution_count": 4,
     "metadata": {},
     "output_type": "execute_result"
    }
   ],
   "source": [
    "grid.get_edges(node)"
   ]
  },
  {
   "cell_type": "code",
   "execution_count": 5,
   "id": "9e6adb3e-33fe-46d7-8fbf-45a4875f2d4d",
   "metadata": {},
   "outputs": [
    {
     "data": {
      "text/plain": [
       "<Node (4, 1) = |>"
      ]
     },
     "execution_count": 5,
     "metadata": {},
     "output_type": "execute_result"
    }
   ],
   "source": [
    "nxt_node, _weight = grid.get_edges(node).popitem()\n",
    "nxt_node"
   ]
  },
  {
   "cell_type": "code",
   "execution_count": 6,
   "id": "020b2bcb-a44b-4963-bb99-d713e3902199",
   "metadata": {},
   "outputs": [
    {
     "data": {
      "text/plain": [
       "160"
      ]
     },
     "execution_count": 6,
     "metadata": {},
     "output_type": "execute_result"
    }
   ],
   "source": [
    "path = [node, nxt_node]\n",
    "while True:\n",
    "    last_node = path[-2]\n",
    "    current_node = path[-1]\n",
    "    edges = list(grid.get_edges(current_node))\n",
    "    nxt = edges[0] if edges[0] != last_node else edges[1]\n",
    "    if nxt.value == 'S':\n",
    "        break\n",
    "    path.append(nxt)\n",
    "        \n",
    "len(path)"
   ]
  },
  {
   "cell_type": "code",
   "execution_count": 7,
   "id": "3d2a8d7c-c1ad-4515-9fe3-ec06be5d0ac5",
   "metadata": {},
   "outputs": [
    {
     "name": "stdout",
     "output_type": "stream",
     "text": [
      ".PPPPPPPPPPPPPPPPPPP 19\n",
      ".PPPPPPPPPPPPPPPPPPP 19\n",
      ".PPPPPPPPPPPPPPPPPP. 18\n",
      "PPPPPPPPPPPPPP.PPPP. 18\n",
      "PPPPPPPPPP....PPPP.. 14\n",
      "...PPPPPPPP...PP.... 10\n",
      "..PPPPPPPPPPP..PPPPP 16\n",
      "..PPPPPPPPPPPPPPPPPP 18\n",
      ".....PPPPPPPPPPPPPPP 15\n",
      ".....PPPPPPPPPPPPP.. 13\n",
      "\n"
     ]
    }
   ],
   "source": [
    "output = ''\n",
    "for row in grid.rows():\n",
    "    row_line = ''\n",
    "    for node in row:\n",
    "        if node in path:\n",
    "            row_line += 'P'\n",
    "        else:\n",
    "            row_line += '.'\n",
    "    np = row_line.count('P')\n",
    "    output += row_line + ' ' + str(np) + '\\n'\n",
    "\n",
    "print(output)"
   ]
  },
  {
   "cell_type": "code",
   "execution_count": 8,
   "id": "289056cd-4f0e-4261-9052-af53fbfd0170",
   "metadata": {},
   "outputs": [
    {
     "data": {
      "text/plain": [
       "(<Node (3, 0) = F>, <Node (4, 0) = S>, <Node (4, 1) = |>)"
      ]
     },
     "execution_count": 8,
     "metadata": {},
     "output_type": "execute_result"
    }
   ],
   "source": [
    "path[-1], path[0], path[1]"
   ]
  },
  {
   "cell_type": "code",
   "execution_count": 9,
   "id": "89253bb8-7ec5-4a03-a664-d2db6cf5f44a",
   "metadata": {},
   "outputs": [
    {
     "data": {
      "text/plain": [
       "(0, 4, '7')"
      ]
     },
     "execution_count": 9,
     "metadata": {},
     "output_type": "execute_result"
    }
   ],
   "source": [
    "# Figure out what the path[0] value is supposed to be based on path[-1] and path[1].\n",
    "# i.e. if they're the same row, then path[0] must be a horizontal connector ('-')\n",
    "if path[1].row == path[-1].row: # same row, start connects horizontally\n",
    "    path[0].value = '-'\n",
    "elif path[1].col == path[-1].col: # same col, start connects vertically\n",
    "    path[0].value = '|'\n",
    "elif path[1].row > path[-1].row: # start path needs to route downwards\n",
    "    if path[1].col > path[-1].col: # route is coming from the left\n",
    "        path[0].value = '7'\n",
    "    else:\n",
    "        path[0].value = 'F'\n",
    "else: # start path needs to route upwards\n",
    "    if path[1].col > path[-1].col: # path is coming from the left\n",
    "        path[0].value = 'J'\n",
    "    else:\n",
    "        path[0].value = 'L'\n",
    "\n",
    "path[0].row, path[0].col, path[0].value"
   ]
  },
  {
   "cell_type": "code",
   "execution_count": 10,
   "id": "aa3e4a6a-6ef0-4358-bb61-9e0294b37b1e",
   "metadata": {},
   "outputs": [
    {
     "data": {
      "text/plain": [
       "10"
      ]
     },
     "execution_count": 10,
     "metadata": {},
     "output_type": "execute_result"
    }
   ],
   "source": [
    "from typing import List\n",
    "\n",
    "# Ray cast each point by looking for walls to the right. An odd number means its inside the polygon\n",
    "# Note a few gotchas though:\n",
    "#  1) '-' is in the path but doesn't count as a wall\n",
    "#  2) when going up-right-up (F-J) that's technically only one wall\n",
    "in_grid = []\n",
    "for node in grid.flatten():\n",
    "    if node in path:\n",
    "        continue\n",
    "    wall_count = 0\n",
    "    last_turn = None\n",
    "    ray: List[Node] = [n for n in grid.get_row(node.row) if n in path and n.col > node.col]\n",
    "    for n in ray:\n",
    "        if n.value == '-': # don't count horizontal as part of the polygon\n",
    "            continue \n",
    "        if n.value == '|':\n",
    "            wall_count += 1\n",
    "        if n.value == 'F':\n",
    "            wall_count += 1\n",
    "            last_turn = 'F'\n",
    "        if n.value == 'L':\n",
    "            wall_count += 1\n",
    "            last_turn = 'L'\n",
    "        if n.value == '7':\n",
    "            if last_turn == 'F':\n",
    "                wall_count += 1\n",
    "            last_turn = None\n",
    "        if n.value == 'J':\n",
    "            if last_turn == 'L':\n",
    "                wall_count += 1\n",
    "            last_turn = None\n",
    "    if wall_count % 2 == 1:\n",
    "        in_grid.append(node)\n",
    "        \n",
    "len(in_grid)      "
   ]
  },
  {
   "cell_type": "code",
   "execution_count": 11,
   "id": "79d9cdfc-2188-4173-becd-036947f6b9a4",
   "metadata": {},
   "outputs": [
    {
     "name": "stdout",
     "output_type": "stream",
     "text": [
      "OF7F7F7F7F7F7F7F---7 0\n",
      "O|LJ||||||||||||F--J 0\n",
      "OL-7LJLJ||||||LJL-7O 0\n",
      "F--JF--7||LJLJIF7FJO 1\n",
      "L---JF-JLJIIIIFJLJOO 4\n",
      "OOOF-JF---7IIIL7OOOO 3\n",
      "OOFJF7L7F-JF7IIL---7 2\n",
      "OOL-JL7||F7|L7F-7F7| 0\n",
      "OOOOOFJ|||||FJL7||LJ 0\n",
      "OOOOOL-JLJLJL--JLJOO 0\n",
      "\n"
     ]
    }
   ],
   "source": [
    "output = ''\n",
    "for row in grid.rows():\n",
    "    row_line = ''\n",
    "    for node in row:\n",
    "        if node in path:\n",
    "            # row_line += 'P'\n",
    "            row_line += node.value\n",
    "        elif node in in_grid:\n",
    "            row_line += 'I'\n",
    "        else:\n",
    "            row_line += 'O'\n",
    "    np = row_line.count('I')\n",
    "    output += row_line + ' ' + str(np) + '\\n'\n",
    "\n",
    "print(output)"
   ]
  },
  {
   "cell_type": "code",
   "execution_count": 12,
   "id": "5f236f53-8e74-498a-87da-494057a2bb60",
   "metadata": {},
   "outputs": [
    {
     "name": "stdout",
     "output_type": "stream",
     "text": [
      "FF7FSF7F7F7F7F7F---7\n",
      "L|LJ||||||||||||F--J\n",
      "FL-7LJLJ||||||LJL-77\n",
      "F--JF--7||LJLJ7F7FJ-\n",
      "L---JF-JLJ.||-FJLJJ7\n",
      "|F|F-JF---7F7-L7L|7|\n",
      "|FFJF7L7F-JF7|JL---7\n",
      "7-L-JL7||F7|L7F-7F7|\n",
      "L.L7LFJ|||||FJL7||LJ\n",
      "L7JLJL-JLJLJL--JLJ.L\n"
     ]
    }
   ],
   "source": [
    "print(text)"
   ]
  },
  {
   "cell_type": "code",
   "execution_count": null,
   "id": "e6840abf-6868-4e44-9f0a-2961dd34ab5b",
   "metadata": {},
   "outputs": [],
   "source": []
  }
 ],
 "metadata": {
  "kernelspec": {
   "display_name": "Python 3 (ipykernel)",
   "language": "python",
   "name": "python3"
  },
  "language_info": {
   "codemirror_mode": {
    "name": "ipython",
    "version": 3
   },
   "file_extension": ".py",
   "mimetype": "text/x-python",
   "name": "python",
   "nbconvert_exporter": "python",
   "pygments_lexer": "ipython3",
   "version": "3.12.1"
  }
 },
 "nbformat": 4,
 "nbformat_minor": 5
}
