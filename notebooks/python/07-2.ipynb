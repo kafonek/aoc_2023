{
 "cells": [
  {
   "cell_type": "code",
   "execution_count": 1,
   "id": "df060dcd-09fb-45e3-8816-08d3a5ee9a02",
   "metadata": {},
   "outputs": [
    {
     "data": {
      "text/plain": [
       "['32T3K 765', 'T55X5 684', 'KK677 28', 'KTXXT 220', 'QQQXA 483']"
      ]
     },
     "execution_count": 1,
     "metadata": {},
     "output_type": "execute_result"
    }
   ],
   "source": [
    "text = \"\"\"\n",
    "32T3K 765\n",
    "T55J5 684\n",
    "KK677 28\n",
    "KTJJT 220\n",
    "QQQJA 483\n",
    "\"\"\".replace('J', 'X') # representing Jokers as X\n",
    "\n",
    "lines = text.strip().split('\\n')\n",
    "lines"
   ]
  },
  {
   "cell_type": "code",
   "execution_count": 2,
   "id": "0c0d7c81-261b-4994-b145-364055525f8b",
   "metadata": {},
   "outputs": [
    {
     "data": {
      "text/plain": [
       "[Hand(cards=[<Card.THREE: 3>, <Card.TWO: 2>, <Card.TEN: 10>, <Card.THREE: 3>, <Card.KING: 13>], hand_type=<HandType.ONE_PAIR: 2>, value=(2, 3, 2, 10, 3, 13), bid=765),\n",
       " Hand(cards=[<Card.TEN: 10>, <Card.FIVE: 5>, <Card.FIVE: 5>, <Card.JOKER: 1>, <Card.FIVE: 5>], hand_type=<HandType.FOUR_OF_A_KIND: 6>, value=(6, 10, 5, 5, 1, 5), bid=684),\n",
       " Hand(cards=[<Card.KING: 13>, <Card.KING: 13>, <Card.SIX: 6>, <Card.SEVEN: 7>, <Card.SEVEN: 7>], hand_type=<HandType.TWO_PAIR: 3>, value=(3, 13, 13, 6, 7, 7), bid=28),\n",
       " Hand(cards=[<Card.KING: 13>, <Card.TEN: 10>, <Card.JOKER: 1>, <Card.JOKER: 1>, <Card.TEN: 10>], hand_type=<HandType.FOUR_OF_A_KIND: 6>, value=(6, 13, 10, 1, 1, 10), bid=220),\n",
       " Hand(cards=[<Card.QUEEN: 12>, <Card.QUEEN: 12>, <Card.QUEEN: 12>, <Card.JOKER: 1>, <Card.ACE: 14>], hand_type=<HandType.FOUR_OF_A_KIND: 6>, value=(6, 12, 12, 12, 1, 14), bid=483)]"
      ]
     },
     "execution_count": 2,
     "metadata": {},
     "output_type": "execute_result"
    }
   ],
   "source": [
    "from aoc_2023.day07 import Hand\n",
    "\n",
    "hands = [Hand.from_string(line) for line in lines]\n",
    "hands"
   ]
  },
  {
   "cell_type": "code",
   "execution_count": 3,
   "id": "9a49eead-bd3d-4c4c-bc52-f4d5e7077a18",
   "metadata": {},
   "outputs": [
    {
     "data": {
      "text/plain": [
       "[Hand(cards=[<Card.THREE: 3>, <Card.TWO: 2>, <Card.TEN: 10>, <Card.THREE: 3>, <Card.KING: 13>], hand_type=<HandType.ONE_PAIR: 2>, value=(2, 3, 2, 10, 3, 13), bid=765),\n",
       " Hand(cards=[<Card.KING: 13>, <Card.KING: 13>, <Card.SIX: 6>, <Card.SEVEN: 7>, <Card.SEVEN: 7>], hand_type=<HandType.TWO_PAIR: 3>, value=(3, 13, 13, 6, 7, 7), bid=28),\n",
       " Hand(cards=[<Card.TEN: 10>, <Card.FIVE: 5>, <Card.FIVE: 5>, <Card.JOKER: 1>, <Card.FIVE: 5>], hand_type=<HandType.FOUR_OF_A_KIND: 6>, value=(6, 10, 5, 5, 1, 5), bid=684),\n",
       " Hand(cards=[<Card.QUEEN: 12>, <Card.QUEEN: 12>, <Card.QUEEN: 12>, <Card.JOKER: 1>, <Card.ACE: 14>], hand_type=<HandType.FOUR_OF_A_KIND: 6>, value=(6, 12, 12, 12, 1, 14), bid=483),\n",
       " Hand(cards=[<Card.KING: 13>, <Card.TEN: 10>, <Card.JOKER: 1>, <Card.JOKER: 1>, <Card.TEN: 10>], hand_type=<HandType.FOUR_OF_A_KIND: 6>, value=(6, 13, 10, 1, 1, 10), bid=220)]"
      ]
     },
     "execution_count": 3,
     "metadata": {},
     "output_type": "execute_result"
    }
   ],
   "source": [
    "sorted(hands)"
   ]
  },
  {
   "cell_type": "code",
   "execution_count": 4,
   "id": "edcce981-a7f5-46ae-b73b-44b990780a98",
   "metadata": {},
   "outputs": [
    {
     "data": {
      "text/plain": [
       "5905"
      ]
     },
     "execution_count": 4,
     "metadata": {},
     "output_type": "execute_result"
    }
   ],
   "source": [
    "answer = 0\n",
    "for idx, hand in enumerate(sorted(hands)):\n",
    "    power = idx + 1\n",
    "    value = hand.bid * power\n",
    "    answer += value\n",
    "\n",
    "answer"
   ]
  },
  {
   "cell_type": "code",
   "execution_count": null,
   "id": "02109f9f-276b-4785-8214-4504dbc172a2",
   "metadata": {},
   "outputs": [],
   "source": []
  }
 ],
 "metadata": {
  "kernelspec": {
   "display_name": "Python 3 (ipykernel)",
   "language": "python",
   "name": "python3"
  },
  "language_info": {
   "codemirror_mode": {
    "name": "ipython",
    "version": 3
   },
   "file_extension": ".py",
   "mimetype": "text/x-python",
   "name": "python",
   "nbconvert_exporter": "python",
   "pygments_lexer": "ipython3",
   "version": "3.12.1"
  }
 },
 "nbformat": 4,
 "nbformat_minor": 5
}
