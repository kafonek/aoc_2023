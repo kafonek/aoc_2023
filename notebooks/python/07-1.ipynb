{
 "cells": [
  {
   "cell_type": "code",
   "execution_count": 1,
   "id": "79cecdbe-99c1-4c7b-aad3-85f2a63ffb9e",
   "metadata": {},
   "outputs": [
    {
     "data": {
      "text/plain": [
       "['32T3K 765', 'T55J5 684', 'KK677 28', 'KTJJT 220', 'QQQJA 483']"
      ]
     },
     "execution_count": 1,
     "metadata": {},
     "output_type": "execute_result"
    }
   ],
   "source": [
    "text = \"\"\"\n",
    "32T3K 765\n",
    "T55J5 684\n",
    "KK677 28\n",
    "KTJJT 220\n",
    "QQQJA 483\n",
    "\"\"\"\n",
    "\n",
    "lines = text.strip().split('\\n')\n",
    "lines"
   ]
  },
  {
   "cell_type": "code",
   "execution_count": 2,
   "id": "ba1a85b5-0fee-47f2-a39f-f10a8cafcccb",
   "metadata": {},
   "outputs": [
    {
     "data": {
      "text/plain": [
       "[Hand(cards=[<Card.THREE: 3>, <Card.TWO: 2>, <Card.TEN: 10>, <Card.THREE: 3>, <Card.KING: 13>], hand_type=<HandType.ONE_PAIR: 2>, value=(2, 3, 2, 10, 3, 13), bid=765),\n",
       " Hand(cards=[<Card.TEN: 10>, <Card.FIVE: 5>, <Card.FIVE: 5>, <Card.JACK: 11>, <Card.FIVE: 5>], hand_type=<HandType.THREE_OF_A_KIND: 4>, value=(4, 10, 5, 5, 11, 5), bid=684),\n",
       " Hand(cards=[<Card.KING: 13>, <Card.KING: 13>, <Card.SIX: 6>, <Card.SEVEN: 7>, <Card.SEVEN: 7>], hand_type=<HandType.TWO_PAIR: 3>, value=(3, 13, 13, 6, 7, 7), bid=28),\n",
       " Hand(cards=[<Card.KING: 13>, <Card.TEN: 10>, <Card.JACK: 11>, <Card.JACK: 11>, <Card.TEN: 10>], hand_type=<HandType.TWO_PAIR: 3>, value=(3, 13, 10, 11, 11, 10), bid=220),\n",
       " Hand(cards=[<Card.QUEEN: 12>, <Card.QUEEN: 12>, <Card.QUEEN: 12>, <Card.JACK: 11>, <Card.ACE: 14>], hand_type=<HandType.THREE_OF_A_KIND: 4>, value=(4, 12, 12, 12, 11, 14), bid=483)]"
      ]
     },
     "execution_count": 2,
     "metadata": {},
     "output_type": "execute_result"
    }
   ],
   "source": [
    "from aoc_2023.day07 import Hand\n",
    "\n",
    "hands = [Hand.from_string(line) for line in lines]\n",
    "hands"
   ]
  },
  {
   "cell_type": "code",
   "execution_count": 3,
   "id": "578661b8-0bef-41d8-9b87-111cb678d120",
   "metadata": {},
   "outputs": [
    {
     "data": {
      "text/plain": [
       "6440"
      ]
     },
     "execution_count": 3,
     "metadata": {},
     "output_type": "execute_result"
    }
   ],
   "source": [
    "answer = 0\n",
    "for idx, hand in enumerate(sorted(hands)):\n",
    "    power = idx + 1\n",
    "    value = hand.bid * power\n",
    "    answer += value\n",
    "\n",
    "answer"
   ]
  },
  {
   "cell_type": "code",
   "execution_count": null,
   "id": "8c062135-c827-43d4-96e5-2c4011d0d373",
   "metadata": {},
   "outputs": [],
   "source": []
  }
 ],
 "metadata": {
  "kernelspec": {
   "display_name": "Python 3 (ipykernel)",
   "language": "python",
   "name": "python3"
  },
  "language_info": {
   "codemirror_mode": {
    "name": "ipython",
    "version": 3
   },
   "file_extension": ".py",
   "mimetype": "text/x-python",
   "name": "python",
   "nbconvert_exporter": "python",
   "pygments_lexer": "ipython3",
   "version": "3.12.1"
  }
 },
 "nbformat": 4,
 "nbformat_minor": 5
}
