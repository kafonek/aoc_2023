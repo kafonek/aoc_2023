{
 "cells": [
  {
   "cell_type": "markdown",
   "id": "58ad5b41",
   "metadata": {},
   "source": [
    "Relevant directions from https://adventofcode.com/2023/day/1 part one -\n",
    "\n",
    "The newly-improved calibration document consists of lines of text; each line originally contained a specific calibration value that the Elves now need to recover. On each line, the calibration value can be found by combining the first digit and the last digit (in that order) to form a single two-digit number.\n",
    "\n",
    "For example:\n",
    "\n",
    "```\n",
    "1abc2\n",
    "pqr3stu8vwx\n",
    "a1b2c3d4e5f\n",
    "treb7uchet\n",
    "```\n",
    "\n",
    "In this example, the calibration values of these four lines are 12, 38, 15, and 77. Adding these together produces **142**.\n",
    "\n",
    "Consider your entire calibration document. What is the sum of all of the calibration values?"
   ]
  },
  {
   "cell_type": "code",
   "execution_count": 1,
   "id": "e89a9497-2a9a-415e-b935-d09e6bc0f24d",
   "metadata": {},
   "outputs": [
    {
     "data": {
      "text/plain": [
       "['1abc2', 'pqr3stu8vwx', 'a1b2c3d4e5f', 'treb7uchet']"
      ]
     },
     "execution_count": 1,
     "metadata": {},
     "output_type": "execute_result"
    }
   ],
   "source": [
    "text = \"\"\"\n",
    "1abc2\n",
    "pqr3stu8vwx\n",
    "a1b2c3d4e5f\n",
    "treb7uchet\n",
    "\"\"\"\n",
    "lines = text.split()\n",
    "lines"
   ]
  },
  {
   "cell_type": "code",
   "execution_count": 2,
   "id": "66cdfaf4-92a7-4126-89fe-8e4362152feb",
   "metadata": {},
   "outputs": [
    {
     "data": {
      "text/plain": [
       "aoc_2023.day01.Calibration"
      ]
     },
     "execution_count": 2,
     "metadata": {},
     "output_type": "execute_result"
    }
   ],
   "source": [
    "from aoc_2023.day01 import Calibration\n",
    "Calibration"
   ]
  },
  {
   "cell_type": "code",
   "execution_count": 3,
   "id": "c649e364",
   "metadata": {},
   "outputs": [
    {
     "data": {
      "text/plain": [
       "[Calibration(raw='1abc2'),\n",
       " Calibration(raw='pqr3stu8vwx'),\n",
       " Calibration(raw='a1b2c3d4e5f'),\n",
       " Calibration(raw='treb7uchet')]"
      ]
     },
     "execution_count": 3,
     "metadata": {},
     "output_type": "execute_result"
    }
   ],
   "source": [
    "calibrations = []\n",
    "\n",
    "for line in lines:\n",
    "    calibrations.append(Calibration.from_line(line))\n",
    "    \n",
    "calibrations"
   ]
  },
  {
   "cell_type": "code",
   "execution_count": 5,
   "id": "1df25377-a08c-4e3b-82eb-584f38845c31",
   "metadata": {},
   "outputs": [
    {
     "name": "stdout",
     "output_type": "stream",
     "text": [
      "12\n",
      "38\n",
      "15\n",
      "77\n"
     ]
    },
    {
     "data": {
      "text/plain": [
       "142"
      ]
     },
     "execution_count": 5,
     "metadata": {},
     "output_type": "execute_result"
    }
   ],
   "source": [
    "answer = 0\n",
    "for c in calibrations:\n",
    "    value = c.value()\n",
    "    print(value)\n",
    "    answer += value\n",
    "\n",
    "answer"
   ]
  }
 ],
 "metadata": {
  "kernelspec": {
   "display_name": "Python 3 (ipykernel)",
   "language": "python",
   "name": "python3"
  },
  "language_info": {
   "codemirror_mode": {
    "name": "ipython",
    "version": 3
   },
   "file_extension": ".py",
   "mimetype": "text/x-python",
   "name": "python",
   "nbconvert_exporter": "python",
   "pygments_lexer": "ipython3",
   "version": "3.12.1"
  }
 },
 "nbformat": 4,
 "nbformat_minor": 5
}
