{
 "cells": [
  {
   "cell_type": "code",
   "execution_count": 1,
   "id": "10bc8fd7-a7e9-4dd3-b86f-ddb410532565",
   "metadata": {},
   "outputs": [
    {
     "data": {
      "text/plain": [
       "788"
      ]
     },
     "execution_count": 1,
     "metadata": {},
     "output_type": "execute_result"
    }
   ],
   "source": [
    "text = open(\"../../data/day08.txt\").read()\n",
    "\n",
    "lines = text.strip().split('\\n')\n",
    "len(lines)"
   ]
  },
  {
   "cell_type": "code",
   "execution_count": 2,
   "id": "8391c107-5ef2-4c93-af14-b9733e96a9f5",
   "metadata": {},
   "outputs": [
    {
     "data": {
      "text/plain": [
       "'LRRLRRRLRLRLLRRLRLRLLRLRLRLLLLRRRLLRRRLRRRLRRRLLRLLRLRRLRLRLRRRLLLLRRLRLRRLRRLLRRRLRRLRLRRLRRLRRLRRLRLLRRLRRLLLLRLRLRRLLRRLLRRLRLLRLRRLRRLRRLRRRLRRLLLRRLRRRLRLRRRLLRLRRLRRRLRRLLRRRLRRLRLLRRLLRRLRRLRRRLRRLLRRLRRRLRLRLRLRLRLRRLRRLLRRRLRLRRLRRRLRLRLRLRLRLRRRLRRLRRRLLRRLRLLRRRLRRLRLLLLRRRLRRLRRRR'"
      ]
     },
     "execution_count": 2,
     "metadata": {},
     "output_type": "execute_result"
    }
   ],
   "source": [
    "lines[0]"
   ]
  },
  {
   "cell_type": "code",
   "execution_count": 3,
   "id": "2e9340c1-9ff8-414b-a4b4-32f78f1d2d79",
   "metadata": {},
   "outputs": [
    {
     "data": {
      "text/plain": [
       "''"
      ]
     },
     "execution_count": 3,
     "metadata": {},
     "output_type": "execute_result"
    }
   ],
   "source": [
    "lines[1]"
   ]
  },
  {
   "cell_type": "code",
   "execution_count": 4,
   "id": "44d7c270-2d4a-4934-bbc4-4ef7330e1353",
   "metadata": {},
   "outputs": [
    {
     "data": {
      "text/plain": [
       "'DRM = (DLQ, BGR)'"
      ]
     },
     "execution_count": 4,
     "metadata": {},
     "output_type": "execute_result"
    }
   ],
   "source": [
    "lines[2]"
   ]
  },
  {
   "cell_type": "code",
   "execution_count": 5,
   "id": "5bc2b564-7870-4b42-bee9-99f61deee23b",
   "metadata": {},
   "outputs": [
    {
     "data": {
      "text/plain": [
       "786"
      ]
     },
     "execution_count": 5,
     "metadata": {},
     "output_type": "execute_result"
    }
   ],
   "source": [
    "nodes = {}\n",
    "for line in lines[2:]:\n",
    "    k, eq, node1, node2 = line.split()\n",
    "    nodes[k] = (node1.strip('(,'), node2.strip(')'))\n",
    "\n",
    "len(nodes)"
   ]
  },
  {
   "cell_type": "code",
   "execution_count": 6,
   "id": "37ccb17c-0e39-432a-b8e5-e9cc49a019c9",
   "metadata": {},
   "outputs": [
    {
     "data": {
      "text/plain": [
       "[('DRM', ('DLQ', 'BGR')),\n",
       " ('PKD', ('TNC', 'DKH')),\n",
       " ('FSM', ('LKS', 'KPG')),\n",
       " ('NDS', ('KGD', 'HNX')),\n",
       " ('KQQ', ('DPF', 'GKD'))]"
      ]
     },
     "execution_count": 6,
     "metadata": {},
     "output_type": "execute_result"
    }
   ],
   "source": [
    "list(nodes.items())[:5]"
   ]
  },
  {
   "cell_type": "code",
   "execution_count": 7,
   "id": "d0bd08b4-48ed-49f2-b09f-56a93e8c6980",
   "metadata": {},
   "outputs": [
    {
     "data": {
      "text/plain": [
       "('HLR', 'RKL')"
      ]
     },
     "execution_count": 7,
     "metadata": {},
     "output_type": "execute_result"
    }
   ],
   "source": [
    "nodes['AAA']"
   ]
  },
  {
   "cell_type": "code",
   "execution_count": 17,
   "id": "c44914cc-f713-49f1-aa4e-da9c4627c509",
   "metadata": {},
   "outputs": [
    {
     "data": {
      "text/plain": [
       "293"
      ]
     },
     "execution_count": 17,
     "metadata": {},
     "output_type": "execute_result"
    }
   ],
   "source": [
    "cycle = []\n",
    "for c in lines[0]:\n",
    "    if c == 'L':\n",
    "        cycle.append(0)\n",
    "    else:\n",
    "        cycle.append(1)\n",
    "len(cycle)"
   ]
  },
  {
   "cell_type": "code",
   "execution_count": 18,
   "id": "236598d7-5c1e-46bb-a44f-f1d0948b866d",
   "metadata": {},
   "outputs": [
    {
     "data": {
      "text/plain": [
       "[0, 1, 1, 0, 1]"
      ]
     },
     "execution_count": 18,
     "metadata": {},
     "output_type": "execute_result"
    }
   ],
   "source": [
    "cycle[:5]"
   ]
  },
  {
   "cell_type": "code",
   "execution_count": 29,
   "id": "ef2ab78c-a07a-4f38-814c-f55147044474",
   "metadata": {},
   "outputs": [
    {
     "data": {
      "text/plain": [
       "['MJA', 'RGA', 'JMA', 'XHA', 'DQA', 'AAA']"
      ]
     },
     "execution_count": 29,
     "metadata": {},
     "output_type": "execute_result"
    }
   ],
   "source": [
    "a_nodes = [k for k in nodes if k.endswith('A')]\n",
    "a_nodes"
   ]
  },
  {
   "cell_type": "code",
   "execution_count": 30,
   "id": "f5f39c3a-e58d-4414-9ecc-9f4d6d22f1c7",
   "metadata": {},
   "outputs": [
    {
     "name": "stdout",
     "output_type": "stream",
     "text": [
      "Exiting due to seeing node_tup twice: {} ('NPL', 1)\n",
      "Exiting due to seeing node_tup twice: {} ('LPS', 1)\n",
      "Exiting due to seeing node_tup twice: {} ('HNG', 2)\n",
      "Exiting due to seeing node_tup twice: {} ('LXT', 1)\n",
      "Exiting due to seeing node_tup twice: {} ('PMM', 1)\n",
      "Exiting due to ZZZ\n",
      "MJA 20804\n",
      "RGA 17874\n",
      "JMA 23149\n",
      "XHA 15530\n",
      "DQA 17288\n",
      "AAA 19631\n"
     ]
    }
   ],
   "source": [
    "a_paths = {}\n",
    "for a_node in a_nodes:\n",
    "    current_node = a_node\n",
    "    visited = []\n",
    "    \n",
    "    while True:\n",
    "        if len(visited) > 100000:\n",
    "            break\n",
    "        exit_loop = False\n",
    "        for cycle_index in range(len(cycle)):\n",
    "            l_r_idx = cycle[cycle_index] # 0 or 1\n",
    "            current_node = nodes[current_node][l_r_idx]\n",
    "            node_tup = (current_node, cycle_index)\n",
    "            if node_tup in visited:\n",
    "                print(\"Exiting due to seeing node_tup twice: {}\", node_tup)\n",
    "                exit_loop = True\n",
    "                break\n",
    "            visited.append(node_tup)\n",
    "            if current_node == 'ZZZ':\n",
    "                print(\"Exiting due to ZZZ\")\n",
    "                exit_loop = True\n",
    "                break\n",
    "        if exit_loop:\n",
    "            break\n",
    "    \n",
    "    a_paths[a_node] = visited\n",
    "\n",
    "for k, v in a_paths.items():\n",
    "    print(k, len(v))"
   ]
  },
  {
   "cell_type": "code",
   "execution_count": 31,
   "id": "6ce23fa5-f9f5-4b68-ac44-a7f1419f65aa",
   "metadata": {},
   "outputs": [
    {
     "data": {
      "text/plain": [
       "[('FXB', 0),\n",
       " ('NPL', 1),\n",
       " ('QHL', 2),\n",
       " ('NRB', 3),\n",
       " ('RFT', 4),\n",
       " ('GMS', 5),\n",
       " ('TNF', 6),\n",
       " ('HQJ', 7),\n",
       " ('JCR', 8),\n",
       " ('MFS', 9)]"
      ]
     },
     "execution_count": 31,
     "metadata": {},
     "output_type": "execute_result"
    }
   ],
   "source": [
    "a_paths['MJA'][:10]"
   ]
  },
  {
   "cell_type": "code",
   "execution_count": null,
   "id": "3b450a7d-8a65-4e43-9568-674597234946",
   "metadata": {},
   "outputs": [],
   "source": []
  }
 ],
 "metadata": {
  "kernelspec": {
   "display_name": "Python 3 (ipykernel)",
   "language": "python",
   "name": "python3"
  },
  "language_info": {
   "codemirror_mode": {
    "name": "ipython",
    "version": 3
   },
   "file_extension": ".py",
   "mimetype": "text/x-python",
   "name": "python",
   "nbconvert_exporter": "python",
   "pygments_lexer": "ipython3",
   "version": "3.12.1"
  }
 },
 "nbformat": 4,
 "nbformat_minor": 5
}
