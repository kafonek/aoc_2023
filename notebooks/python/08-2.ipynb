{
 "cells": [
  {
   "cell_type": "code",
   "execution_count": 1,
   "id": "888043dc-66a1-47c1-bc1d-a45a95a2cefd",
   "metadata": {},
   "outputs": [
    {
     "data": {
      "text/plain": [
       "['L', 'R']"
      ]
     },
     "execution_count": 1,
     "metadata": {},
     "output_type": "execute_result"
    }
   ],
   "source": [
    "text = \"\"\"\n",
    "LR\n",
    "\n",
    "11A = (11B, XXX)\n",
    "11B = (XXX, 11Z)\n",
    "11Z = (11B, XXX)\n",
    "22A = (22B, XXX)\n",
    "22B = (22C, 22C)\n",
    "22C = (22Z, 22Z)\n",
    "22Z = (22B, 22B)\n",
    "XXX = (XXX, XXX)\n",
    "\"\"\"\n",
    "\n",
    "lines = text.strip().split('\\n')\n",
    "pattern = list(lines[0])\n",
    "pattern"
   ]
  },
  {
   "cell_type": "code",
   "execution_count": 2,
   "id": "0dd7d498-1071-4b25-984e-6f688a74ac69",
   "metadata": {},
   "outputs": [
    {
     "data": {
      "text/plain": [
       "'11A = (11B, XXX)'"
      ]
     },
     "execution_count": 2,
     "metadata": {},
     "output_type": "execute_result"
    }
   ],
   "source": [
    "lines[2]"
   ]
  },
  {
   "cell_type": "code",
   "execution_count": 3,
   "id": "c0851df0-1842-4f42-9c19-8c242431f182",
   "metadata": {},
   "outputs": [
    {
     "data": {
      "text/plain": [
       "Point(name='11A', left='11B', right='XXX', index=0)"
      ]
     },
     "execution_count": 3,
     "metadata": {},
     "output_type": "execute_result"
    }
   ],
   "source": [
    "from aoc_2023.day08 import Point\n",
    "\n",
    "p = Point.from_string(lines[2])\n",
    "p"
   ]
  },
  {
   "cell_type": "code",
   "execution_count": 4,
   "id": "7c991e59-aaac-43aa-91f5-45e8db4085a6",
   "metadata": {},
   "outputs": [
    {
     "data": {
      "text/plain": [
       "[Point(name='11A', left='11B', right='XXX', index=0),\n",
       " Point(name='11B', left='XXX', right='11Z', index=1),\n",
       " Point(name='11Z', left='11B', right='XXX', index=2),\n",
       " Point(name='22A', left='22B', right='XXX', index=3),\n",
       " Point(name='22B', left='22C', right='22C', index=4),\n",
       " Point(name='22C', left='22Z', right='22Z', index=5),\n",
       " Point(name='22Z', left='22B', right='22B', index=6),\n",
       " Point(name='XXX', left='XXX', right='XXX', index=7)]"
      ]
     },
     "execution_count": 4,
     "metadata": {},
     "output_type": "execute_result"
    }
   ],
   "source": [
    "point_list = []\n",
    "point_dict = {}\n",
    "for i, line in enumerate(lines[2:]):\n",
    "    p = Point.from_string(line)\n",
    "    p.index = i\n",
    "    point_list.append(p)\n",
    "    point_dict[p.name] = p\n",
    "\n",
    "point_list"
   ]
  },
  {
   "cell_type": "code",
   "execution_count": 5,
   "id": "a284895e-4b61-4e0c-9bde-25558b423758",
   "metadata": {},
   "outputs": [
    {
     "data": {
      "text/plain": [
       "{'11A': Point(name='11A', left='11B', right='XXX', index=0),\n",
       " '11B': Point(name='11B', left='XXX', right='11Z', index=1),\n",
       " '11Z': Point(name='11Z', left='11B', right='XXX', index=2),\n",
       " '22A': Point(name='22A', left='22B', right='XXX', index=3),\n",
       " '22B': Point(name='22B', left='22C', right='22C', index=4),\n",
       " '22C': Point(name='22C', left='22Z', right='22Z', index=5),\n",
       " '22Z': Point(name='22Z', left='22B', right='22B', index=6),\n",
       " 'XXX': Point(name='XXX', left='XXX', right='XXX', index=7)}"
      ]
     },
     "execution_count": 5,
     "metadata": {},
     "output_type": "execute_result"
    }
   ],
   "source": [
    "point_dict"
   ]
  },
  {
   "cell_type": "code",
   "execution_count": 6,
   "id": "4ddf44d0-b262-4e2f-b361-c0553e7bd41b",
   "metadata": {},
   "outputs": [
    {
     "data": {
      "text/plain": [
       "[PointIndex(idx=0, left_idx=1, right_idx=7),\n",
       " PointIndex(idx=1, left_idx=7, right_idx=2),\n",
       " PointIndex(idx=2, left_idx=1, right_idx=7),\n",
       " PointIndex(idx=3, left_idx=4, right_idx=7),\n",
       " PointIndex(idx=4, left_idx=5, right_idx=5),\n",
       " PointIndex(idx=5, left_idx=6, right_idx=6),\n",
       " PointIndex(idx=6, left_idx=4, right_idx=4),\n",
       " PointIndex(idx=7, left_idx=7, right_idx=7)]"
      ]
     },
     "execution_count": 6,
     "metadata": {},
     "output_type": "execute_result"
    }
   ],
   "source": [
    "from aoc_2023.day08 import PointIndex\n",
    "\n",
    "current_indices = []\n",
    "end_point_indices = set()\n",
    "point_index = []\n",
    "\n",
    "for p in point_list:\n",
    "    left = point_dict.get(p.left)\n",
    "    right = point_dict.get(p.right)\n",
    "    pi = PointIndex(idx=p.index, left_idx=left.index, right_idx=right.index)\n",
    "    point_index.append(pi)\n",
    "    if p.name.endswith('A'):\n",
    "        current_indices.append(p.index)\n",
    "    if p.name.endswith('Z'):\n",
    "        end_point_indices.add(p.index)\n",
    "\n",
    "point_index"
   ]
  },
  {
   "cell_type": "code",
   "execution_count": 7,
   "id": "6b236e16-6eac-45e0-ac5b-116079665c4b",
   "metadata": {},
   "outputs": [
    {
     "data": {
      "text/plain": [
       "[0, 3]"
      ]
     },
     "execution_count": 7,
     "metadata": {},
     "output_type": "execute_result"
    }
   ],
   "source": [
    "current_indices"
   ]
  },
  {
   "cell_type": "code",
   "execution_count": 8,
   "id": "96ba26dd-9f7f-489c-b693-35f48d20ee44",
   "metadata": {},
   "outputs": [
    {
     "data": {
      "text/plain": [
       "{2, 6}"
      ]
     },
     "execution_count": 8,
     "metadata": {},
     "output_type": "execute_result"
    }
   ],
   "source": [
    "end_point_indices"
   ]
  },
  {
   "cell_type": "code",
   "execution_count": 9,
   "id": "5a108625-39bc-4d70-a489-53ba77a07a7b",
   "metadata": {},
   "outputs": [
    {
     "data": {
      "text/plain": [
       "6"
      ]
     },
     "execution_count": 9,
     "metadata": {},
     "output_type": "execute_result"
    }
   ],
   "source": [
    "import itertools\n",
    "cycle = itertools.cycle(pattern)\n",
    "\n",
    "steps = 0\n",
    "while True:\n",
    "    direction = next(cycle)\n",
    "    complete = True\n",
    "    for idx, value in enumerate(current_indices):\n",
    "        pi = point_index[value]\n",
    "        if direction == 'L':\n",
    "            new = pi.left_idx\n",
    "        else:\n",
    "            new = pi.right_idx\n",
    "        current_indices[idx] = new\n",
    "        if new not in end_point_indices:\n",
    "            complete = False\n",
    "    steps += 1\n",
    "    if complete:\n",
    "        break\n",
    "    \n",
    "steps"
   ]
  },
  {
   "cell_type": "code",
   "execution_count": null,
   "id": "ea61fdc4-4520-4e08-a790-633f881f3e9e",
   "metadata": {},
   "outputs": [],
   "source": []
  }
 ],
 "metadata": {
  "kernelspec": {
   "display_name": "Python 3 (ipykernel)",
   "language": "python",
   "name": "python3"
  },
  "language_info": {
   "codemirror_mode": {
    "name": "ipython",
    "version": 3
   },
   "file_extension": ".py",
   "mimetype": "text/x-python",
   "name": "python",
   "nbconvert_exporter": "python",
   "pygments_lexer": "ipython3",
   "version": "3.12.1"
  }
 },
 "nbformat": 4,
 "nbformat_minor": 5
}
