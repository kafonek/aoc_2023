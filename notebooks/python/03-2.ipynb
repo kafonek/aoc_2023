{
 "cells": [
  {
   "cell_type": "code",
   "execution_count": 1,
   "id": "08bd2c1f-5840-4b82-974b-c4cbe4e7e6c4",
   "metadata": {},
   "outputs": [
    {
     "data": {
      "text/plain": [
       "<Grid (10, 10)>"
      ]
     },
     "execution_count": 1,
     "metadata": {},
     "output_type": "execute_result"
    }
   ],
   "source": [
    "from aoc_2023.gridthings import Grid\n",
    "\n",
    "text = \"\"\"\n",
    "467..114..\n",
    "...*......\n",
    "..35..633.\n",
    "......#...\n",
    "617*......\n",
    ".....+.58.\n",
    "..592.....\n",
    "......755.\n",
    "...$.*....\n",
    ".664.598..\n",
    "\"\"\"\n",
    "\n",
    "grid = Grid.from_string(text.strip())\n",
    "grid"
   ]
  },
  {
   "cell_type": "code",
   "execution_count": 2,
   "id": "63a2b090-814e-407d-9c41-df66f0ba0026",
   "metadata": {},
   "outputs": [
    {
     "data": {
      "text/plain": [
       "[<Number 467>,\n",
       " <Number 114>,\n",
       " <Number 35>,\n",
       " <Number 633>,\n",
       " <Number 617>,\n",
       " <Number 58>,\n",
       " <Number 592>,\n",
       " <Number 755>,\n",
       " <Number 664>,\n",
       " <Number 598>]"
      ]
     },
     "execution_count": 2,
     "metadata": {},
     "output_type": "execute_result"
    }
   ],
   "source": [
    "from aoc_2023.day03 import Number\n",
    "\n",
    "numbers = []\n",
    "current = []\n",
    "for row in grid.rows():\n",
    "    for node in row:\n",
    "        # if Node is a number, add it to the current set of nodes we're tracking\n",
    "        if node.value.isdigit():\n",
    "            current.append(node)\n",
    "\n",
    "        # if it's not a number, check if we were tracking a set of numbers and save it off\n",
    "        else:\n",
    "            if current:\n",
    "                numbers.append(Number(nodes=current))\n",
    "                current = []\n",
    "    # at the end of a row, if we were tracking a number then save it off\n",
    "    if current:\n",
    "        numbers.append(Number(nodes=current))\n",
    "        current = []\n",
    "\n",
    "numbers                "
   ]
  },
  {
   "cell_type": "code",
   "execution_count": 3,
   "id": "79ac2606-1444-44c2-9a55-00de33c8dd59",
   "metadata": {},
   "outputs": [
    {
     "data": {
      "text/plain": [
       "defaultdict(list,\n",
       "            {<Node (3, 1) = *>: [<Number 467>, <Number 35>],\n",
       "             <Node (3, 4) = *>: [<Number 617>],\n",
       "             <Node (5, 8) = *>: [<Number 755>, <Number 598>]})"
      ]
     },
     "execution_count": 3,
     "metadata": {},
     "output_type": "execute_result"
    }
   ],
   "source": [
    "import collections\n",
    "\n",
    "gear_neighbors = collections.defaultdict(list)\n",
    "for n in numbers:\n",
    "    for neighbor in n.neighbors():\n",
    "        if neighbor.value == '*':\n",
    "            gear_neighbors[neighbor].append(n)\n",
    "\n",
    "gear_neighbors"
   ]
  },
  {
   "cell_type": "code",
   "execution_count": 5,
   "id": "9b93a1ca-939f-415e-9aa1-b6ff9d411d48",
   "metadata": {},
   "outputs": [
    {
     "data": {
      "text/plain": [
       "467835"
      ]
     },
     "execution_count": 5,
     "metadata": {},
     "output_type": "execute_result"
    }
   ],
   "source": [
    "answer = 0\n",
    "for gear, touched_numbers in gear_neighbors.items():\n",
    "    if len(touched_numbers) == 2:\n",
    "        answer += touched_numbers[0].value * touched_numbers[1].value\n",
    "\n",
    "answer"
   ]
  },
  {
   "cell_type": "code",
   "execution_count": null,
   "id": "e8d7bc70-c54f-4306-9ece-e3eea4aca3ac",
   "metadata": {},
   "outputs": [],
   "source": []
  }
 ],
 "metadata": {
  "kernelspec": {
   "display_name": "Python 3 (ipykernel)",
   "language": "python",
   "name": "python3"
  },
  "language_info": {
   "codemirror_mode": {
    "name": "ipython",
    "version": 3
   },
   "file_extension": ".py",
   "mimetype": "text/x-python",
   "name": "python",
   "nbconvert_exporter": "python",
   "pygments_lexer": "ipython3",
   "version": "3.12.1"
  }
 },
 "nbformat": 4,
 "nbformat_minor": 5
}
