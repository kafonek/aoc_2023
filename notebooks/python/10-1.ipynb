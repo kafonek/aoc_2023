{
 "cells": [
  {
   "cell_type": "code",
   "execution_count": 1,
   "id": "92ac0c4f-d734-49de-8df3-14fd0dd52d43",
   "metadata": {},
   "outputs": [
    {
     "data": {
      "text/plain": [
       "<Grid (5, 5)>"
      ]
     },
     "execution_count": 1,
     "metadata": {},
     "output_type": "execute_result"
    }
   ],
   "source": [
    "from aoc_2023.gridthings import Grid, Node\n",
    "\n",
    "text = \"\"\"\n",
    ".....\n",
    ".S-7.\n",
    ".|.|.\n",
    ".L-J.\n",
    ".....\n",
    "\"\"\".strip()\n",
    "\n",
    "grid = Grid.from_string(text)\n",
    "grid"
   ]
  },
  {
   "cell_type": "code",
   "execution_count": 2,
   "id": "1af342da-dcf2-4beb-b58c-8bef71724ae8",
   "metadata": {},
   "outputs": [
    {
     "data": {
      "text/plain": [
       "7"
      ]
     },
     "execution_count": 2,
     "metadata": {},
     "output_type": "execute_result"
    }
   ],
   "source": [
    "for node in grid.flatten():\n",
    "    if node.value == '-':\n",
    "        grid.add_edge(node, node.left())\n",
    "        grid.add_edge(node, node.right())\n",
    "    elif node.value == '|':\n",
    "        grid.add_edge(node, node.up())\n",
    "        grid.add_edge(node, node.down())\n",
    "    elif node.value == '7':\n",
    "        grid.add_edge(node, node.left())\n",
    "        grid.add_edge(node, node.down())\n",
    "    elif node.value == 'J':\n",
    "        grid.add_edge(node, node.up())\n",
    "        grid.add_edge(node, node.left())\n",
    "    elif node.value == 'L':\n",
    "        grid.add_edge(node, node.right())\n",
    "        grid.add_edge(node, node.up())\n",
    "    elif node.value == 'F':\n",
    "        grid.add_edge(node, node.down())\n",
    "        grid.add_edge(node, node.right())\n",
    "\n",
    "len(grid.edges)"
   ]
  },
  {
   "cell_type": "code",
   "execution_count": 3,
   "id": "b3b4622d-014e-4c2d-95d0-45a721574595",
   "metadata": {},
   "outputs": [
    {
     "data": {
      "text/plain": [
       "{<Node (2, 1) = ->: {<Node (1, 1) = S>: 1, <Node (3, 1) = 7>: 1},\n",
       " <Node (3, 1) = 7>: {<Node (2, 1) = ->: 1, <Node (3, 2) = |>: 1},\n",
       " <Node (1, 2) = |>: {<Node (1, 1) = S>: 1, <Node (1, 3) = L>: 1},\n",
       " <Node (3, 2) = |>: {<Node (3, 1) = 7>: 1, <Node (3, 3) = J>: 1},\n",
       " <Node (1, 3) = L>: {<Node (2, 3) = ->: 1, <Node (1, 2) = |>: 1},\n",
       " <Node (2, 3) = ->: {<Node (1, 3) = L>: 1, <Node (3, 3) = J>: 1},\n",
       " <Node (3, 3) = J>: {<Node (3, 2) = |>: 1, <Node (2, 3) = ->: 1}}"
      ]
     },
     "execution_count": 3,
     "metadata": {},
     "output_type": "execute_result"
    }
   ],
   "source": [
    "grid.edges"
   ]
  },
  {
   "cell_type": "code",
   "execution_count": 4,
   "id": "440193df-563e-4997-b94c-5caa52b0a76b",
   "metadata": {},
   "outputs": [
    {
     "data": {
      "text/plain": [
       "<Node (1, 1) = S>"
      ]
     },
     "execution_count": 4,
     "metadata": {},
     "output_type": "execute_result"
    }
   ],
   "source": [
    "for node in grid.flatten():\n",
    "    if node.value == 'S':\n",
    "        for neighbor in node.linear():\n",
    "            if neighbor and node in grid.get_edges(neighbor):\n",
    "                grid.add_edge(node, neighbor)\n",
    "        break\n",
    "node"
   ]
  },
  {
   "cell_type": "code",
   "execution_count": 5,
   "id": "062b80d6-3eb8-49f6-84e5-a3083e0fd04f",
   "metadata": {},
   "outputs": [
    {
     "data": {
      "text/plain": [
       "{<Node (2, 1) = ->: 1, <Node (1, 2) = |>: 1}"
      ]
     },
     "execution_count": 5,
     "metadata": {},
     "output_type": "execute_result"
    }
   ],
   "source": [
    "grid.get_edges(node)"
   ]
  },
  {
   "cell_type": "code",
   "execution_count": 6,
   "id": "9e6adb3e-33fe-46d7-8fbf-45a4875f2d4d",
   "metadata": {},
   "outputs": [
    {
     "data": {
      "text/plain": [
       "<Node (1, 2) = |>"
      ]
     },
     "execution_count": 6,
     "metadata": {},
     "output_type": "execute_result"
    }
   ],
   "source": [
    "nxt_node, _weight = grid.get_edges(node).popitem()\n",
    "nxt_node"
   ]
  },
  {
   "cell_type": "code",
   "execution_count": 7,
   "id": "020b2bcb-a44b-4963-bb99-d713e3902199",
   "metadata": {},
   "outputs": [
    {
     "data": {
      "text/plain": [
       "[<Node (1, 1) = S>,\n",
       " <Node (1, 2) = |>,\n",
       " <Node (1, 3) = L>,\n",
       " <Node (2, 3) = ->,\n",
       " <Node (3, 3) = J>,\n",
       " <Node (3, 2) = |>,\n",
       " <Node (3, 1) = 7>,\n",
       " <Node (2, 1) = ->]"
      ]
     },
     "execution_count": 7,
     "metadata": {},
     "output_type": "execute_result"
    }
   ],
   "source": [
    "path = [node, nxt_node]\n",
    "while True:\n",
    "    last_node = path[-2]\n",
    "    current_node = path[-1]\n",
    "    edges = list(grid.get_edges(current_node))\n",
    "    nxt = edges[0] if edges[0] != last_node else edges[1]\n",
    "    if nxt.value == 'S':\n",
    "        break\n",
    "    path.append(nxt)\n",
    "        \n",
    "path"
   ]
  },
  {
   "cell_type": "code",
   "execution_count": 8,
   "id": "3d2a8d7c-c1ad-4515-9fe3-ec06be5d0ac5",
   "metadata": {},
   "outputs": [
    {
     "data": {
      "text/plain": [
       "4.0"
      ]
     },
     "execution_count": 8,
     "metadata": {},
     "output_type": "execute_result"
    }
   ],
   "source": [
    "len(path) / 2"
   ]
  }
 ],
 "metadata": {
  "kernelspec": {
   "display_name": "Python 3 (ipykernel)",
   "language": "python",
   "name": "python3"
  },
  "language_info": {
   "codemirror_mode": {
    "name": "ipython",
    "version": 3
   },
   "file_extension": ".py",
   "mimetype": "text/x-python",
   "name": "python",
   "nbconvert_exporter": "python",
   "pygments_lexer": "ipython3",
   "version": "3.12.1"
  }
 },
 "nbformat": 4,
 "nbformat_minor": 5
}
