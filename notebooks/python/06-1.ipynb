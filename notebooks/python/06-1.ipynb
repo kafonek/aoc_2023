{
 "cells": [
  {
   "cell_type": "code",
   "execution_count": 1,
   "id": "65fb1a68-ed8f-4b40-863c-7e744b678e9c",
   "metadata": {},
   "outputs": [
    {
     "data": {
      "text/plain": [
       "(['7', '15', '30'], ['9', '40', '200'])"
      ]
     },
     "execution_count": 1,
     "metadata": {},
     "output_type": "execute_result"
    }
   ],
   "source": [
    "text = \"\"\"\n",
    "Time:      7  15   30\n",
    "Distance:  9  40  200\n",
    "\"\"\"\n",
    "\n",
    "lines = text.strip().split('\\n')\n",
    "times = lines[0].split(':')[1].split()\n",
    "distances = lines[1].split(':')[1].split()\n",
    "times, distances"
   ]
  },
  {
   "cell_type": "code",
   "execution_count": 2,
   "id": "6531eb33-1a58-40dc-9be9-7fab25c0fb83",
   "metadata": {},
   "outputs": [
    {
     "name": "stdout",
     "output_type": "stream",
     "text": [
      "Race(time=7, distance_to_beat=9) 4\n",
      "Race(time=15, distance_to_beat=40) 8\n",
      "Race(time=30, distance_to_beat=200) 9\n"
     ]
    },
    {
     "data": {
      "text/plain": [
       "[4, 8, 9]"
      ]
     },
     "execution_count": 2,
     "metadata": {},
     "output_type": "execute_result"
    }
   ],
   "source": [
    "from aoc_2023.day06 import Race\n",
    "\n",
    "results = []\n",
    "for (t, d) in zip(times, distances):\n",
    "    r = Race(time=int(t), distance_to_beat=int(d))\n",
    "    result = r.run()\n",
    "    results.append(result)\n",
    "    print(r, result)\n",
    "\n",
    "results"
   ]
  },
  {
   "cell_type": "code",
   "execution_count": 3,
   "id": "4d4fb474-3e4e-4639-ba96-d39266c99c0d",
   "metadata": {},
   "outputs": [
    {
     "data": {
      "text/plain": [
       "288"
      ]
     },
     "execution_count": 3,
     "metadata": {},
     "output_type": "execute_result"
    }
   ],
   "source": [
    "import math\n",
    "math.prod(results)"
   ]
  },
  {
   "cell_type": "code",
   "execution_count": null,
   "id": "5a2b28d0-818c-4680-8265-30da562ce213",
   "metadata": {},
   "outputs": [],
   "source": []
  }
 ],
 "metadata": {
  "kernelspec": {
   "display_name": "Python 3 (ipykernel)",
   "language": "python",
   "name": "python3"
  },
  "language_info": {
   "codemirror_mode": {
    "name": "ipython",
    "version": 3
   },
   "file_extension": ".py",
   "mimetype": "text/x-python",
   "name": "python",
   "nbconvert_exporter": "python",
   "pygments_lexer": "ipython3",
   "version": "3.12.1"
  }
 },
 "nbformat": 4,
 "nbformat_minor": 5
}
