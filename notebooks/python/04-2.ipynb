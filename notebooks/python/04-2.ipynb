{
 "cells": [
  {
   "cell_type": "code",
   "execution_count": 1,
   "id": "ee80730c-7438-4dcc-b184-f6e7aa494114",
   "metadata": {},
   "outputs": [
    {
     "data": {
      "text/plain": [
       "['Card 1: 41 48 83 86 17 | 83 86  6 31 17  9 48 53',\n",
       " 'Card 2: 13 32 20 16 61 | 61 30 68 82 17 32 24 19',\n",
       " 'Card 3:  1 21 53 59 44 | 69 82 63 72 16 21 14  1',\n",
       " 'Card 4: 41 92 73 84 69 | 59 84 76 51 58  5 54 83',\n",
       " 'Card 5: 87 83 26 28 32 | 88 30 70 12 93 22 82 36',\n",
       " 'Card 6: 31 18 13 56 72 | 74 77 10 23 35 67 36 11']"
      ]
     },
     "execution_count": 1,
     "metadata": {},
     "output_type": "execute_result"
    }
   ],
   "source": [
    "text = \"\"\"\n",
    "Card 1: 41 48 83 86 17 | 83 86  6 31 17  9 48 53\n",
    "Card 2: 13 32 20 16 61 | 61 30 68 82 17 32 24 19\n",
    "Card 3:  1 21 53 59 44 | 69 82 63 72 16 21 14  1\n",
    "Card 4: 41 92 73 84 69 | 59 84 76 51 58  5 54 83\n",
    "Card 5: 87 83 26 28 32 | 88 30 70 12 93 22 82 36\n",
    "Card 6: 31 18 13 56 72 | 74 77 10 23 35 67 36 11\n",
    "\"\"\"\n",
    "lines = text.strip().split('\\n')\n",
    "lines"
   ]
  },
  {
   "cell_type": "code",
   "execution_count": 2,
   "id": "8fb9be20-0758-4368-b3c2-da7dda1167f6",
   "metadata": {},
   "outputs": [
    {
     "data": {
      "text/plain": [
       "[2, 3, 4, 5]"
      ]
     },
     "execution_count": 2,
     "metadata": {},
     "output_type": "execute_result"
    }
   ],
   "source": [
    "from aoc_2023.day04 import Card\n",
    "        \n",
    "c = Card.from_string(lines[0])\n",
    "c.copies()"
   ]
  },
  {
   "cell_type": "code",
   "execution_count": 3,
   "id": "47b2abef-b33f-48e1-bb62-214437c068a8",
   "metadata": {},
   "outputs": [
    {
     "data": {
      "text/plain": [
       "defaultdict(int, {1: 1, 2: 2, 3: 4, 4: 8, 5: 14, 6: 1})"
      ]
     },
     "execution_count": 3,
     "metadata": {},
     "output_type": "execute_result"
    }
   ],
   "source": [
    "import collections\n",
    "\n",
    "cards = [Card.from_string(line) for line in lines]\n",
    "counts = collections.defaultdict(int)\n",
    "\n",
    "for card in cards:\n",
    "    counts[card.id] += 1\n",
    "\n",
    "for card in cards:\n",
    "    mult = counts[card.id]\n",
    "    for copy in card.copies():\n",
    "        counts[copy] += mult\n",
    "counts "
   ]
  },
  {
   "cell_type": "code",
   "execution_count": 4,
   "id": "b67c95ec-7173-4d5b-9523-2d642e19850b",
   "metadata": {},
   "outputs": [
    {
     "data": {
      "text/plain": [
       "30"
      ]
     },
     "execution_count": 4,
     "metadata": {},
     "output_type": "execute_result"
    }
   ],
   "source": [
    "answer = sum(counts.values())\n",
    "answer"
   ]
  },
  {
   "cell_type": "code",
   "execution_count": null,
   "id": "eda69c05-340a-43af-9a3b-e9b2f30c2064",
   "metadata": {},
   "outputs": [],
   "source": []
  }
 ],
 "metadata": {
  "kernelspec": {
   "display_name": "Python 3 (ipykernel)",
   "language": "python",
   "name": "python3"
  },
  "language_info": {
   "codemirror_mode": {
    "name": "ipython",
    "version": 3
   },
   "file_extension": ".py",
   "mimetype": "text/x-python",
   "name": "python",
   "nbconvert_exporter": "python",
   "pygments_lexer": "ipython3",
   "version": "3.12.1"
  }
 },
 "nbformat": 4,
 "nbformat_minor": 5
}
