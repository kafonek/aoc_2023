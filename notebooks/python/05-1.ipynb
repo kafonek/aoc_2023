{
 "cells": [
  {
   "cell_type": "code",
   "execution_count": 1,
   "id": "6dc6238f-fe3e-4518-aeff-52d8d2af113c",
   "metadata": {},
   "outputs": [
    {
     "data": {
      "text/plain": [
       "['seeds: 79 14 55 13',\n",
       " '',\n",
       " 'seed-to-soil map:',\n",
       " '50 98 2',\n",
       " '52 50 48',\n",
       " '',\n",
       " 'soil-to-fertilizer map:',\n",
       " '0 15 37',\n",
       " '37 52 2',\n",
       " '39 0 15',\n",
       " '',\n",
       " 'fertilizer-to-water map:',\n",
       " '49 53 8',\n",
       " '0 11 42',\n",
       " '42 0 7',\n",
       " '57 7 4',\n",
       " '',\n",
       " 'water-to-light map:',\n",
       " '88 18 7',\n",
       " '18 25 70',\n",
       " '',\n",
       " 'light-to-temperature map:',\n",
       " '45 77 23',\n",
       " '81 45 19',\n",
       " '68 64 13',\n",
       " '',\n",
       " 'temperature-to-humidity map:',\n",
       " '0 69 1',\n",
       " '1 0 69',\n",
       " '',\n",
       " 'humidity-to-location map:',\n",
       " '60 56 37',\n",
       " '56 93 4']"
      ]
     },
     "execution_count": 1,
     "metadata": {},
     "output_type": "execute_result"
    }
   ],
   "source": [
    "text = \"\"\"\n",
    "seeds: 79 14 55 13\n",
    "\n",
    "seed-to-soil map:\n",
    "50 98 2\n",
    "52 50 48\n",
    "\n",
    "soil-to-fertilizer map:\n",
    "0 15 37\n",
    "37 52 2\n",
    "39 0 15\n",
    "\n",
    "fertilizer-to-water map:\n",
    "49 53 8\n",
    "0 11 42\n",
    "42 0 7\n",
    "57 7 4\n",
    "\n",
    "water-to-light map:\n",
    "88 18 7\n",
    "18 25 70\n",
    "\n",
    "light-to-temperature map:\n",
    "45 77 23\n",
    "81 45 19\n",
    "68 64 13\n",
    "\n",
    "temperature-to-humidity map:\n",
    "0 69 1\n",
    "1 0 69\n",
    "\n",
    "humidity-to-location map:\n",
    "60 56 37\n",
    "56 93 4\n",
    "\"\"\"\n",
    "lines = text.strip().split('\\n')\n",
    "lines"
   ]
  },
  {
   "cell_type": "code",
   "execution_count": 2,
   "id": "42b76d75-fe5c-432d-9eae-db6d698cf407",
   "metadata": {},
   "outputs": [
    {
     "name": "stdout",
     "output_type": "stream",
     "text": [
      "seed-to-soil 2\n",
      "soil-to-fertilizer 3\n",
      "fertilizer-to-water 4\n",
      "water-to-light 2\n",
      "light-to-temperature 3\n",
      "temperature-to-humidity 2\n",
      "humidity-to-location 2\n"
     ]
    }
   ],
   "source": [
    "from dataclasses import dataclass, field\n",
    "from typing import List, Tuple\n",
    "from aoc_2023.day05 import Range, Mapping, Pipeline\n",
    "\n",
    "pipeline = Pipeline.from_lines(lines[2:])\n",
    "for map in pipeline.maps:\n",
    "    print(map.name, len(map.ranges))"
   ]
  },
  {
   "cell_type": "code",
   "execution_count": 3,
   "id": "32c13219-e9fb-4fa3-b4e8-39440b181d25",
   "metadata": {},
   "outputs": [
    {
     "name": "stdout",
     "output_type": "stream",
     "text": [
      "79 -> seed-to-soil -> 81\n",
      "81 -> soil-to-fertilizer -> 81\n",
      "81 -> fertilizer-to-water -> 81\n",
      "81 -> water-to-light -> 74\n",
      "74 -> light-to-temperature -> 78\n",
      "78 -> temperature-to-humidity -> 78\n",
      "78 -> humidity-to-location -> 82\n"
     ]
    },
    {
     "data": {
      "text/plain": [
       "82"
      ]
     },
     "execution_count": 3,
     "metadata": {},
     "output_type": "execute_result"
    }
   ],
   "source": [
    "pipeline.get(79, debug=True)"
   ]
  },
  {
   "cell_type": "code",
   "execution_count": 4,
   "id": "f9d4d897-d1cc-4084-8633-32c0ab4fb929",
   "metadata": {},
   "outputs": [
    {
     "data": {
      "text/plain": [
       "['79', '14', '55', '13']"
      ]
     },
     "execution_count": 4,
     "metadata": {},
     "output_type": "execute_result"
    }
   ],
   "source": [
    "seeds = lines[0].split(':')[1].split()\n",
    "seeds"
   ]
  },
  {
   "cell_type": "code",
   "execution_count": 5,
   "id": "1e3f753c-1064-4e54-bdd9-8f1c27bb8dbf",
   "metadata": {},
   "outputs": [
    {
     "name": "stdout",
     "output_type": "stream",
     "text": [
      "79 82\n",
      "14 43\n",
      "55 86\n",
      "13 35\n"
     ]
    },
    {
     "data": {
      "text/plain": [
       "35"
      ]
     },
     "execution_count": 5,
     "metadata": {},
     "output_type": "execute_result"
    }
   ],
   "source": [
    "import math\n",
    "\n",
    "answer = math.inf\n",
    "for seed in seeds:\n",
    "    result = pipeline.get(int(seed))\n",
    "    print(seed, result)\n",
    "    if result < answer:\n",
    "        answer = result\n",
    "\n",
    "answer"
   ]
  },
  {
   "cell_type": "code",
   "execution_count": null,
   "id": "0dad9426-5d72-429a-9a33-58ec327b4dd3",
   "metadata": {},
   "outputs": [],
   "source": []
  }
 ],
 "metadata": {
  "kernelspec": {
   "display_name": "Python 3 (ipykernel)",
   "language": "python",
   "name": "python3"
  },
  "language_info": {
   "codemirror_mode": {
    "name": "ipython",
    "version": 3
   },
   "file_extension": ".py",
   "mimetype": "text/x-python",
   "name": "python",
   "nbconvert_exporter": "python",
   "pygments_lexer": "ipython3",
   "version": "3.12.1"
  }
 },
 "nbformat": 4,
 "nbformat_minor": 5
}
