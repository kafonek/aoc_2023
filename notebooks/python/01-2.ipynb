{
 "cells": [
  {
   "cell_type": "markdown",
   "id": "0ecebdeb",
   "metadata": {},
   "source": [
    "Relevant directions from https://adventofcode.com/2023/day/1 part two -\n",
    "\n",
    "Your calculation isn't quite right. It looks like some of the digits are actually spelled out with letters: one, two, three, four, five, six, seven, eight, and nine also count as valid \"digits\".\n",
    "\n",
    "Equipped with this new information, you now need to find the real first and last digit on each line. For example:\n",
    "\n",
    "```\n",
    "two1nine\n",
    "eightwothree\n",
    "abcone2threexyz\n",
    "xtwone3four\n",
    "4nineeightseven2\n",
    "zoneight234\n",
    "7pqrstsixteen\n",
    "```\n",
    "\n",
    "In this example, the calibration values are 29, 83, 13, 24, 42, 14, and 76. Adding these together produces **281**.\n",
    "\n",
    "What is the sum of all of the calibration values?"
   ]
  },
  {
   "cell_type": "code",
   "execution_count": 1,
   "id": "8232e961",
   "metadata": {},
   "outputs": [
    {
     "data": {
      "text/plain": [
       "['two1nine',\n",
       " 'eightwothree',\n",
       " 'abcone2threexyz',\n",
       " 'xtwone3four',\n",
       " '4nineeightseven2',\n",
       " 'zoneight234',\n",
       " '7pqrstsixteen']"
      ]
     },
     "execution_count": 1,
     "metadata": {},
     "output_type": "execute_result"
    }
   ],
   "source": [
    "text = \"\"\"\n",
    "two1nine\n",
    "eightwothree\n",
    "abcone2threexyz\n",
    "xtwone3four\n",
    "4nineeightseven2\n",
    "zoneight234\n",
    "7pqrstsixteen\n",
    "\"\"\"\n",
    "lines = text.split()\n",
    "lines"
   ]
  },
  {
   "cell_type": "code",
   "execution_count": 2,
   "id": "113ec6c2",
   "metadata": {},
   "outputs": [
    {
     "data": {
      "text/plain": [
       "aoc_2023.day01.Calibration"
      ]
     },
     "execution_count": 2,
     "metadata": {},
     "output_type": "execute_result"
    }
   ],
   "source": [
    "from aoc_2023.day01 import Calibration\n",
    "Calibration"
   ]
  },
  {
   "cell_type": "code",
   "execution_count": 3,
   "id": "a97d73e2",
   "metadata": {},
   "outputs": [
    {
     "data": {
      "text/plain": [
       "[Calibration(raw='two1nine'),\n",
       " Calibration(raw='eightwothree'),\n",
       " Calibration(raw='abcone2threexyz'),\n",
       " Calibration(raw='xtwone3four'),\n",
       " Calibration(raw='4nineeightseven2'),\n",
       " Calibration(raw='zoneight234'),\n",
       " Calibration(raw='7pqrstsixteen')]"
      ]
     },
     "execution_count": 3,
     "metadata": {},
     "output_type": "execute_result"
    }
   ],
   "source": [
    "calibrations = []\n",
    "\n",
    "for line in lines:\n",
    "    calibrations.append(Calibration.from_line(line))\n",
    "    \n",
    "calibrations"
   ]
  },
  {
   "cell_type": "code",
   "execution_count": 4,
   "id": "31d92219",
   "metadata": {},
   "outputs": [
    {
     "name": "stdout",
     "output_type": "stream",
     "text": [
      "29\n",
      "83\n",
      "13\n",
      "24\n",
      "42\n",
      "14\n",
      "76\n"
     ]
    },
    {
     "data": {
      "text/plain": [
       "281"
      ]
     },
     "execution_count": 4,
     "metadata": {},
     "output_type": "execute_result"
    }
   ],
   "source": [
    "answer = 0\n",
    "for c in calibrations:\n",
    "    value = c.value2()\n",
    "    print(value)\n",
    "    answer += value\n",
    "\n",
    "answer"
   ]
  },
  {
   "cell_type": "code",
   "execution_count": null,
   "id": "4d0ebc10",
   "metadata": {},
   "outputs": [],
   "source": []
  }
 ],
 "metadata": {
  "kernelspec": {
   "display_name": "Python 3 (ipykernel)",
   "language": "python",
   "name": "python3"
  },
  "language_info": {
   "codemirror_mode": {
    "name": "ipython",
    "version": 3
   },
   "file_extension": ".py",
   "mimetype": "text/x-python",
   "name": "python",
   "nbconvert_exporter": "python",
   "pygments_lexer": "ipython3",
   "version": "3.12.1"
  }
 },
 "nbformat": 4,
 "nbformat_minor": 5
}
