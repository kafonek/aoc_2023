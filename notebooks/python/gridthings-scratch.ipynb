{
 "cells": [
  {
   "cell_type": "code",
   "execution_count": 1,
   "id": "6dcb8166-c4dd-4d09-9d84-e50a6345d67b",
   "metadata": {},
   "outputs": [],
   "source": [
    "text = \"\"\"\n",
    "ABC\n",
    "DEF\n",
    "123\n",
    "FOO\n",
    "\"\"\".strip()"
   ]
  },
  {
   "cell_type": "code",
   "execution_count": 2,
   "id": "2784061d-7b78-45ea-87a4-82a12448513a",
   "metadata": {},
   "outputs": [
    {
     "data": {
      "text/plain": [
       "(aoc_2023.gridthings.grid.Grid, aoc_2023.gridthings.grid.Node)"
      ]
     },
     "execution_count": 2,
     "metadata": {},
     "output_type": "execute_result"
    }
   ],
   "source": [
    "from aoc_2023.gridthings import Grid, Node\n",
    "Grid, Node"
   ]
  },
  {
   "cell_type": "code",
   "execution_count": 3,
   "id": "f84f0d42-d022-4682-b021-a3818c93ed94",
   "metadata": {},
   "outputs": [
    {
     "data": {
      "text/plain": [
       "<Grid (4, 3)>"
      ]
     },
     "execution_count": 3,
     "metadata": {},
     "output_type": "execute_result"
    }
   ],
   "source": [
    "grid = Grid.from_string(text)\n",
    "grid"
   ]
  },
  {
   "cell_type": "code",
   "execution_count": 4,
   "id": "54eae5d0-f27c-4e70-a505-c968a507429b",
   "metadata": {},
   "outputs": [
    {
     "data": {
      "text/plain": [
       "[<Node (0, 0) = A>, <Node (1, 0) = B>, <Node (2, 0) = C>]"
      ]
     },
     "execution_count": 4,
     "metadata": {},
     "output_type": "execute_result"
    }
   ],
   "source": [
    "grid.get_row(0)"
   ]
  },
  {
   "cell_type": "code",
   "execution_count": 5,
   "id": "b7bc13f6-e55e-4723-b560-c36fcd2d4e69",
   "metadata": {},
   "outputs": [
    {
     "data": {
      "text/plain": [
       "[<Node (0, 0) = A>, <Node (0, 1) = D>, <Node (0, 2) = 1>, <Node (0, 3) = F>]"
      ]
     },
     "execution_count": 5,
     "metadata": {},
     "output_type": "execute_result"
    }
   ],
   "source": [
    "grid.get_col(0)"
   ]
  },
  {
   "cell_type": "code",
   "execution_count": 6,
   "id": "ddbb3b98-c81d-4c2d-864e-1404eeec39c4",
   "metadata": {},
   "outputs": [
    {
     "data": {
      "text/plain": [
       "<Node (1, 0) = B>"
      ]
     },
     "execution_count": 6,
     "metadata": {},
     "output_type": "execute_result"
    }
   ],
   "source": [
    "node = grid.get_node(1, 0)\n",
    "node"
   ]
  },
  {
   "cell_type": "code",
   "execution_count": 7,
   "id": "4e10355f-4d0f-48c6-a334-34a3860702cf",
   "metadata": {},
   "outputs": [
    {
     "data": {
      "text/plain": [
       "[<Node (0, 0) = A>,\n",
       " <Node (2, 0) = C>,\n",
       " <Node (1, 1) = E>,\n",
       " <Node (0, 1) = D>,\n",
       " <Node (2, 1) = F>]"
      ]
     },
     "execution_count": 7,
     "metadata": {},
     "output_type": "execute_result"
    }
   ],
   "source": [
    "node.neighbors()"
   ]
  },
  {
   "cell_type": "code",
   "execution_count": null,
   "id": "015c5702-381a-4dae-bfeb-d0716576abf4",
   "metadata": {},
   "outputs": [],
   "source": []
  }
 ],
 "metadata": {
  "kernelspec": {
   "display_name": "Python 3 (ipykernel)",
   "language": "python",
   "name": "python3"
  },
  "language_info": {
   "codemirror_mode": {
    "name": "ipython",
    "version": 3
   },
   "file_extension": ".py",
   "mimetype": "text/x-python",
   "name": "python",
   "nbconvert_exporter": "python",
   "pygments_lexer": "ipython3",
   "version": "3.12.1"
  }
 },
 "nbformat": 4,
 "nbformat_minor": 5
}
