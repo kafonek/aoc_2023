{
 "cells": [
  {
   "cell_type": "code",
   "execution_count": 1,
   "id": "8232e961",
   "metadata": {},
   "outputs": [
    {
     "data": {
      "text/plain": [
       "['two1nine',\n",
       " 'eightwothree',\n",
       " 'abcone2threexyz',\n",
       " 'xtwone3four',\n",
       " '4nineeightseven2',\n",
       " 'zoneight234',\n",
       " '7pqrstsixteen']"
      ]
     },
     "execution_count": 1,
     "metadata": {},
     "output_type": "execute_result"
    }
   ],
   "source": [
    "text = \"\"\"\n",
    "two1nine\n",
    "eightwothree\n",
    "abcone2threexyz\n",
    "xtwone3four\n",
    "4nineeightseven2\n",
    "zoneight234\n",
    "7pqrstsixteen\n",
    "\"\"\"\n",
    "lines = text.split()\n",
    "lines"
   ]
  },
  {
   "cell_type": "code",
   "execution_count": 2,
   "id": "113ec6c2",
   "metadata": {},
   "outputs": [
    {
     "data": {
      "text/plain": [
       "re.compile(r'one|two|three|four|five|six|seven|eight|nine|\\d', re.UNICODE)"
      ]
     },
     "execution_count": 2,
     "metadata": {},
     "output_type": "execute_result"
    }
   ],
   "source": [
    "import re\n",
    "maps = {'one': '1',\n",
    "        'two' : '2',\n",
    "        'three': '3',\n",
    "        'four': '4',\n",
    "        'five': '5',\n",
    "        'six': '6',\n",
    "        'seven': '7',\n",
    "        'eight': '8',\n",
    "        'nine': '9'}\n",
    "\n",
    "\n",
    "combined_pattern = '|'.join(maps.keys()) + '|\\d'\n",
    "pattern = re.compile(combined_pattern)\n",
    "pattern"
   ]
  },
  {
   "cell_type": "code",
   "execution_count": 3,
   "id": "a97d73e2",
   "metadata": {},
   "outputs": [
    {
     "data": {
      "text/plain": [
       "[['2', '1', '9'],\n",
       " ['8', '2', '3'],\n",
       " ['1', '2', '3'],\n",
       " ['2', '1', '3', '4'],\n",
       " ['4', '9', '8', '7', '2'],\n",
       " ['1', '8', '2', '3', '4'],\n",
       " ['7', '6']]"
      ]
     },
     "execution_count": 3,
     "metadata": {},
     "output_type": "execute_result"
    }
   ],
   "source": [
    "extracted_digits = []\n",
    "\n",
    "for line in lines:\n",
    "    matches = []\n",
    "    for i in range(len(line)):\n",
    "        match = pattern.match(line, i)\n",
    "        if match:\n",
    "            word_or_digit = match.group()\n",
    "            if word_or_digit in maps:\n",
    "                matches.append(maps[word_or_digit])\n",
    "            else:\n",
    "                matches.append(word_or_digit)\n",
    "    extracted_digits.append(matches)\n",
    "    \n",
    "extracted_digits   "
   ]
  },
  {
   "cell_type": "code",
   "execution_count": 4,
   "id": "31d92219",
   "metadata": {},
   "outputs": [
    {
     "data": {
      "text/plain": [
       "[29, 83, 13, 24, 42, 14, 76]"
      ]
     },
     "execution_count": 4,
     "metadata": {},
     "output_type": "execute_result"
    }
   ],
   "source": [
    "combined = []\n",
    "for item in extracted_digits:\n",
    "    s = item[0] + item[-1]\n",
    "    combined.append(int(s))\n",
    "    \n",
    "combined"
   ]
  },
  {
   "cell_type": "code",
   "execution_count": 5,
   "id": "a984df02",
   "metadata": {},
   "outputs": [
    {
     "data": {
      "text/plain": [
       "281"
      ]
     },
     "execution_count": 5,
     "metadata": {},
     "output_type": "execute_result"
    }
   ],
   "source": [
    "sum(combined)"
   ]
  },
  {
   "cell_type": "code",
   "execution_count": 6,
   "id": "e0827317",
   "metadata": {},
   "outputs": [
    {
     "name": "stdout",
     "output_type": "stream",
     "text": [
      "3.17 ms ± 23.2 µs per loop (mean ± std. dev. of 7 runs, 100 loops each)\n"
     ]
    }
   ],
   "source": [
    "%%timeit\n",
    "import re\n",
    "lines = open('../data/day01.txt').readlines()\n",
    "\n",
    "\n",
    "maps = {'one': '1',\n",
    "        'two' : '2',\n",
    "        'three': '3',\n",
    "        'four': '4',\n",
    "        'five': '5',\n",
    "        'six': '6',\n",
    "        'seven': '7',\n",
    "        'eight': '8',\n",
    "        'nine': '9'}\n",
    "\n",
    "\n",
    "combined_pattern = '|'.join(maps.keys()) + '|\\d'\n",
    "pattern = re.compile(combined_pattern)\n",
    "\n",
    "extracted_digits = []\n",
    "\n",
    "for line in lines:\n",
    "    matches = []\n",
    "    for i in range(len(line)):\n",
    "        match = pattern.match(line, i)\n",
    "        if match:\n",
    "            word_or_digit = match.group()\n",
    "            if word_or_digit in maps:\n",
    "                matches.append(maps[word_or_digit])\n",
    "            else:\n",
    "                matches.append(word_or_digit)\n",
    "    extracted_digits.append(matches)\n",
    "    \n",
    "combined = []\n",
    "for item in extracted_digits:\n",
    "    s = item[0] + item[-1]\n",
    "    combined.append(int(s))\n",
    "    \n",
    "sum(combined) "
   ]
  },
  {
   "cell_type": "code",
   "execution_count": null,
   "id": "4d0ebc10",
   "metadata": {},
   "outputs": [],
   "source": []
  }
 ],
 "metadata": {
  "kernelspec": {
   "display_name": "Python 3 (ipykernel)",
   "language": "python",
   "name": "python3"
  },
  "language_info": {
   "codemirror_mode": {
    "name": "ipython",
    "version": 3
   },
   "file_extension": ".py",
   "mimetype": "text/x-python",
   "name": "python",
   "nbconvert_exporter": "python",
   "pygments_lexer": "ipython3",
   "version": "3.11.4"
  }
 },
 "nbformat": 4,
 "nbformat_minor": 5
}
