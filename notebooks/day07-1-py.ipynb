{
 "cells": [
  {
   "cell_type": "code",
   "execution_count": 1,
   "id": "2ee18655-0c2a-4ce1-a826-3b7f67d482ee",
   "metadata": {},
   "outputs": [
    {
     "data": {
      "text/plain": [
       "['32T3K 765', 'T55J5 684', 'KK677 28', 'KTJJT 220', 'QQQJA 483']"
      ]
     },
     "execution_count": 1,
     "metadata": {},
     "output_type": "execute_result"
    }
   ],
   "source": [
    "text = \"\"\"\n",
    "32T3K 765\n",
    "T55J5 684\n",
    "KK677 28\n",
    "KTJJT 220\n",
    "QQQJA 483\n",
    "\"\"\"\n",
    "\n",
    "lines = text.strip().split('\\n')\n",
    "lines"
   ]
  },
  {
   "cell_type": "code",
   "execution_count": 4,
   "id": "c7dadc6f-f625-4ee3-ad03-81a4cfd85d5b",
   "metadata": {},
   "outputs": [
    {
     "data": {
      "text/plain": [
       "Hand(cards=[Card(value='3'), Card(value='2'), Card(value='T'), Card(value='3'), Card(value='K')], bid='765')"
      ]
     },
     "execution_count": 4,
     "metadata": {},
     "output_type": "execute_result"
    }
   ],
   "source": [
    "from dataclasses import dataclass\n",
    "from typing import List\n",
    "\n",
    "@dataclass\n",
    "class Card:\n",
    "    value: str\n",
    "\n",
    "    @property\n",
    "    def strength(self):\n",
    "        d = {'T': 10,\n",
    "             'J': 11,\n",
    "             'Q': 12,\n",
    "             'K': 13,\n",
    "             'A': 14}\n",
    "        return d.get(self.value, int(self.value))\n",
    "\n",
    "@dataclass\n",
    "class Hand:\n",
    "    cards: List[Card]\n",
    "    bid: int\n",
    "\n",
    "    @classmethod\n",
    "    def from_string(cls, s: str) -> 'Hand':\n",
    "        _cards, bid = s.split()\n",
    "        cards = [Card(value=c) for c in _cards]\n",
    "        return cls(cards=cards, bid=bid)\n",
    "\n",
    "    @property\n",
    "    def value(self) -> Tuple[int, Tuple[int]]:\n",
    "        \"Return a Hand type strength then a sorted tuple of individual values\"\n",
    "        \n",
    "        \n",
    "\n",
    "h = Hand.from_string(lines[0])\n",
    "h"
   ]
  },
  {
   "cell_type": "code",
   "execution_count": null,
   "id": "783c9997-2ae2-4ac3-af67-81cbbb72f156",
   "metadata": {},
   "outputs": [],
   "source": [
    "h.value"
   ]
  }
 ],
 "metadata": {
  "kernelspec": {
   "display_name": "Python 3 (ipykernel)",
   "language": "python",
   "name": "python3"
  },
  "language_info": {
   "codemirror_mode": {
    "name": "ipython",
    "version": 3
   },
   "file_extension": ".py",
   "mimetype": "text/x-python",
   "name": "python",
   "nbconvert_exporter": "python",
   "pygments_lexer": "ipython3",
   "version": "3.11.4"
  }
 },
 "nbformat": 4,
 "nbformat_minor": 5
}
