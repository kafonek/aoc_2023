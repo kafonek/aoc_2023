{
 "cells": [
  {
   "cell_type": "code",
   "execution_count": 4,
   "id": "047466fd-3585-40f0-a04d-655c995440fd",
   "metadata": {},
   "outputs": [
    {
     "data": {
      "text/html": [
       "<div>\n",
       "<style scoped>\n",
       "    .dataframe tbody tr th:only-of-type {\n",
       "        vertical-align: middle;\n",
       "    }\n",
       "\n",
       "    .dataframe tbody tr th {\n",
       "        vertical-align: top;\n",
       "    }\n",
       "\n",
       "    .dataframe thead th {\n",
       "        text-align: right;\n",
       "    }\n",
       "</style>\n",
       "<table border=\"1\" class=\"dataframe\">\n",
       "  <thead>\n",
       "    <tr style=\"text-align: right;\">\n",
       "      <th></th>\n",
       "      <th>0</th>\n",
       "      <th>1</th>\n",
       "      <th>2</th>\n",
       "      <th>3</th>\n",
       "      <th>4</th>\n",
       "      <th>5</th>\n",
       "      <th>6</th>\n",
       "      <th>7</th>\n",
       "      <th>8</th>\n",
       "    </tr>\n",
       "  </thead>\n",
       "  <tbody>\n",
       "    <tr>\n",
       "      <th>0</th>\n",
       "      <td>#</td>\n",
       "      <td>.</td>\n",
       "      <td>#</td>\n",
       "      <td>#</td>\n",
       "      <td>.</td>\n",
       "      <td>.</td>\n",
       "      <td>#</td>\n",
       "      <td>#</td>\n",
       "      <td>.</td>\n",
       "    </tr>\n",
       "    <tr>\n",
       "      <th>1</th>\n",
       "      <td>.</td>\n",
       "      <td>.</td>\n",
       "      <td>#</td>\n",
       "      <td>.</td>\n",
       "      <td>#</td>\n",
       "      <td>#</td>\n",
       "      <td>.</td>\n",
       "      <td>#</td>\n",
       "      <td>.</td>\n",
       "    </tr>\n",
       "    <tr>\n",
       "      <th>2</th>\n",
       "      <td>#</td>\n",
       "      <td>#</td>\n",
       "      <td>.</td>\n",
       "      <td>.</td>\n",
       "      <td>.</td>\n",
       "      <td>.</td>\n",
       "      <td>.</td>\n",
       "      <td>.</td>\n",
       "      <td>#</td>\n",
       "    </tr>\n",
       "    <tr>\n",
       "      <th>3</th>\n",
       "      <td>#</td>\n",
       "      <td>#</td>\n",
       "      <td>.</td>\n",
       "      <td>.</td>\n",
       "      <td>.</td>\n",
       "      <td>.</td>\n",
       "      <td>.</td>\n",
       "      <td>.</td>\n",
       "      <td>#</td>\n",
       "    </tr>\n",
       "    <tr>\n",
       "      <th>4</th>\n",
       "      <td>.</td>\n",
       "      <td>.</td>\n",
       "      <td>#</td>\n",
       "      <td>.</td>\n",
       "      <td>#</td>\n",
       "      <td>#</td>\n",
       "      <td>.</td>\n",
       "      <td>#</td>\n",
       "      <td>.</td>\n",
       "    </tr>\n",
       "    <tr>\n",
       "      <th>5</th>\n",
       "      <td>.</td>\n",
       "      <td>.</td>\n",
       "      <td>#</td>\n",
       "      <td>#</td>\n",
       "      <td>.</td>\n",
       "      <td>.</td>\n",
       "      <td>#</td>\n",
       "      <td>#</td>\n",
       "      <td>.</td>\n",
       "    </tr>\n",
       "    <tr>\n",
       "      <th>6</th>\n",
       "      <td>#</td>\n",
       "      <td>.</td>\n",
       "      <td>#</td>\n",
       "      <td>.</td>\n",
       "      <td>#</td>\n",
       "      <td>#</td>\n",
       "      <td>.</td>\n",
       "      <td>#</td>\n",
       "      <td>.</td>\n",
       "    </tr>\n",
       "  </tbody>\n",
       "</table>\n",
       "</div>"
      ],
      "text/plain": [
       "   0  1  2  3  4  5  6  7  8\n",
       "0  #  .  #  #  .  .  #  #  .\n",
       "1  .  .  #  .  #  #  .  #  .\n",
       "2  #  #  .  .  .  .  .  .  #\n",
       "3  #  #  .  .  .  .  .  .  #\n",
       "4  .  .  #  .  #  #  .  #  .\n",
       "5  .  .  #  #  .  .  #  #  .\n",
       "6  #  .  #  .  #  #  .  #  ."
      ]
     },
     "execution_count": 4,
     "metadata": {},
     "output_type": "execute_result"
    }
   ],
   "source": [
    "import pandas\n",
    "\n",
    "text = \"\"\"\n",
    "#.##..##.\n",
    "..#.##.#.\n",
    "##......#\n",
    "##......#\n",
    "..#.##.#.\n",
    "..##..##.\n",
    "#.#.##.#.\n",
    "\"\"\".strip()\n",
    "\n",
    "df = pandas.DataFrame([list(line) for line in text.split()])\n",
    "df"
   ]
  },
  {
   "cell_type": "code",
   "execution_count": 5,
   "id": "da23c9a0-f9cb-44d6-bc0a-427aa5822f73",
   "metadata": {},
   "outputs": [
    {
     "name": "stdout",
     "output_type": "stream",
     "text": [
      "(3, 4)\n",
      "(2, 5)\n",
      "(1, 6)\n",
      "(0, 7)\n"
     ]
    }
   ],
   "source": [
    "def iterate_out(start: int, upper_bound: int):\n",
    "    left = start\n",
    "    right = start + 1\n",
    "\n",
    "    while True:\n",
    "        if left < 0:\n",
    "            break\n",
    "        if right >= upper_bound:\n",
    "            break\n",
    "\n",
    "        yield (left, right)\n",
    "        left -= 1\n",
    "        right += 1\n",
    "\n",
    "for pair in iterate_out(3, 9):\n",
    "    print(pair)"
   ]
  },
  {
   "cell_type": "code",
   "execution_count": 6,
   "id": "b2228af7-b7cc-4230-aef3-79935a8cbf4b",
   "metadata": {},
   "outputs": [
    {
     "data": {
      "text/plain": [
       "0    .\n",
       "1    #\n",
       "2    .\n",
       "3    .\n",
       "4    #\n",
       "5    .\n",
       "6    #\n",
       "Name: 4, dtype: object"
      ]
     },
     "execution_count": 6,
     "metadata": {},
     "output_type": "execute_result"
    }
   ],
   "source": [
    "df.iloc[:,4]"
   ]
  },
  {
   "cell_type": "code",
   "execution_count": 7,
   "id": "2c6ff469-944f-43d4-8dbd-c2a1134b718c",
   "metadata": {},
   "outputs": [
    {
     "data": {
      "text/plain": [
       "0    .\n",
       "1    #\n",
       "2    .\n",
       "3    .\n",
       "4    #\n",
       "5    .\n",
       "6    #\n",
       "Name: 5, dtype: object"
      ]
     },
     "execution_count": 7,
     "metadata": {},
     "output_type": "execute_result"
    }
   ],
   "source": [
    "df.iloc[:,5]"
   ]
  },
  {
   "cell_type": "code",
   "execution_count": 8,
   "id": "c55104f9-f746-4eae-9054-63c84281b7c2",
   "metadata": {},
   "outputs": [
    {
     "data": {
      "text/plain": [
       "True"
      ]
     },
     "execution_count": 8,
     "metadata": {},
     "output_type": "execute_result"
    }
   ],
   "source": [
    "all(df.iloc[:,4] == df.iloc[:,5])"
   ]
  },
  {
   "cell_type": "code",
   "execution_count": 9,
   "id": "9c292499-7ece-4257-9a32-151f78708f52",
   "metadata": {},
   "outputs": [
    {
     "data": {
      "text/plain": [
       "(7, 9)"
      ]
     },
     "execution_count": 9,
     "metadata": {},
     "output_type": "execute_result"
    }
   ],
   "source": [
    "df.shape"
   ]
  },
  {
   "cell_type": "code",
   "execution_count": 10,
   "id": "e2332c36-85d7-42c6-87e8-69cc5791d804",
   "metadata": {},
   "outputs": [
    {
     "data": {
      "text/plain": [
       "5"
      ]
     },
     "execution_count": 10,
     "metadata": {},
     "output_type": "execute_result"
    }
   ],
   "source": [
    "from typing import Tuple\n",
    "\n",
    "def find_mirror_line(df) -> Tuple[int, int]:\n",
    "    \"Find the symmetry line, return (horizontal_match_line, vertical_match_line)\"\n",
    "    max_row = df.shape[0]\n",
    "    max_col = df.shape[1]\n",
    "    for i in range(max_row-1):\n",
    "        for (left, right) in iterate_out(i, max_row):\n",
    "            if not all(df.iloc[left] == df.iloc[right]):\n",
    "                break\n",
    "        else:\n",
    "            return (i+1, 0)\n",
    "    \n",
    "    for i in range(max_col-1):\n",
    "        for (left, right) in iterate_out(i, max_col):\n",
    "            if not all(df.iloc[:, left] == df.iloc[:, right]):\n",
    "                break\n",
    "        else:\n",
    "            return (0, i+1)\n",
    "    \n",
    "h, v = find_mirror_line(df)    \n",
    "answer = h*100 + v\n",
    "answer"
   ]
  },
  {
   "cell_type": "code",
   "execution_count": null,
   "id": "c22d48f3-14e4-43a6-a44c-12ae09c39641",
   "metadata": {},
   "outputs": [],
   "source": []
  },
  {
   "cell_type": "code",
   "execution_count": 11,
   "id": "9d8d39ad-a917-49b4-bc74-d2bc9e3c4ad8",
   "metadata": {},
   "outputs": [
    {
     "data": {
      "text/plain": [
       "400"
      ]
     },
     "execution_count": 11,
     "metadata": {},
     "output_type": "execute_result"
    }
   ],
   "source": [
    "text = \"\"\"\n",
    "#...##..#\n",
    "#....#..#\n",
    "..##..###\n",
    "#####.##.\n",
    "#####.##.\n",
    "..##..###\n",
    "#....#..#\n",
    "\"\"\".strip()\n",
    "\n",
    "df = pandas.DataFrame([list(line) for line in text.split()])\n",
    "\n",
    "find_mirror_line(df) \n",
    "\n",
    "h, v = find_mirror_line(df)    \n",
    "answer = h*100 + v\n",
    "answer"
   ]
  },
  {
   "cell_type": "code",
   "execution_count": 12,
   "id": "44f949fc-b221-4bf1-8884-edfd64d15a2b",
   "metadata": {},
   "outputs": [
    {
     "data": {
      "text/plain": [
       "100"
      ]
     },
     "execution_count": 12,
     "metadata": {},
     "output_type": "execute_result"
    }
   ],
   "source": [
    "text = open('../data/shoup-13.txt').read()\n",
    "\n",
    "puzzles = text.split('\\n\\n')\n",
    "len(puzzles)\n",
    "    "
   ]
  },
  {
   "cell_type": "code",
   "execution_count": 13,
   "id": "ba096eee-941b-4418-b7a4-c5d76326e62f",
   "metadata": {},
   "outputs": [
    {
     "data": {
      "text/plain": [
       "'.##.##.##....\\n#.######.##..\\n##......###..\\n...####......\\n...####...###\\n..#....#..#..\\n.#.####.#.###\\n..#....#..###\\n.##.##.##....\\n..######..###\\n#.##..##.####\\n#.#.##.#.....\\n##..##..##.##\\n.#..##..#....\\n#.##..##.##..'"
      ]
     },
     "execution_count": 13,
     "metadata": {},
     "output_type": "execute_result"
    }
   ],
   "source": [
    "puzzles[0]"
   ]
  },
  {
   "cell_type": "code",
   "execution_count": 14,
   "id": "e42e6c6d-fb3d-4e57-b9e6-95e4017713ec",
   "metadata": {},
   "outputs": [
    {
     "data": {
      "text/plain": [
       "27664"
      ]
     },
     "execution_count": 14,
     "metadata": {},
     "output_type": "execute_result"
    }
   ],
   "source": [
    "total = 0\n",
    "\n",
    "for puzzle in puzzles:\n",
    "    df = pandas.DataFrame([list(line) for line in puzzle.split()])\n",
    "    h, v = find_mirror_line(df)    \n",
    "    answer = h*100 + v\n",
    "    total += answer\n",
    "\n",
    "total"
   ]
  },
  {
   "cell_type": "code",
   "execution_count": null,
   "id": "805d94e3-553d-4b7e-8817-1590234d5b5c",
   "metadata": {},
   "outputs": [],
   "source": []
  }
 ],
 "metadata": {
  "kernelspec": {
   "display_name": "Python 3 (ipykernel)",
   "language": "python",
   "name": "python3"
  },
  "language_info": {
   "codemirror_mode": {
    "name": "ipython",
    "version": 3
   },
   "file_extension": ".py",
   "mimetype": "text/x-python",
   "name": "python",
   "nbconvert_exporter": "python",
   "pygments_lexer": "ipython3",
   "version": "3.11.4"
  }
 },
 "nbformat": 4,
 "nbformat_minor": 5
}
