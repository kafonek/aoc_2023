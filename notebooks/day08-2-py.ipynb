{
 "cells": [
  {
   "cell_type": "code",
   "execution_count": 11,
   "id": "1bc8af3f-fee7-4f1c-aa9b-2923eee63dc7",
   "metadata": {},
   "outputs": [
    {
     "data": {
      "text/plain": [
       "['L', 'R']"
      ]
     },
     "execution_count": 11,
     "metadata": {},
     "output_type": "execute_result"
    }
   ],
   "source": [
    "text = \"\"\"\n",
    "LR\n",
    "\n",
    "11A = (11B, XXX)\n",
    "11B = (XXX, 11Z)\n",
    "11Z = (11B, XXX)\n",
    "22A = (22B, XXX)\n",
    "22B = (22C, 22C)\n",
    "22C = (22Z, 22Z)\n",
    "22Z = (22B, 22B)\n",
    "XXX = (XXX, XXX)\n",
    "\"\"\"\n",
    "\n",
    "lines = text.strip().split('\\n')\n",
    "pattern = list(lines[0])\n",
    "pattern"
   ]
  },
  {
   "cell_type": "code",
   "execution_count": 12,
   "id": "b5f8f464-1def-454b-911a-88cfc5d00bb9",
   "metadata": {},
   "outputs": [
    {
     "data": {
      "text/plain": [
       "'11A = (11B, XXX)'"
      ]
     },
     "execution_count": 12,
     "metadata": {},
     "output_type": "execute_result"
    }
   ],
   "source": [
    "lines[2]"
   ]
  },
  {
   "cell_type": "code",
   "execution_count": 13,
   "id": "4ea74407-dc5e-41fe-9482-0fb13889552c",
   "metadata": {},
   "outputs": [
    {
     "data": {
      "text/plain": [
       "Point(name='11A', left='11B', right='XXX', index=0)"
      ]
     },
     "execution_count": 13,
     "metadata": {},
     "output_type": "execute_result"
    }
   ],
   "source": [
    "from aoc_2023.day08 import Point\n",
    "\n",
    "p = Point.from_string(lines[2])\n",
    "p"
   ]
  },
  {
   "cell_type": "code",
   "execution_count": 14,
   "id": "dac3ece8-a9f3-42b9-adb7-b5690e597f48",
   "metadata": {},
   "outputs": [
    {
     "data": {
      "text/plain": [
       "[Point(name='11A', left='11B', right='XXX', index=0),\n",
       " Point(name='11B', left='XXX', right='11Z', index=1),\n",
       " Point(name='11Z', left='11B', right='XXX', index=2),\n",
       " Point(name='22A', left='22B', right='XXX', index=3),\n",
       " Point(name='22B', left='22C', right='22C', index=4),\n",
       " Point(name='22C', left='22Z', right='22Z', index=5),\n",
       " Point(name='22Z', left='22B', right='22B', index=6),\n",
       " Point(name='XXX', left='XXX', right='XXX', index=7)]"
      ]
     },
     "execution_count": 14,
     "metadata": {},
     "output_type": "execute_result"
    }
   ],
   "source": [
    "point_list = []\n",
    "point_dict = {}\n",
    "for i, line in enumerate(lines[2:]):\n",
    "    p = Point.from_string(line)\n",
    "    p.index = i\n",
    "    point_list.append(p)\n",
    "    point_dict[p.name] = p\n",
    "\n",
    "point_list"
   ]
  },
  {
   "cell_type": "code",
   "execution_count": 15,
   "id": "4dbc5911-01bc-4d6b-9f81-e5f3d7cc0301",
   "metadata": {},
   "outputs": [
    {
     "data": {
      "text/plain": [
       "{'11A': Point(name='11A', left='11B', right='XXX', index=0),\n",
       " '11B': Point(name='11B', left='XXX', right='11Z', index=1),\n",
       " '11Z': Point(name='11Z', left='11B', right='XXX', index=2),\n",
       " '22A': Point(name='22A', left='22B', right='XXX', index=3),\n",
       " '22B': Point(name='22B', left='22C', right='22C', index=4),\n",
       " '22C': Point(name='22C', left='22Z', right='22Z', index=5),\n",
       " '22Z': Point(name='22Z', left='22B', right='22B', index=6),\n",
       " 'XXX': Point(name='XXX', left='XXX', right='XXX', index=7)}"
      ]
     },
     "execution_count": 15,
     "metadata": {},
     "output_type": "execute_result"
    }
   ],
   "source": [
    "point_dict"
   ]
  },
  {
   "cell_type": "code",
   "execution_count": 16,
   "id": "d63a4f84-2683-4bd6-a2cc-3c9e908330ff",
   "metadata": {},
   "outputs": [
    {
     "data": {
      "text/plain": [
       "[PointIndex(idx=0, left_idx=1, right_idx=7),\n",
       " PointIndex(idx=1, left_idx=7, right_idx=2),\n",
       " PointIndex(idx=2, left_idx=1, right_idx=7),\n",
       " PointIndex(idx=3, left_idx=4, right_idx=7),\n",
       " PointIndex(idx=4, left_idx=5, right_idx=5),\n",
       " PointIndex(idx=5, left_idx=6, right_idx=6),\n",
       " PointIndex(idx=6, left_idx=4, right_idx=4),\n",
       " PointIndex(idx=7, left_idx=7, right_idx=7)]"
      ]
     },
     "execution_count": 16,
     "metadata": {},
     "output_type": "execute_result"
    }
   ],
   "source": [
    "from dataclasses import dataclass\n",
    "\n",
    "current_indices = []\n",
    "end_point_indices = set()\n",
    "point_index = []\n",
    "\n",
    "@dataclass\n",
    "class PointIndex:\n",
    "    idx: int\n",
    "    left_idx: int\n",
    "    right_idx: int\n",
    "\n",
    "for p in point_list:\n",
    "    left = point_dict.get(p.left)\n",
    "    right = point_dict.get(p.right)\n",
    "    pi = PointIndex(idx=p.index, left_idx=left.index, right_idx=right.index)\n",
    "    point_index.append(pi)\n",
    "    if p.name.endswith('A'):\n",
    "        current_indices.append(p.index)\n",
    "    if p.name.endswith('Z'):\n",
    "        end_point_indices.add(p.index)\n",
    "\n",
    "point_index"
   ]
  },
  {
   "cell_type": "code",
   "execution_count": 17,
   "id": "b3be99c6-a73d-4f9f-bdb7-0050f3297e51",
   "metadata": {},
   "outputs": [
    {
     "data": {
      "text/plain": [
       "[0, 3]"
      ]
     },
     "execution_count": 17,
     "metadata": {},
     "output_type": "execute_result"
    }
   ],
   "source": [
    "current_indices"
   ]
  },
  {
   "cell_type": "code",
   "execution_count": 18,
   "id": "3f832665-4c74-49b6-becd-89444863240e",
   "metadata": {},
   "outputs": [
    {
     "data": {
      "text/plain": [
       "{2, 6}"
      ]
     },
     "execution_count": 18,
     "metadata": {},
     "output_type": "execute_result"
    }
   ],
   "source": [
    "end_point_indices"
   ]
  },
  {
   "cell_type": "code",
   "execution_count": 21,
   "id": "aa8c93a2-870b-41fb-9970-350a37931267",
   "metadata": {},
   "outputs": [
    {
     "data": {
      "text/plain": [
       "6"
      ]
     },
     "execution_count": 21,
     "metadata": {},
     "output_type": "execute_result"
    }
   ],
   "source": [
    "import itertools\n",
    "cycle = itertools.cycle(pattern)\n",
    "\n",
    "steps = 0\n",
    "while True:\n",
    "    direction = next(cycle)\n",
    "    complete = True\n",
    "    for idx, value in enumerate(current_indices):\n",
    "        pi = point_index[value]\n",
    "        if direction == 'L':\n",
    "            new = pi.left_idx\n",
    "        else:\n",
    "            new = pi.right_idx\n",
    "        current_indices[idx] = new\n",
    "        if new not in end_point_indices:\n",
    "            complete = False\n",
    "    steps += 1\n",
    "    if complete:\n",
    "        break\n",
    "    \n",
    "steps"
   ]
  },
  {
   "cell_type": "code",
   "execution_count": 22,
   "id": "8a9fc0d1-cdcf-4136-be37-0293d2ac2131",
   "metadata": {},
   "outputs": [
    {
     "data": {
      "text/plain": [
       "788"
      ]
     },
     "execution_count": 22,
     "metadata": {},
     "output_type": "execute_result"
    }
   ],
   "source": [
    "lines = open('../data/day08.txt').readlines()\n",
    "len(lines)"
   ]
  },
  {
   "cell_type": "code",
   "execution_count": 25,
   "id": "537f8e70-e62f-4746-8efc-81fba6e2dc2e",
   "metadata": {},
   "outputs": [
    {
     "data": {
      "text/plain": [
       "294"
      ]
     },
     "execution_count": 25,
     "metadata": {},
     "output_type": "execute_result"
    }
   ],
   "source": [
    "pattern = list(lines[0])\n",
    "len(pattern)"
   ]
  },
  {
   "cell_type": "code",
   "execution_count": null,
   "id": "66643168-0984-4924-b9c5-d46459b0ddc2",
   "metadata": {},
   "outputs": [],
   "source": [
    "cycle = itertools.cycle(pattern)\n",
    "\n"
   ]
  }
 ],
 "metadata": {
  "kernelspec": {
   "display_name": "Python 3 (ipykernel)",
   "language": "python",
   "name": "python3"
  },
  "language_info": {
   "codemirror_mode": {
    "name": "ipython",
    "version": 3
   },
   "file_extension": ".py",
   "mimetype": "text/x-python",
   "name": "python",
   "nbconvert_exporter": "python",
   "pygments_lexer": "ipython3",
   "version": "3.11.4"
  }
 },
 "nbformat": 4,
 "nbformat_minor": 5
}
