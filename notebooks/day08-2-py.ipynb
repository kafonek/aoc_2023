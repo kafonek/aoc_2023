{
 "cells": [
  {
   "cell_type": "code",
   "execution_count": 1,
   "id": "1bc8af3f-fee7-4f1c-aa9b-2923eee63dc7",
   "metadata": {},
   "outputs": [
    {
     "data": {
      "text/plain": [
       "['L', 'R']"
      ]
     },
     "execution_count": 1,
     "metadata": {},
     "output_type": "execute_result"
    }
   ],
   "source": [
    "text = \"\"\"\n",
    "LR\n",
    "\n",
    "11A = (11B, XXX)\n",
    "11B = (XXX, 11Z)\n",
    "11Z = (11B, XXX)\n",
    "22A = (22B, XXX)\n",
    "22B = (22C, 22C)\n",
    "22C = (22Z, 22Z)\n",
    "22Z = (22B, 22B)\n",
    "XXX = (XXX, XXX)\n",
    "\"\"\"\n",
    "\n",
    "lines = text.strip().split('\\n')\n",
    "pattern = list(lines[0])\n",
    "pattern"
   ]
  },
  {
   "cell_type": "code",
   "execution_count": 2,
   "id": "b5f8f464-1def-454b-911a-88cfc5d00bb9",
   "metadata": {},
   "outputs": [
    {
     "data": {
      "text/plain": [
       "'11A = (11B, XXX)'"
      ]
     },
     "execution_count": 2,
     "metadata": {},
     "output_type": "execute_result"
    }
   ],
   "source": [
    "lines[2]"
   ]
  },
  {
   "cell_type": "code",
   "execution_count": 3,
   "id": "4ea74407-dc5e-41fe-9482-0fb13889552c",
   "metadata": {},
   "outputs": [
    {
     "data": {
      "text/plain": [
       "Point(name='11A', left='11B', right='XXX')"
      ]
     },
     "execution_count": 3,
     "metadata": {},
     "output_type": "execute_result"
    }
   ],
   "source": [
    "from aoc_2023.day08 import Point\n",
    "\n",
    "p = Point.from_string(lines[2])\n",
    "p"
   ]
  },
  {
   "cell_type": "code",
   "execution_count": 4,
   "id": "dac3ece8-a9f3-42b9-adb7-b5690e597f48",
   "metadata": {},
   "outputs": [
    {
     "data": {
      "text/plain": [
       "{'11A': Point(name='11A', left='11B', right='XXX'),\n",
       " '11B': Point(name='11B', left='XXX', right='11Z'),\n",
       " '11Z': Point(name='11Z', left='11B', right='XXX'),\n",
       " '22A': Point(name='22A', left='22B', right='XXX'),\n",
       " '22B': Point(name='22B', left='22C', right='22C'),\n",
       " '22C': Point(name='22C', left='22Z', right='22Z'),\n",
       " '22Z': Point(name='22Z', left='22B', right='22B'),\n",
       " 'XXX': Point(name='XXX', left='XXX', right='XXX')}"
      ]
     },
     "execution_count": 4,
     "metadata": {},
     "output_type": "execute_result"
    }
   ],
   "source": [
    "points = {}\n",
    "for line in lines[2:]:\n",
    "    p = Point.from_string(line)\n",
    "    points[p.name] = p\n",
    "\n",
    "points"
   ]
  },
  {
   "cell_type": "code",
   "execution_count": 9,
   "id": "85bfd9de-5920-422e-8105-9bc79faaa85c",
   "metadata": {},
   "outputs": [
    {
     "data": {
      "text/plain": [
       "[Traverse(current=Point(name='11A', left='11B', right='XXX'), steps=0),\n",
       " Traverse(current=Point(name='22A', left='22B', right='XXX'), steps=0)]"
      ]
     },
     "execution_count": 9,
     "metadata": {},
     "output_type": "execute_result"
    }
   ],
   "source": [
    "\n",
    "\n",
    "traverses = []\n",
    "for name, point in points.items():\n",
    "    if name.endswith('A'):\n",
    "        traverses.append(Traverse(current=point))\n",
    "\n",
    "traverses"
   ]
  },
  {
   "cell_type": "code",
   "execution_count": 11,
   "id": "aa8c93a2-870b-41fb-9970-350a37931267",
   "metadata": {},
   "outputs": [
    {
     "data": {
      "text/plain": [
       "[Traverse(current=Point(name='11Z', left='11B', right='XXX'), steps=6),\n",
       " Traverse(current=Point(name='22Z', left='22B', right='22B'), steps=6)]"
      ]
     },
     "execution_count": 11,
     "metadata": {},
     "output_type": "execute_result"
    }
   ],
   "source": [
    "import itertools\n",
    "cycle = itertools.cycle(pattern)\n",
    "\n",
    "while True:\n",
    "    direction = next(cycle)\n",
    "    complete = True\n",
    "    for traverse in traverses:\n",
    "        traverse.step(direction, points)\n",
    "        if not traverse.current.name.endswith('Z'):\n",
    "            complete = False\n",
    "    if complete:\n",
    "        break\n",
    "\n",
    "traverses"
   ]
  },
  {
   "cell_type": "code",
   "execution_count": null,
   "id": "8a9fc0d1-cdcf-4136-be37-0293d2ac2131",
   "metadata": {},
   "outputs": [],
   "source": []
  }
 ],
 "metadata": {
  "kernelspec": {
   "display_name": "Python 3 (ipykernel)",
   "language": "python",
   "name": "python3"
  },
  "language_info": {
   "codemirror_mode": {
    "name": "ipython",
    "version": 3
   },
   "file_extension": ".py",
   "mimetype": "text/x-python",
   "name": "python",
   "nbconvert_exporter": "python",
   "pygments_lexer": "ipython3",
   "version": "3.10.13"
  }
 },
 "nbformat": 4,
 "nbformat_minor": 5
}
