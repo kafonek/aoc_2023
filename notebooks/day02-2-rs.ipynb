{
 "cells": [
  {
   "cell_type": "markdown",
   "id": "80b21398",
   "metadata": {},
   "source": [
    "Relevant directions from https://adventofcode.com/2023/day/2 part two -\n",
    "\n",
    "As you continue your walk, the Elf poses a second question: in each game you played, what is the fewest number of cubes of each color that could have been in the bag to make the game possible?\n",
    "\n",
    "Again consider the example games from earlier:\n",
    "\n",
    "```\n",
    "Game 1: 3 blue, 4 red; 1 red, 2 green, 6 blue; 2 green\n",
    "Game 2: 1 blue, 2 green; 3 green, 4 blue, 1 red; 1 green, 1 blue\n",
    "Game 3: 8 green, 6 blue, 20 red; 5 blue, 4 red, 13 green; 5 green, 1 red\n",
    "Game 4: 1 green, 3 red, 6 blue; 3 green, 6 red; 3 green, 15 blue, 14 red\n",
    "Game 5: 6 red, 1 blue, 3 green; 2 blue, 1 red, 2 green\n",
    "```\n",
    "\n",
    "- In game 1, the game could have been played with as few as 4 red, 2 green, and 6 blue cubes. If any color had even one fewer cube, the game would have been impossible.\n",
    "- Game 2 could have been played with a minimum of 1 red, 3 green, and 4 blue cubes.\n",
    "- Game 3 must have been played with at least 20 red, 13 green, and 6 blue cubes.\n",
    "- Game 4 required at least 14 red, 3 green, and 15 blue cubes.\n",
    "- Game 5 needed no fewer than 6 red, 3 green, and 2 blue cubes in the bag.\n",
    "\n",
    "The power of a set of cubes is equal to the numbers of red, green, and blue cubes multiplied together. The power of the minimum set of cubes in game 1 is 48. In games 2-5 it was 12, 1560, 630, and 36, respectively. Adding up these five powers produces the sum **2286**.\n",
    "\n",
    "For each game, find the minimum set of cubes that must have been present. What is the sum of the power of these sets?"
   ]
  },
  {
   "cell_type": "code",
   "execution_count": 2,
   "id": "378cf08d-1212-41cc-8d07-e9669ecd1dda",
   "metadata": {
    "vscode": {
     "languageId": "rust"
    }
   },
   "outputs": [
    {
     "data": {
      "text/plain": [
       "[\"Game 1: 3 blue, 4 red; 1 red, 2 green, 6 blue; 2 green\", \"Game 2: 1 blue, 2 green; 3 green, 4 blue, 1 red; 1 green, 1 blue\", \"Game 3: 8 green, 6 blue, 20 red; 5 blue, 4 red, 13 green; 5 green, 1 red\", \"Game 4: 1 green, 3 red, 6 blue; 3 green, 6 red; 3 green, 15 blue, 14 red\", \"Game 5: 6 red, 1 blue, 3 green; 2 blue, 1 red, 2 green\"]"
      ]
     },
     "execution_count": 2,
     "metadata": {},
     "output_type": "execute_result"
    }
   ],
   "source": [
    "let text = r#\"\n",
    "Game 1: 3 blue, 4 red; 1 red, 2 green, 6 blue; 2 green\n",
    "Game 2: 1 blue, 2 green; 3 green, 4 blue, 1 red; 1 green, 1 blue\n",
    "Game 3: 8 green, 6 blue, 20 red; 5 blue, 4 red, 13 green; 5 green, 1 red\n",
    "Game 4: 1 green, 3 red, 6 blue; 3 green, 6 red; 3 green, 15 blue, 14 red\n",
    "Game 5: 6 red, 1 blue, 3 green; 2 blue, 1 red, 2 green\n",
    "\"#;\n",
    "let lines: Vec<&str> = text.trim().lines().collect();\n",
    "lines"
   ]
  },
  {
   "cell_type": "code",
   "execution_count": 3,
   "id": "de2c3522-6640-4ff0-ad19-f7e5f878b0e4",
   "metadata": {
    "vscode": {
     "languageId": "rust"
    }
   },
   "outputs": [
    {
     "data": {
      "text/plain": [
       "Bag { red: 20, green: 8, blue: 6 }"
      ]
     },
     "execution_count": 3,
     "metadata": {},
     "output_type": "execute_result"
    }
   ],
   "source": [
    "#[derive(Debug)]\n",
    "struct Bag {\n",
    "    red: i32,\n",
    "    green: i32,\n",
    "    blue: i32,\n",
    "}\n",
    "\n",
    "impl Bag {\n",
    "    fn new(red: i32, green: i32, blue: i32) -> Bag {\n",
    "        Bag { red, green, blue }\n",
    "    }\n",
    "\n",
    "    fn from_string(s: &str) -> Result<Bag, &'static str> {\n",
    "        let mut red = 0;\n",
    "        let mut green = 0;\n",
    "        let mut blue = 0;\n",
    "\n",
    "        for part in s.split(',') {\n",
    "            let parts: Vec<&str> = part.trim().split_whitespace().collect();\n",
    "            if parts.len() != 2 {\n",
    "                return Err(\"Invalid input format\");\n",
    "            }\n",
    "\n",
    "            let count = parts[0].parse::<i32>().map_err(|_| \"Invalid count\")?;\n",
    "            match parts[1] {\n",
    "                \"red\" => red = count,\n",
    "                \"green\" => green = count,\n",
    "                \"blue\" => blue = count,\n",
    "                _ => return Err(\"Unknown color\"),\n",
    "            }\n",
    "        }\n",
    "\n",
    "        Ok(Bag::new(red, green, blue))\n",
    "    }\n",
    "\n",
    "    fn power(&self) -> i32 {\n",
    "        self.red * self.green * self.blue\n",
    "    }\n",
    "}\n",
    "\n",
    "let example = Bag::from_string(\"8 green, 6 blue, 20 red\").unwrap();\n",
    "example"
   ]
  },
  {
   "cell_type": "code",
   "execution_count": 4,
   "id": "7aefc495-08ad-4490-9311-c1f3925b8f67",
   "metadata": {
    "vscode": {
     "languageId": "rust"
    }
   },
   "outputs": [
    {
     "data": {
      "text/plain": [
       "Game { id: 1, bags: [Bag { red: 4, green: 0, blue: 3 }, Bag { red: 1, green: 2, blue: 6 }, Bag { red: 0, green: 2, blue: 0 }] }"
      ]
     },
     "execution_count": 4,
     "metadata": {},
     "output_type": "execute_result"
    }
   ],
   "source": [
    "#[derive(Debug)]\n",
    "struct Game {\n",
    "    id: i32,\n",
    "    bags: Vec<Bag>,\n",
    "}\n",
    "\n",
    "impl Game {\n",
    "    fn from_string(s: &str) -> Result<Game, &'static str> {\n",
    "        let parts: Vec<&str> = s.split(':').collect();\n",
    "        if parts.len() != 2 {\n",
    "            return Err(\"Invalid input format\");\n",
    "        }\n",
    "\n",
    "        let id = parts[0].split_whitespace().last().ok_or(\"Invalid ID\")?\n",
    "            .parse::<i32>().map_err(|_| \"ID is not a number\")?;\n",
    "\n",
    "        let bag_parts = parts[1].split(';');\n",
    "        let mut bags = Vec::new();\n",
    "\n",
    "        for part in bag_parts {\n",
    "            match Bag::from_string(part) {\n",
    "                Ok(bag) => bags.push(bag),\n",
    "                Err(e) => return Err(e),\n",
    "            }\n",
    "        }\n",
    "\n",
    "        Ok(Game { id, bags })\n",
    "    }\n",
    "\n",
    "    fn max_values(&self) -> Bag {\n",
    "        let mut max_red = 0;\n",
    "        let mut max_green = 0;\n",
    "        let mut max_blue = 0;\n",
    "\n",
    "        for bag in &self.bags {\n",
    "            max_red = max_red.max(bag.red);\n",
    "            max_green = max_green.max(bag.green);\n",
    "            max_blue = max_blue.max(bag.blue);\n",
    "        }\n",
    "\n",
    "        Bag::new(max_red, max_green, max_blue)\n",
    "    }\n",
    "}\n",
    "\n",
    "let game = Game::from_string(\"Game 1: 3 blue, 4 red; 1 red, 2 green, 6 blue; 2 green\\n\").unwrap();\n",
    "game"
   ]
  },
  {
   "cell_type": "code",
   "execution_count": 5,
   "id": "e66234b8-423c-4b55-a429-bf2ac158db04",
   "metadata": {
    "vscode": {
     "languageId": "rust"
    }
   },
   "outputs": [
    {
     "data": {
      "text/plain": [
       "Bag { red: 4, green: 2, blue: 6 }"
      ]
     },
     "execution_count": 5,
     "metadata": {},
     "output_type": "execute_result"
    }
   ],
   "source": [
    "game.max_values()"
   ]
  },
  {
   "cell_type": "code",
   "execution_count": 6,
   "id": "344916e7-fa36-4243-b77f-bea83b609ed2",
   "metadata": {
    "vscode": {
     "languageId": "rust"
    }
   },
   "outputs": [
    {
     "data": {
      "text/plain": [
       "48"
      ]
     },
     "execution_count": 6,
     "metadata": {},
     "output_type": "execute_result"
    }
   ],
   "source": [
    "game.max_values().power()"
   ]
  },
  {
   "cell_type": "code",
   "execution_count": 7,
   "id": "d434cb65-b5ce-487d-87f2-dfe1d7acbb17",
   "metadata": {
    "vscode": {
     "languageId": "rust"
    }
   },
   "outputs": [
    {
     "data": {
      "text/plain": [
       "[Game { id: 1, bags: [Bag { red: 4, green: 0, blue: 3 }, Bag { red: 1, green: 2, blue: 6 }, Bag { red: 0, green: 2, blue: 0 }] }, Game { id: 2, bags: [Bag { red: 0, green: 2, blue: 1 }, Bag { red: 1, green: 3, blue: 4 }, Bag { red: 0, green: 1, blue: 1 }] }, Game { id: 3, bags: [Bag { red: 20, green: 8, blue: 6 }, Bag { red: 4, green: 13, blue: 5 }, Bag { red: 1, green: 5, blue: 0 }] }, Game { id: 4, bags: [Bag { red: 3, green: 1, blue: 6 }, Bag { red: 6, green: 3, blue: 0 }, Bag { red: 14, green: 3, blue: 15 }] }, Game { id: 5, bags: [Bag { red: 6, green: 3, blue: 1 }, Bag { red: 1, green: 2, blue: 2 }] }]"
      ]
     },
     "execution_count": 7,
     "metadata": {},
     "output_type": "execute_result"
    }
   ],
   "source": [
    "let mut games = Vec::new();\n",
    "for line in &lines {\n",
    "    let game = Game::from_string(&line).unwrap();\n",
    "    games.push(game);\n",
    "};\n",
    "games"
   ]
  },
  {
   "cell_type": "code",
   "execution_count": 8,
   "id": "387aea71-7bcf-4bb1-8159-62922e380027",
   "metadata": {
    "vscode": {
     "languageId": "rust"
    }
   },
   "outputs": [
    {
     "name": "stdout",
     "output_type": "stream",
     "text": [
      "ID 1. Power: 48\n",
      "ID 2. Power: 12\n",
      "ID 3. Power: 1560\n",
      "ID 4. Power: 630\n",
      "ID 5. Power: 36\n"
     ]
    },
    {
     "data": {
      "text/plain": [
       "()"
      ]
     },
     "execution_count": 8,
     "metadata": {},
     "output_type": "execute_result"
    }
   ],
   "source": [
    "for game in &games {\n",
    "    println!(\"ID {}. Power: {}\", &game.id, game.max_values().power());\n",
    "}"
   ]
  },
  {
   "cell_type": "code",
   "execution_count": 9,
   "id": "d072006a-11ac-41c8-9f23-6a30c42cbee0",
   "metadata": {
    "vscode": {
     "languageId": "rust"
    }
   },
   "outputs": [
    {
     "data": {
      "text/plain": [
       "2286"
      ]
     },
     "execution_count": 9,
     "metadata": {},
     "output_type": "execute_result"
    }
   ],
   "source": [
    "let mut power_sum = 0;\n",
    "for game in &games {\n",
    "    power_sum += game.max_values().power();\n",
    "}\n",
    "power_sum"
   ]
  },
  {
   "cell_type": "code",
   "execution_count": null,
   "id": "997e3086-1321-4b71-83d7-8e5daea082a2",
   "metadata": {
    "vscode": {
     "languageId": "rust"
    }
   },
   "outputs": [],
   "source": []
  }
 ],
 "metadata": {
  "kernelspec": {
   "display_name": "Rust",
   "language": "rust",
   "name": "rust"
  },
  "language_info": {
   "codemirror_mode": "rust",
   "file_extension": ".rs",
   "mimetype": "text/rust",
   "name": "Rust",
   "pygment_lexer": "rust",
   "version": ""
  }
 },
 "nbformat": 4,
 "nbformat_minor": 5
}
