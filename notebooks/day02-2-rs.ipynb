{
 "cells": [
  {
   "cell_type": "code",
   "execution_count": 2,
   "id": "378cf08d-1212-41cc-8d07-e9669ecd1dda",
   "metadata": {},
   "outputs": [
    {
     "data": {
      "text/plain": [
       "[\"Game 1: 3 blue, 4 red; 1 red, 2 green, 6 blue; 2 green\", \"Game 2: 1 blue, 2 green; 3 green, 4 blue, 1 red; 1 green, 1 blue\", \"Game 3: 8 green, 6 blue, 20 red; 5 blue, 4 red, 13 green; 5 green, 1 red\", \"Game 4: 1 green, 3 red, 6 blue; 3 green, 6 red; 3 green, 15 blue, 14 red\", \"Game 5: 6 red, 1 blue, 3 green; 2 blue, 1 red, 2 green\"]"
      ]
     },
     "execution_count": 2,
     "metadata": {},
     "output_type": "execute_result"
    }
   ],
   "source": [
    "use std::fs::File;\n",
    "use std::io::BufReader;\n",
    "use std::io::BufRead;\n",
    "\n",
    "let f = File::open(\"../train/day02-2.txt\").unwrap();\n",
    "let reader = BufReader::new(f);\n",
    "let lines: Vec<String> = reader.lines().map(|l| l.unwrap()).collect();\n",
    "lines"
   ]
  },
  {
   "cell_type": "code",
   "execution_count": 3,
   "id": "de2c3522-6640-4ff0-ad19-f7e5f878b0e4",
   "metadata": {},
   "outputs": [
    {
     "data": {
      "text/plain": [
       "Bag { blue: 6, red: 20, green: 8 }"
      ]
     },
     "execution_count": 3,
     "metadata": {},
     "output_type": "execute_result"
    }
   ],
   "source": [
    "#[derive(Debug)]\n",
    "struct Bag {\n",
    "    blue: i32,\n",
    "    red: i32,\n",
    "    green: i32,\n",
    "}\n",
    "\n",
    "impl Bag {\n",
    "    fn new(blue: i32, red: i32, green: i32) -> Bag {\n",
    "        Bag { blue, red, green }\n",
    "    }\n",
    "\n",
    "    fn from_string(s: &str) -> Result<Bag, &'static str> {\n",
    "        let mut blue = 0;\n",
    "        let mut red = 0;\n",
    "        let mut green = 0;\n",
    "\n",
    "        for part in s.split(',') {\n",
    "            let parts: Vec<&str> = part.trim().split_whitespace().collect();\n",
    "            if parts.len() != 2 {\n",
    "                return Err(\"Invalid input format\");\n",
    "            }\n",
    "\n",
    "            let count = parts[0].parse::<i32>().map_err(|_| \"Invalid count\")?;\n",
    "            match parts[1] {\n",
    "                \"blue\" => blue = count,\n",
    "                \"red\" => red = count,\n",
    "                \"green\" => green = count,\n",
    "                _ => return Err(\"Unknown color\"),\n",
    "            }\n",
    "        }\n",
    "\n",
    "        Ok(Bag::new(blue, red, green))\n",
    "    }\n",
    "\n",
    "    fn power(&self) -> i32 {\n",
    "        self.blue * self.green * self.red\n",
    "    }\n",
    "}\n",
    "\n",
    "let example = Bag::from_string(\"8 green, 6 blue, 20 red\").unwrap();\n",
    "example"
   ]
  },
  {
   "cell_type": "code",
   "execution_count": 4,
   "id": "7aefc495-08ad-4490-9311-c1f3925b8f67",
   "metadata": {},
   "outputs": [
    {
     "data": {
      "text/plain": [
       "Game { id: 1, bags: [Bag { blue: 3, red: 4, green: 0 }, Bag { blue: 6, red: 1, green: 2 }, Bag { blue: 0, red: 0, green: 2 }] }"
      ]
     },
     "execution_count": 4,
     "metadata": {},
     "output_type": "execute_result"
    }
   ],
   "source": [
    "#[derive(Debug)]\n",
    "struct Game {\n",
    "    id: i32,\n",
    "    bags: Vec<Bag>,\n",
    "}\n",
    "\n",
    "impl Game {\n",
    "    fn from_string(s: &str) -> Result<Game, &'static str> {\n",
    "        let parts: Vec<&str> = s.split(':').collect();\n",
    "        if parts.len() != 2 {\n",
    "            return Err(\"Invalid input format\");\n",
    "        }\n",
    "\n",
    "        let id = parts[0].split_whitespace().last().ok_or(\"Invalid ID\")?\n",
    "            .parse::<i32>().map_err(|_| \"ID is not a number\")?;\n",
    "\n",
    "        let bag_parts = parts[1].split(';');\n",
    "        let mut bags = Vec::new();\n",
    "\n",
    "        for part in bag_parts {\n",
    "            match Bag::from_string(part) {\n",
    "                Ok(bag) => bags.push(bag),\n",
    "                Err(e) => return Err(e),\n",
    "            }\n",
    "        }\n",
    "\n",
    "        Ok(Game { id, bags })\n",
    "    }\n",
    "\n",
    "    fn max_values(&self) -> Bag {\n",
    "        let mut max_blue = 0;\n",
    "        let mut max_red = 0;\n",
    "        let mut max_green = 0;\n",
    "\n",
    "        for bag in &self.bags {\n",
    "            max_blue = max_blue.max(bag.blue);\n",
    "            max_red = max_red.max(bag.red);\n",
    "            max_green = max_green.max(bag.green);\n",
    "        }\n",
    "\n",
    "        Bag::new(max_blue, max_red, max_green)\n",
    "    }\n",
    "}\n",
    "\n",
    "let game = Game::from_string(\"Game 1: 3 blue, 4 red; 1 red, 2 green, 6 blue; 2 green\\n\").unwrap();\n",
    "game"
   ]
  },
  {
   "cell_type": "code",
   "execution_count": 5,
   "id": "e66234b8-423c-4b55-a429-bf2ac158db04",
   "metadata": {},
   "outputs": [
    {
     "data": {
      "text/plain": [
       "Bag { blue: 6, red: 4, green: 2 }"
      ]
     },
     "execution_count": 5,
     "metadata": {},
     "output_type": "execute_result"
    }
   ],
   "source": [
    "game.max_values()"
   ]
  },
  {
   "cell_type": "code",
   "execution_count": 6,
   "id": "344916e7-fa36-4243-b77f-bea83b609ed2",
   "metadata": {},
   "outputs": [
    {
     "data": {
      "text/plain": [
       "48"
      ]
     },
     "execution_count": 6,
     "metadata": {},
     "output_type": "execute_result"
    }
   ],
   "source": [
    "game.max_values().power()"
   ]
  },
  {
   "cell_type": "code",
   "execution_count": 7,
   "id": "d434cb65-b5ce-487d-87f2-dfe1d7acbb17",
   "metadata": {},
   "outputs": [
    {
     "data": {
      "text/plain": [
       "[Game { id: 1, bags: [Bag { blue: 3, red: 4, green: 0 }, Bag { blue: 6, red: 1, green: 2 }, Bag { blue: 0, red: 0, green: 2 }] }, Game { id: 2, bags: [Bag { blue: 1, red: 0, green: 2 }, Bag { blue: 4, red: 1, green: 3 }, Bag { blue: 1, red: 0, green: 1 }] }, Game { id: 3, bags: [Bag { blue: 6, red: 20, green: 8 }, Bag { blue: 5, red: 4, green: 13 }, Bag { blue: 0, red: 1, green: 5 }] }, Game { id: 4, bags: [Bag { blue: 6, red: 3, green: 1 }, Bag { blue: 0, red: 6, green: 3 }, Bag { blue: 15, red: 14, green: 3 }] }, Game { id: 5, bags: [Bag { blue: 1, red: 6, green: 3 }, Bag { blue: 2, red: 1, green: 2 }] }]"
      ]
     },
     "execution_count": 7,
     "metadata": {},
     "output_type": "execute_result"
    }
   ],
   "source": [
    "let mut games = Vec::new();\n",
    "for line in &lines {\n",
    "    let game = Game::from_string(&line).unwrap();\n",
    "    games.push(game);\n",
    "};\n",
    "games"
   ]
  },
  {
   "cell_type": "code",
   "execution_count": 8,
   "id": "387aea71-7bcf-4bb1-8159-62922e380027",
   "metadata": {},
   "outputs": [
    {
     "name": "stdout",
     "output_type": "stream",
     "text": [
      "ID 1. Power: 48\n",
      "ID 2. Power: 12\n",
      "ID 3. Power: 1560\n",
      "ID 4. Power: 630\n",
      "ID 5. Power: 36\n"
     ]
    },
    {
     "data": {
      "text/plain": [
       "()"
      ]
     },
     "execution_count": 8,
     "metadata": {},
     "output_type": "execute_result"
    }
   ],
   "source": [
    "for game in &games {\n",
    "    println!(\"ID {}. Power: {}\", &game.id, game.max_values().power());\n",
    "}"
   ]
  },
  {
   "cell_type": "code",
   "execution_count": 9,
   "id": "d072006a-11ac-41c8-9f23-6a30c42cbee0",
   "metadata": {},
   "outputs": [
    {
     "data": {
      "text/plain": [
       "2286"
      ]
     },
     "execution_count": 9,
     "metadata": {},
     "output_type": "execute_result"
    }
   ],
   "source": [
    "let mut power_sum = 0;\n",
    "for game in &games {\n",
    "    power_sum += game.max_values().power();\n",
    "}\n",
    "power_sum"
   ]
  },
  {
   "cell_type": "code",
   "execution_count": null,
   "id": "997e3086-1321-4b71-83d7-8e5daea082a2",
   "metadata": {},
   "outputs": [],
   "source": []
  }
 ],
 "metadata": {
  "kernelspec": {
   "display_name": "Rust",
   "language": "rust",
   "name": "rust"
  },
  "language_info": {
   "codemirror_mode": "rust",
   "file_extension": ".rs",
   "mimetype": "text/rust",
   "name": "Rust",
   "pygment_lexer": "rust",
   "version": ""
  }
 },
 "nbformat": 4,
 "nbformat_minor": 5
}
