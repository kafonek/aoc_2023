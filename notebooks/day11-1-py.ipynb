{
 "cells": [
  {
   "cell_type": "code",
   "execution_count": 1,
   "id": "de379fe7-b9f1-429a-a881-3f118ca586ed",
   "metadata": {},
   "outputs": [
    {
     "data": {
      "text/plain": [
       "<Grid shape=(10, 10)>"
      ]
     },
     "execution_count": 1,
     "metadata": {},
     "output_type": "execute_result"
    }
   ],
   "source": [
    "import gridthings\n",
    "\n",
    "text = \"\"\"\n",
    "...#......\n",
    ".......#..\n",
    "#.........\n",
    "..........\n",
    "......#...\n",
    ".#........\n",
    ".........#\n",
    "..........\n",
    ".......#..\n",
    "#...#.....\n",
    "\"\"\"\n",
    "\n",
    "grid = gridthings.Grid(text.strip())\n",
    "grid"
   ]
  },
  {
   "cell_type": "code",
   "execution_count": 2,
   "id": "4efb86d6-94fa-4086-be55-57dfed3a7c14",
   "metadata": {},
   "outputs": [
    {
     "data": {
      "text/plain": [
       "[['.', '.', '.', '#', '.', '.', '.', '.', '.', '.'],\n",
       " ['.', '.', '.', '.', '.', '.', '.', '#', '.', '.'],\n",
       " ['#', '.', '.', '.', '.', '.', '.', '.', '.', '.'],\n",
       " ['.', '.', '.', '.', '.', '.', '.', '.', '.', '.'],\n",
       " ['.', '.', '.', '.', '.', '.', '#', '.', '.', '.'],\n",
       " ['.', '#', '.', '.', '.', '.', '.', '.', '.', '.'],\n",
       " ['.', '.', '.', '.', '.', '.', '.', '.', '.', '#'],\n",
       " ['.', '.', '.', '.', '.', '.', '.', '.', '.', '.'],\n",
       " ['.', '.', '.', '.', '.', '.', '.', '#', '.', '.'],\n",
       " ['#', '.', '.', '.', '#', '.', '.', '.', '.', '.']]"
      ]
     },
     "execution_count": 2,
     "metadata": {},
     "output_type": "execute_result"
    }
   ],
   "source": [
    "grid.values()"
   ]
  },
  {
   "cell_type": "code",
   "execution_count": 3,
   "id": "2968fdbf-200f-47bb-8ea4-ceacad6b9af6",
   "metadata": {},
   "outputs": [
    {
     "name": "stdout",
     "output_type": "stream",
     "text": [
      "duplicating row 3\n",
      "duplicating row 8\n"
     ]
    },
    {
     "data": {
      "text/plain": [
       "<Grid shape=(12, 10)>"
      ]
     },
     "execution_count": 3,
     "metadata": {},
     "output_type": "execute_result"
    }
   ],
   "source": [
    "idx = 0\n",
    "while True:\n",
    "    try:\n",
    "        row = grid.get_row(idx)\n",
    "    except KeyError:\n",
    "        break\n",
    "    if all(cell.value == '.' for cell in row):\n",
    "        print(f\"duplicating row {idx}\")\n",
    "        copy = [cell.copy(deep=True) for cell in row.cells]\n",
    "        grid.insert_row(idx, copy)\n",
    "        idx += 2\n",
    "    else:\n",
    "        idx += 1\n",
    "\n",
    "grid"
   ]
  },
  {
   "cell_type": "code",
   "execution_count": 4,
   "id": "e1d85916-b2ca-4742-80ab-fa90176612b6",
   "metadata": {},
   "outputs": [
    {
     "data": {
      "text/plain": [
       "<Collection [[Cell(y=3, x=0, value='.'), Cell(y=3, x=1, value='.'), Cell(y=3, x=2, value='.'), Cell(y=3, x=3, value='.'), Cell(y=3, x=4, value='.'), Cell(y=3, x=5, value='.'), Cell(y=3, x=6, value='.'), Cell(y=3, x=7, value='.'), Cell(y=3, x=8, value='.'), Cell(y=3, x=9, value='.')]]>"
      ]
     },
     "execution_count": 4,
     "metadata": {},
     "output_type": "execute_result"
    }
   ],
   "source": [
    "grid.get_row(3)"
   ]
  },
  {
   "cell_type": "code",
   "execution_count": 5,
   "id": "0d2f26dd-3bdc-41da-9ee0-0e27dc442144",
   "metadata": {},
   "outputs": [
    {
     "data": {
      "text/plain": [
       "<Collection [[Cell(y=4, x=0, value='.'), Cell(y=4, x=1, value='.'), Cell(y=4, x=2, value='.'), Cell(y=4, x=3, value='.'), Cell(y=4, x=4, value='.'), Cell(y=4, x=5, value='.'), Cell(y=4, x=6, value='.'), Cell(y=4, x=7, value='.'), Cell(y=4, x=8, value='.'), Cell(y=4, x=9, value='.')]]>"
      ]
     },
     "execution_count": 5,
     "metadata": {},
     "output_type": "execute_result"
    }
   ],
   "source": [
    "grid.get_row(4)"
   ]
  },
  {
   "cell_type": "code",
   "execution_count": 6,
   "id": "561d0e4f-784f-4821-82f9-9b5daae15ff9",
   "metadata": {},
   "outputs": [
    {
     "name": "stdout",
     "output_type": "stream",
     "text": [
      "duplicating row 2\n",
      "duplicating row 6\n",
      "duplicating row 10\n"
     ]
    },
    {
     "data": {
      "text/plain": [
       "<Grid shape=(12, 13)>"
      ]
     },
     "execution_count": 6,
     "metadata": {},
     "output_type": "execute_result"
    }
   ],
   "source": [
    "idx = 0\n",
    "while True:\n",
    "    try:\n",
    "        column = grid.get_column(idx)\n",
    "    except KeyError:\n",
    "        break\n",
    "    if all(cell.value == '.' for cell in column):\n",
    "        print(f\"duplicating row {idx}\")\n",
    "        copy = [cell.copy(deep=True) for cell in column]\n",
    "        grid.insert_column(idx, copy)\n",
    "        idx += 2\n",
    "    else:\n",
    "        idx += 1\n",
    "\n",
    "grid"
   ]
  },
  {
   "cell_type": "code",
   "execution_count": 7,
   "id": "4f84bb65-ef97-40e4-ae57-499781a08cbf",
   "metadata": {},
   "outputs": [
    {
     "data": {
      "text/plain": [
       "[['.', '.', '.', '.', '#', '.', '.', '.', '.', '.', '.', '.', '.'],\n",
       " ['.', '.', '.', '.', '.', '.', '.', '.', '.', '#', '.', '.', '.'],\n",
       " ['#', '.', '.', '.', '.', '.', '.', '.', '.', '.', '.', '.', '.'],\n",
       " ['.', '.', '.', '.', '.', '.', '.', '.', '.', '.', '.', '.', '.'],\n",
       " ['.', '.', '.', '.', '.', '.', '.', '.', '.', '.', '.', '.', '.'],\n",
       " ['.', '.', '.', '.', '.', '.', '.', '.', '#', '.', '.', '.', '.'],\n",
       " ['.', '#', '.', '.', '.', '.', '.', '.', '.', '.', '.', '.', '.'],\n",
       " ['.', '.', '.', '.', '.', '.', '.', '.', '.', '.', '.', '.', '#'],\n",
       " ['.', '.', '.', '.', '.', '.', '.', '.', '.', '.', '.', '.', '.'],\n",
       " ['.', '.', '.', '.', '.', '.', '.', '.', '.', '.', '.', '.', '.'],\n",
       " ['.', '.', '.', '.', '.', '.', '.', '.', '.', '#', '.', '.', '.'],\n",
       " ['#', '.', '.', '.', '.', '#', '.', '.', '.', '.', '.', '.', '.']]"
      ]
     },
     "execution_count": 7,
     "metadata": {},
     "output_type": "execute_result"
    }
   ],
   "source": [
    "grid.values()"
   ]
  },
  {
   "cell_type": "code",
   "execution_count": 8,
   "id": "0c1d07af-858c-42cf-b770-68a8522fc61d",
   "metadata": {},
   "outputs": [
    {
     "data": {
      "text/plain": [
       "{1: Cell(y=0, x=4, value='#'),\n",
       " 2: Cell(y=1, x=9, value='#'),\n",
       " 3: Cell(y=2, x=0, value='#'),\n",
       " 4: Cell(y=5, x=8, value='#'),\n",
       " 5: Cell(y=6, x=1, value='#'),\n",
       " 6: Cell(y=7, x=12, value='#'),\n",
       " 7: Cell(y=10, x=9, value='#'),\n",
       " 8: Cell(y=11, x=0, value='#'),\n",
       " 9: Cell(y=11, x=5, value='#')}"
      ]
     },
     "execution_count": 8,
     "metadata": {},
     "output_type": "execute_result"
    }
   ],
   "source": [
    "idx = 1\n",
    "galaxies = {}\n",
    "for cell in grid.flatten():\n",
    "    if cell.value == '#':\n",
    "        galaxies[idx] = cell\n",
    "        idx += 1\n",
    "\n",
    "galaxies"
   ]
  },
  {
   "cell_type": "code",
   "execution_count": 11,
   "id": "7793ad9f-82de-4a65-949c-cb4801b1a0be",
   "metadata": {},
   "outputs": [
    {
     "data": {
      "text/plain": [
       "9"
      ]
     },
     "execution_count": 11,
     "metadata": {},
     "output_type": "execute_result"
    }
   ],
   "source": [
    "def manhattan_distance(cell1: gridthings.Cell, cell2: gridthings.Cell):\n",
    "    return abs(cell2.y - cell1.y) + abs(cell2.x - cell1.x)\n",
    "\n",
    "manhattan_distance(galaxies[9], galaxies[5])"
   ]
  },
  {
   "cell_type": "code",
   "execution_count": 12,
   "id": "3c38a857-c3ae-4f30-a368-e42a7708a9ae",
   "metadata": {},
   "outputs": [
    {
     "name": "stdout",
     "output_type": "stream",
     "text": [
      "1 2 6\n",
      "1 3 6\n",
      "1 4 9\n",
      "1 5 9\n",
      "1 6 15\n",
      "1 7 15\n",
      "1 8 15\n",
      "1 9 12\n",
      "2 3 10\n",
      "2 4 5\n",
      "2 5 13\n",
      "2 6 9\n",
      "2 7 9\n",
      "2 8 19\n",
      "2 9 14\n",
      "3 4 11\n",
      "3 5 5\n",
      "3 6 17\n",
      "3 7 17\n",
      "3 8 9\n",
      "3 9 14\n",
      "4 5 8\n",
      "4 6 6\n",
      "4 7 6\n",
      "4 8 14\n",
      "4 9 9\n",
      "5 6 12\n",
      "5 7 12\n",
      "5 8 6\n",
      "5 9 9\n",
      "6 7 6\n",
      "6 8 16\n",
      "6 9 11\n",
      "7 8 10\n",
      "7 9 5\n",
      "8 9 5\n"
     ]
    },
    {
     "data": {
      "text/plain": [
       "374"
      ]
     },
     "execution_count": 12,
     "metadata": {},
     "output_type": "execute_result"
    }
   ],
   "source": [
    "import itertools\n",
    "\n",
    "answer = 0\n",
    "for (id1, cell1), (id2, cell2) in itertools.combinations(galaxies.items(), 2):\n",
    "    dist = manhattan_distance(cell1, cell2)\n",
    "    print(id1, id2, dist)\n",
    "    answer += dist\n",
    "\n",
    "answer"
   ]
  },
  {
   "cell_type": "code",
   "execution_count": null,
   "id": "8df1db44-3e14-4bed-bd3b-0425ab5f12f8",
   "metadata": {},
   "outputs": [],
   "source": []
  }
 ],
 "metadata": {
  "kernelspec": {
   "display_name": "Python 3 (ipykernel)",
   "language": "python",
   "name": "python3"
  },
  "language_info": {
   "codemirror_mode": {
    "name": "ipython",
    "version": 3
   },
   "file_extension": ".py",
   "mimetype": "text/x-python",
   "name": "python",
   "nbconvert_exporter": "python",
   "pygments_lexer": "ipython3",
   "version": "3.11.4"
  }
 },
 "nbformat": 4,
 "nbformat_minor": 5
}
