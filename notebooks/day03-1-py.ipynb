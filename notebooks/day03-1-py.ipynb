{
 "cells": [
  {
   "cell_type": "code",
   "execution_count": null,
   "id": "7c1b85b9-ef6d-4446-9b33-3be32f8fd665",
   "metadata": {},
   "outputs": [],
   "source": [
    "import gridthings\n",
    "\n",
    "text = \"\"\"\n",
    "467..114..\n",
    "...*......\n",
    "..35..633.\n",
    "......#...\n",
    "617*......\n",
    ".....+.58.\n",
    "..592.....\n",
    "......755.\n",
    "...$.*....\n",
    ".664.598..\n",
    "\"\"\"\n",
    "\n",
    "grid = gridthings.Grid(text)\n",
    "grid"
   ]
  },
  {
   "cell_type": "code",
   "execution_count": null,
   "id": "f9c2f8d3-51cb-45a3-97aa-dd10dd60f21d",
   "metadata": {},
   "outputs": [],
   "source": [
    "collection = []\n",
    "current = []\n",
    "for c in grid.flatten():\n",
    "    if c.value.isdigit():\n",
    "        current.append(c)\n",
    "    else:\n",
    "        if current:\n",
    "            collection.append(current)\n",
    "            current = []\n",
    "if current:\n",
    "    collection.append(current)\n",
    "\n",
    "collection"
   ]
  },
  {
   "cell_type": "code",
   "execution_count": null,
   "id": "46ea27b4-6fed-4b6e-b1c3-27dd6160b85f",
   "metadata": {},
   "outputs": [],
   "source": [
    "from dataclasses import dataclass\n",
    "from typing import List\n",
    "from gridthings import Cell, OutOfBoundsCell\n",
    "\n",
    "@dataclass\n",
    "class Number:\n",
    "    cells: List[Cell]\n",
    "\n",
    "    @property\n",
    "    def value(self) -> int:\n",
    "        s = ''.join(c.value for c in self.cells)\n",
    "        return int(s)\n",
    "\n",
    "    def peek_all(self) -> List[Cell]:\n",
    "        \"\"\"\n",
    "        Returns all adjacent cells to this Number, excluding cells belonging to this\n",
    "        Number group or out of bounds cells\n",
    "        \"\"\"\n",
    "        total_results = []\n",
    "        for cell in self.cells:\n",
    "            results = grid.peek_all(cell.y, cell.x)\n",
    "            for item in results:\n",
    "                if item in self.cells:\n",
    "                    continue\n",
    "                if isinstance(item, OutOfBoundsCell):\n",
    "                    continue\n",
    "                if item in total_results:\n",
    "                    continue\n",
    "                total_results.append(item)\n",
    "        return total_results\n",
    "\n",
    "    def symbol_adjacent(self) -> bool:\n",
    "        for item in self.peek_all():\n",
    "            if item.value != '.' and not item.value.isdigit():\n",
    "                return True\n",
    "        return False\n",
    "\n",
    "nums = []\n",
    "for item in collection:\n",
    "    nums.append(Number(cells=item))\n",
    "\n",
    "nums\n"
   ]
  },
  {
   "cell_type": "code",
   "execution_count": null,
   "id": "d9265655-53be-4b1c-9567-700269717a82",
   "metadata": {},
   "outputs": [],
   "source": [
    "nums[0].peek_all()"
   ]
  },
  {
   "cell_type": "code",
   "execution_count": null,
   "id": "34d74628-2944-4a40-8384-be3fa2f32645",
   "metadata": {},
   "outputs": [],
   "source": [
    "nums[0].symbol_adjacent()"
   ]
  },
  {
   "cell_type": "code",
   "execution_count": null,
   "id": "336244ce-6e78-46bf-9162-4f45874b0a81",
   "metadata": {},
   "outputs": [],
   "source": [
    "for n in nums:\n",
    "    print(n.value, n.symbol_adjacent())"
   ]
  },
  {
   "cell_type": "code",
   "execution_count": null,
   "id": "bece8389-5efe-425e-a644-dc58e4bfd9ff",
   "metadata": {},
   "outputs": [],
   "source": [
    "answer = sum(n.value for n in nums if n.symbol_adjacent())\n",
    "answer"
   ]
  },
  {
   "cell_type": "code",
   "execution_count": null,
   "id": "29e98a17-2eb4-4293-a14d-c3af15713ffd",
   "metadata": {},
   "outputs": [],
   "source": [
    "from dataclasses import dataclass\n",
    "from typing import List\n",
    "from gridthings import Grid, Cell, OutOfBoundsCell\n",
    "\n",
    "text = open('../data/day03.txt').read()\n",
    "\n",
    "grid = Grid(text)\n",
    "\n",
    "collection = []\n",
    "current = []\n",
    "for c in grid.flatten():\n",
    "    if c.value.isdigit():\n",
    "        current.append(c)\n",
    "    else:\n",
    "        if current:\n",
    "            collection.append(current)\n",
    "            current = []\n",
    "if current:\n",
    "    collection.append(current)\n",
    "\n",
    "@dataclass\n",
    "class Number:\n",
    "    cells: List[Cell]\n",
    "\n",
    "    @property\n",
    "    def value(self) -> int:\n",
    "        s = ''.join(c.value for c in self.cells)\n",
    "        return int(s)\n",
    "\n",
    "    def peek_all(self) -> List[Cell]:\n",
    "        \"\"\"\n",
    "        Returns all adjacent cells to this Number, excluding cells belonging to this\n",
    "        Number group or out of bounds cells\n",
    "        \"\"\"\n",
    "        total_results = []\n",
    "        for cell in self.cells:\n",
    "            results = grid.peek_all(cell.y, cell.x)\n",
    "            for item in results:\n",
    "                if item in self.cells:\n",
    "                    continue\n",
    "                if isinstance(item, OutOfBoundsCell):\n",
    "                    continue\n",
    "                if item in total_results:\n",
    "                    continue\n",
    "                total_results.append(item)\n",
    "        return total_results\n",
    "\n",
    "    def symbol_adjacent(self) -> bool:\n",
    "        for item in self.peek_all():\n",
    "            if item.value != '.' and not item.value.isdigit():\n",
    "                return True\n",
    "        return False\n",
    "\n",
    "nums = []\n",
    "for item in collection:\n",
    "    nums.append(Number(cells=item))\n",
    "\n",
    "answer = sum(n.value for n in nums if n.symbol_adjacent())\n",
    "answer"
   ]
  },
  {
   "cell_type": "code",
   "execution_count": null,
   "id": "350d91fa-1a0c-487f-b3d3-85068401801e",
   "metadata": {},
   "outputs": [],
   "source": [
    "for n in nums:\n",
    "    print(n.value, n.symbol_adjacent())"
   ]
  },
  {
   "cell_type": "code",
   "execution_count": null,
   "id": "923c664b-f27f-4e88-9613-8a99b7ce9ca6",
   "metadata": {},
   "outputs": [],
   "source": []
  }
 ],
 "metadata": {
  "kernelspec": {
   "display_name": "Python 3 (ipykernel)",
   "language": "python",
   "name": "python3"
  },
  "language_info": {
   "codemirror_mode": {
    "name": "ipython",
    "version": 3
   },
   "file_extension": ".py",
   "mimetype": "text/x-python",
   "name": "python",
   "nbconvert_exporter": "python",
   "pygments_lexer": "ipython3",
   "version": "3.11.4"
  }
 },
 "nbformat": 4,
 "nbformat_minor": 5
}
