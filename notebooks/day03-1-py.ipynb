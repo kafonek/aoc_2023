{
 "cells": [
  {
   "cell_type": "code",
   "execution_count": 1,
   "id": "7c1b85b9-ef6d-4446-9b33-3be32f8fd665",
   "metadata": {},
   "outputs": [
    {
     "data": {
      "text/plain": [
       "<Grid shape=(10, 10)>"
      ]
     },
     "execution_count": 1,
     "metadata": {},
     "output_type": "execute_result"
    }
   ],
   "source": [
    "import gridthings\n",
    "\n",
    "text = \"\"\"\n",
    "467..114..\n",
    "...*......\n",
    "..35..633.\n",
    "......#...\n",
    "617*......\n",
    ".....+.58.\n",
    "..592.....\n",
    "......755.\n",
    "...$.*....\n",
    ".664.598..\n",
    "\"\"\"\n",
    "\n",
    "grid = gridthings.Grid(text)\n",
    "grid"
   ]
  },
  {
   "cell_type": "code",
   "execution_count": 2,
   "id": "ec0a5ff8-645c-4cbc-8f6c-64639931c4be",
   "metadata": {},
   "outputs": [
    {
     "name": "stdout",
     "output_type": "stream",
     "text": [
      "{0: Cell(y=0, x=0, value='4'), 1: Cell(y=0, x=1, value='6'), 2: Cell(y=0, x=2, value='7'), 3: Cell(y=0, x=3, value='.'), 4: Cell(y=0, x=4, value='.'), 5: Cell(y=0, x=5, value='1'), 6: Cell(y=0, x=6, value='1'), 7: Cell(y=0, x=7, value='4'), 8: Cell(y=0, x=8, value='.'), 9: Cell(y=0, x=9, value='.')}\n",
      "{0: Cell(y=1, x=0, value='.'), 1: Cell(y=1, x=1, value='.'), 2: Cell(y=1, x=2, value='.'), 3: Cell(y=1, x=3, value='*'), 4: Cell(y=1, x=4, value='.'), 5: Cell(y=1, x=5, value='.'), 6: Cell(y=1, x=6, value='.'), 7: Cell(y=1, x=7, value='.'), 8: Cell(y=1, x=8, value='.'), 9: Cell(y=1, x=9, value='.')}\n",
      "{0: Cell(y=2, x=0, value='.'), 1: Cell(y=2, x=1, value='.'), 2: Cell(y=2, x=2, value='3'), 3: Cell(y=2, x=3, value='5'), 4: Cell(y=2, x=4, value='.'), 5: Cell(y=2, x=5, value='.'), 6: Cell(y=2, x=6, value='6'), 7: Cell(y=2, x=7, value='3'), 8: Cell(y=2, x=8, value='3'), 9: Cell(y=2, x=9, value='.')}\n",
      "{0: Cell(y=3, x=0, value='.'), 1: Cell(y=3, x=1, value='.'), 2: Cell(y=3, x=2, value='.'), 3: Cell(y=3, x=3, value='.'), 4: Cell(y=3, x=4, value='.'), 5: Cell(y=3, x=5, value='.'), 6: Cell(y=3, x=6, value='#'), 7: Cell(y=3, x=7, value='.'), 8: Cell(y=3, x=8, value='.'), 9: Cell(y=3, x=9, value='.')}\n",
      "{0: Cell(y=4, x=0, value='6'), 1: Cell(y=4, x=1, value='1'), 2: Cell(y=4, x=2, value='7'), 3: Cell(y=4, x=3, value='*'), 4: Cell(y=4, x=4, value='.'), 5: Cell(y=4, x=5, value='.'), 6: Cell(y=4, x=6, value='.'), 7: Cell(y=4, x=7, value='.'), 8: Cell(y=4, x=8, value='.'), 9: Cell(y=4, x=9, value='.')}\n",
      "{0: Cell(y=5, x=0, value='.'), 1: Cell(y=5, x=1, value='.'), 2: Cell(y=5, x=2, value='.'), 3: Cell(y=5, x=3, value='.'), 4: Cell(y=5, x=4, value='.'), 5: Cell(y=5, x=5, value='+'), 6: Cell(y=5, x=6, value='.'), 7: Cell(y=5, x=7, value='5'), 8: Cell(y=5, x=8, value='8'), 9: Cell(y=5, x=9, value='.')}\n",
      "{0: Cell(y=6, x=0, value='.'), 1: Cell(y=6, x=1, value='.'), 2: Cell(y=6, x=2, value='5'), 3: Cell(y=6, x=3, value='9'), 4: Cell(y=6, x=4, value='2'), 5: Cell(y=6, x=5, value='.'), 6: Cell(y=6, x=6, value='.'), 7: Cell(y=6, x=7, value='.'), 8: Cell(y=6, x=8, value='.'), 9: Cell(y=6, x=9, value='.')}\n",
      "{0: Cell(y=7, x=0, value='.'), 1: Cell(y=7, x=1, value='.'), 2: Cell(y=7, x=2, value='.'), 3: Cell(y=7, x=3, value='.'), 4: Cell(y=7, x=4, value='.'), 5: Cell(y=7, x=5, value='.'), 6: Cell(y=7, x=6, value='7'), 7: Cell(y=7, x=7, value='5'), 8: Cell(y=7, x=8, value='5'), 9: Cell(y=7, x=9, value='.')}\n",
      "{0: Cell(y=8, x=0, value='.'), 1: Cell(y=8, x=1, value='.'), 2: Cell(y=8, x=2, value='.'), 3: Cell(y=8, x=3, value='$'), 4: Cell(y=8, x=4, value='.'), 5: Cell(y=8, x=5, value='*'), 6: Cell(y=8, x=6, value='.'), 7: Cell(y=8, x=7, value='.'), 8: Cell(y=8, x=8, value='.'), 9: Cell(y=8, x=9, value='.')}\n",
      "{0: Cell(y=9, x=0, value='.'), 1: Cell(y=9, x=1, value='6'), 2: Cell(y=9, x=2, value='6'), 3: Cell(y=9, x=3, value='4'), 4: Cell(y=9, x=4, value='.'), 5: Cell(y=9, x=5, value='5'), 6: Cell(y=9, x=6, value='9'), 7: Cell(y=9, x=7, value='8'), 8: Cell(y=9, x=8, value='.'), 9: Cell(y=9, x=9, value='.')}\n"
     ]
    }
   ],
   "source": [
    "for row in grid.data.values():\n",
    "    print(row)"
   ]
  },
  {
   "cell_type": "code",
   "execution_count": 3,
   "id": "f9c2f8d3-51cb-45a3-97aa-dd10dd60f21d",
   "metadata": {},
   "outputs": [
    {
     "data": {
      "text/plain": [
       "[[Cell(y=0, x=0, value='4'),\n",
       "  Cell(y=0, x=1, value='6'),\n",
       "  Cell(y=0, x=2, value='7')],\n",
       " [Cell(y=0, x=5, value='1'),\n",
       "  Cell(y=0, x=6, value='1'),\n",
       "  Cell(y=0, x=7, value='4')],\n",
       " [Cell(y=2, x=2, value='3'), Cell(y=2, x=3, value='5')],\n",
       " [Cell(y=2, x=6, value='6'),\n",
       "  Cell(y=2, x=7, value='3'),\n",
       "  Cell(y=2, x=8, value='3')],\n",
       " [Cell(y=4, x=0, value='6'),\n",
       "  Cell(y=4, x=1, value='1'),\n",
       "  Cell(y=4, x=2, value='7')],\n",
       " [Cell(y=5, x=7, value='5'), Cell(y=5, x=8, value='8')],\n",
       " [Cell(y=6, x=2, value='5'),\n",
       "  Cell(y=6, x=3, value='9'),\n",
       "  Cell(y=6, x=4, value='2')],\n",
       " [Cell(y=7, x=6, value='7'),\n",
       "  Cell(y=7, x=7, value='5'),\n",
       "  Cell(y=7, x=8, value='5')],\n",
       " [Cell(y=9, x=1, value='6'),\n",
       "  Cell(y=9, x=2, value='6'),\n",
       "  Cell(y=9, x=3, value='4')],\n",
       " [Cell(y=9, x=5, value='5'),\n",
       "  Cell(y=9, x=6, value='9'),\n",
       "  Cell(y=9, x=7, value='8')]]"
      ]
     },
     "execution_count": 3,
     "metadata": {},
     "output_type": "execute_result"
    }
   ],
   "source": [
    "collection = []\n",
    "current = []\n",
    "# use grid.data.values() instead of grid.flatten() to avoid \"wrap-around\" numbers, e.g.\n",
    "# . . 3\n",
    "# 4 & .\n",
    "for row in grid.data.values():\n",
    "    for c in row.values():\n",
    "        if c.value.isdigit():\n",
    "            current.append(c)\n",
    "        else:\n",
    "            if current:\n",
    "                collection.append(current)\n",
    "                current = []\n",
    "    # end of row\n",
    "    if current:\n",
    "        collection.append(current)\n",
    "        current = []\n",
    "\n",
    "collection"
   ]
  },
  {
   "cell_type": "code",
   "execution_count": 4,
   "id": "46ea27b4-6fed-4b6e-b1c3-27dd6160b85f",
   "metadata": {},
   "outputs": [
    {
     "data": {
      "text/plain": [
       "[<Number 467)>,\n",
       " <Number 114)>,\n",
       " <Number 35)>,\n",
       " <Number 633)>,\n",
       " <Number 617)>,\n",
       " <Number 58)>,\n",
       " <Number 592)>,\n",
       " <Number 755)>,\n",
       " <Number 664)>,\n",
       " <Number 598)>]"
      ]
     },
     "execution_count": 4,
     "metadata": {},
     "output_type": "execute_result"
    }
   ],
   "source": [
    "from dataclasses import dataclass\n",
    "from typing import List\n",
    "from gridthings import Cell, OutOfBoundsCell\n",
    "\n",
    "@dataclass\n",
    "class Number:\n",
    "    cells: List[Cell]\n",
    "\n",
    "    @property\n",
    "    def value(self) -> int:\n",
    "        s = ''.join(c.value for c in self.cells)\n",
    "        return int(s)\n",
    "\n",
    "    def peek_all(self) -> List[Cell]:\n",
    "        \"\"\"\n",
    "        Returns all adjacent cells to this Number, excluding cells belonging to this\n",
    "        Number group or out of bounds cells\n",
    "        \"\"\"\n",
    "        total_results = []\n",
    "        for cell in self.cells:\n",
    "            results = grid.peek_all(cell.y, cell.x)\n",
    "            for item in results:\n",
    "                if item in self.cells:\n",
    "                    continue\n",
    "                if isinstance(item, OutOfBoundsCell):\n",
    "                    continue\n",
    "                if item in total_results:\n",
    "                    continue\n",
    "                total_results.append(item)\n",
    "        return total_results\n",
    "\n",
    "    def symbol_adjacent(self) -> bool:\n",
    "        for item in self.peek_all():\n",
    "            if item.value != '.' and not item.value.isdigit():\n",
    "                return True\n",
    "        return False\n",
    "\n",
    "    def __repr__(self):\n",
    "        return f\"<Number {self.value})>\"\n",
    "\n",
    "nums = []\n",
    "for item in collection:\n",
    "    nums.append(Number(cells=item))\n",
    "\n",
    "nums\n"
   ]
  },
  {
   "cell_type": "code",
   "execution_count": 5,
   "id": "d9265655-53be-4b1c-9567-700269717a82",
   "metadata": {},
   "outputs": [
    {
     "data": {
      "text/plain": [
       "[Cell(y=1, x=0, value='.'),\n",
       " Cell(y=1, x=1, value='.'),\n",
       " Cell(y=1, x=2, value='.'),\n",
       " Cell(y=0, x=3, value='.'),\n",
       " Cell(y=1, x=3, value='*')]"
      ]
     },
     "execution_count": 5,
     "metadata": {},
     "output_type": "execute_result"
    }
   ],
   "source": [
    "nums[0].peek_all()"
   ]
  },
  {
   "cell_type": "code",
   "execution_count": 6,
   "id": "34d74628-2944-4a40-8384-be3fa2f32645",
   "metadata": {},
   "outputs": [
    {
     "data": {
      "text/plain": [
       "True"
      ]
     },
     "execution_count": 6,
     "metadata": {},
     "output_type": "execute_result"
    }
   ],
   "source": [
    "nums[0].symbol_adjacent()"
   ]
  },
  {
   "cell_type": "code",
   "execution_count": 7,
   "id": "336244ce-6e78-46bf-9162-4f45874b0a81",
   "metadata": {},
   "outputs": [
    {
     "name": "stdout",
     "output_type": "stream",
     "text": [
      "467 True\n",
      "114 False\n",
      "35 True\n",
      "633 True\n",
      "617 True\n",
      "58 False\n",
      "592 True\n",
      "755 True\n",
      "664 True\n",
      "598 True\n"
     ]
    }
   ],
   "source": [
    "for n in nums:\n",
    "    print(n.value, n.symbol_adjacent())"
   ]
  },
  {
   "cell_type": "code",
   "execution_count": 8,
   "id": "bece8389-5efe-425e-a644-dc58e4bfd9ff",
   "metadata": {},
   "outputs": [
    {
     "data": {
      "text/plain": [
       "4361"
      ]
     },
     "execution_count": 8,
     "metadata": {},
     "output_type": "execute_result"
    }
   ],
   "source": [
    "answer = sum(n.value for n in nums if n.symbol_adjacent())\n",
    "answer"
   ]
  },
  {
   "cell_type": "code",
   "execution_count": null,
   "id": "dd4eb953-4d53-49a1-8122-633ae7128e3c",
   "metadata": {},
   "outputs": [],
   "source": []
  }
 ],
 "metadata": {
  "kernelspec": {
   "display_name": "Python 3 (ipykernel)",
   "language": "python",
   "name": "python3"
  },
  "language_info": {
   "codemirror_mode": {
    "name": "ipython",
    "version": 3
   },
   "file_extension": ".py",
   "mimetype": "text/x-python",
   "name": "python",
   "nbconvert_exporter": "python",
   "pygments_lexer": "ipython3",
   "version": "3.11.4"
  }
 },
 "nbformat": 4,
 "nbformat_minor": 5
}
