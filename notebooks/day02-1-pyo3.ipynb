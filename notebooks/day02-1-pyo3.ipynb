{
 "cells": [
  {
   "cell_type": "markdown",
   "id": "cc8c18c5",
   "metadata": {},
   "source": [
    "Relevant directions from https://adventofcode.com/2023/day/2 part one -\n",
    "\n",
    "You play several games and record the information from each game (your puzzle input). Each game is listed with its ID number (like the 11 in Game 11: ...) followed by a semicolon-separated list of subsets of cubes that were revealed from the bag (like 3 red, 5 green, 4 blue).\n",
    "\n",
    "For example, the record of a few games might look like this:\n",
    "\n",
    "```\n",
    "Game 1: 3 blue, 4 red; 1 red, 2 green, 6 blue; 2 green\n",
    "Game 2: 1 blue, 2 green; 3 green, 4 blue, 1 red; 1 green, 1 blue\n",
    "Game 3: 8 green, 6 blue, 20 red; 5 blue, 4 red, 13 green; 5 green, 1 red\n",
    "Game 4: 1 green, 3 red, 6 blue; 3 green, 6 red; 3 green, 15 blue, 14 red\n",
    "Game 5: 6 red, 1 blue, 3 green; 2 blue, 1 red, 2 green\n",
    "```\n",
    "\n",
    "In game 1, three sets of cubes are revealed from the bag (and then put back again). The first set is 3 blue cubes and 4 red cubes; the second set is 1 red cube, 2 green cubes, and 6 blue cubes; the third set is only 2 green cubes.\n",
    "\n",
    "The Elf would first like to know which games would have been possible if the bag contained only 12 red cubes, 13 green cubes, and 14 blue cubes?\n",
    "\n",
    "In the example above, games 1, 2, and 5 would have been possible if the bag had been loaded with that configuration. However, game 3 would have been impossible because at one point the Elf showed you 20 red cubes at once; similarly, game 4 would also have been impossible because the Elf showed you 15 blue cubes at once. If you add up the IDs of the games that would have been possible, you get **8**.\n",
    "\n",
    "Determine which games would have been possible if the bag had been loaded with only 12 red cubes, 13 green cubes, and 14 blue cubes. What is the sum of the IDs of those games?"
   ]
  },
  {
   "cell_type": "code",
   "execution_count": 1,
   "id": "1953bb18-442a-4998-9e27-f0c3e233c174",
   "metadata": {},
   "outputs": [
    {
     "data": {
      "text/plain": [
       "['Game 1: 3 blue, 4 red; 1 red, 2 green, 6 blue; 2 green',\n",
       " 'Game 2: 1 blue, 2 green; 3 green, 4 blue, 1 red; 1 green, 1 blue',\n",
       " 'Game 3: 8 green, 6 blue, 20 red; 5 blue, 4 red, 13 green; 5 green, 1 red',\n",
       " 'Game 4: 1 green, 3 red, 6 blue; 3 green, 6 red; 3 green, 15 blue, 14 red',\n",
       " 'Game 5: 6 red, 1 blue, 3 green; 2 blue, 1 red, 2 green']"
      ]
     },
     "execution_count": 1,
     "metadata": {},
     "output_type": "execute_result"
    }
   ],
   "source": [
    "text = \"\"\"\n",
    "Game 1: 3 blue, 4 red; 1 red, 2 green, 6 blue; 2 green\n",
    "Game 2: 1 blue, 2 green; 3 green, 4 blue, 1 red; 1 green, 1 blue\n",
    "Game 3: 8 green, 6 blue, 20 red; 5 blue, 4 red, 13 green; 5 green, 1 red\n",
    "Game 4: 1 green, 3 red, 6 blue; 3 green, 6 red; 3 green, 15 blue, 14 red\n",
    "Game 5: 6 red, 1 blue, 3 green; 2 blue, 1 red, 2 green\n",
    "\"\"\"\n",
    "lines = text.strip().split(\"\\n\")\n",
    "lines"
   ]
  },
  {
   "cell_type": "code",
   "execution_count": 2,
   "id": "3e5211ea-597d-4f99-a407-ce9bf3483b54",
   "metadata": {},
   "outputs": [
    {
     "data": {
      "text/plain": [
       "Bag { red: 20, green: 8, blue: 6 }"
      ]
     },
     "execution_count": 2,
     "metadata": {},
     "output_type": "execute_result"
    }
   ],
   "source": [
    "from aoc_2023 import Bag\n",
    "example = Bag.from_string(\"8 green, 6 blue, 20 red\")\n",
    "example"
   ]
  },
  {
   "cell_type": "code",
   "execution_count": 3,
   "id": "9ec9e86b-72bd-40fc-a9ba-d2cdcc4f5beb",
   "metadata": {},
   "outputs": [
    {
     "data": {
      "text/plain": [
       "False"
      ]
     },
     "execution_count": 3,
     "metadata": {},
     "output_type": "execute_result"
    }
   ],
   "source": [
    "benchmark = Bag(blue=14, red=12, green=13)\n",
    "benchmark.can_contain(example)"
   ]
  },
  {
   "cell_type": "code",
   "execution_count": 4,
   "id": "8cea91f7-0852-4a06-ab3b-64770f37872d",
   "metadata": {},
   "outputs": [
    {
     "data": {
      "text/plain": [
       "Game { id: 5, bags: [Bag { red: 6, green: 3, blue: 1 }, Bag { red: 1, green: 2, blue: 2 }] }"
      ]
     },
     "execution_count": 4,
     "metadata": {},
     "output_type": "execute_result"
    }
   ],
   "source": [
    "from aoc_2023 import Game\n",
    "\n",
    "Game.from_string('Game 5: 6 red, 1 blue, 3 green; 2 blue, 1 red, 2 green\\n')"
   ]
  },
  {
   "cell_type": "code",
   "execution_count": 5,
   "id": "d567d963-43f9-46a8-bd4e-c4bcf27cc177",
   "metadata": {},
   "outputs": [
    {
     "data": {
      "text/plain": [
       "[Game { id: 1, bags: [Bag { red: 4, green: 0, blue: 3 }, Bag { red: 1, green: 2, blue: 6 }, Bag { red: 0, green: 2, blue: 0 }] },\n",
       " Game { id: 2, bags: [Bag { red: 0, green: 2, blue: 1 }, Bag { red: 1, green: 3, blue: 4 }, Bag { red: 0, green: 1, blue: 1 }] },\n",
       " Game { id: 3, bags: [Bag { red: 20, green: 8, blue: 6 }, Bag { red: 4, green: 13, blue: 5 }, Bag { red: 1, green: 5, blue: 0 }] },\n",
       " Game { id: 4, bags: [Bag { red: 3, green: 1, blue: 6 }, Bag { red: 6, green: 3, blue: 0 }, Bag { red: 14, green: 3, blue: 15 }] },\n",
       " Game { id: 5, bags: [Bag { red: 6, green: 3, blue: 1 }, Bag { red: 1, green: 2, blue: 2 }] }]"
      ]
     },
     "execution_count": 5,
     "metadata": {},
     "output_type": "execute_result"
    }
   ],
   "source": [
    "games = []\n",
    "for line in lines:\n",
    "    game = Game.from_string(line)\n",
    "    games.append(game)\n",
    "games"
   ]
  },
  {
   "cell_type": "code",
   "execution_count": 6,
   "id": "37c5b819-6641-4a00-9eb3-cb5d5ef8a622",
   "metadata": {},
   "outputs": [
    {
     "data": {
      "text/plain": [
       "Bag { red: 12, green: 13, blue: 14 }"
      ]
     },
     "execution_count": 6,
     "metadata": {},
     "output_type": "execute_result"
    }
   ],
   "source": [
    "benchmark"
   ]
  },
  {
   "cell_type": "code",
   "execution_count": 7,
   "id": "64da43d0-57bd-4505-93d0-1a2aab09a1a8",
   "metadata": {},
   "outputs": [
    {
     "name": "stdout",
     "output_type": "stream",
     "text": [
      "ID: 1. Check: True\n",
      "ID: 2. Check: True\n",
      "ID: 3. Check: False\n",
      "ID: 4. Check: False\n",
      "ID: 5. Check: True\n"
     ]
    }
   ],
   "source": [
    "for game in games:\n",
    "    print(f\"ID: {game.id}. Check: {game.check(benchmark)}\")"
   ]
  },
  {
   "cell_type": "code",
   "execution_count": 8,
   "id": "0c8acdbb-fc40-49e0-98c1-d33d42f679a0",
   "metadata": {},
   "outputs": [
    {
     "data": {
      "text/plain": [
       "8"
      ]
     },
     "execution_count": 8,
     "metadata": {},
     "output_type": "execute_result"
    }
   ],
   "source": [
    "id_sum = 0\n",
    "for game in games:\n",
    "    if game.check(benchmark):\n",
    "        id_sum += game.id\n",
    "\n",
    "id_sum"
   ]
  },
  {
   "cell_type": "code",
   "execution_count": 9,
   "id": "bca1916a-7942-4236-8006-33c082be8be0",
   "metadata": {},
   "outputs": [
    {
     "name": "stdout",
     "output_type": "stream",
     "text": [
      "102 µs ± 1.87 µs per loop (mean ± std. dev. of 7 runs, 10,000 loops each)\n"
     ]
    }
   ],
   "source": [
    "%%timeit\n",
    "from aoc_2023 import Bag, Game\n",
    "\n",
    "lines = open('../data/day02.txt').readlines()\n",
    "benchmark = Bag(blue=14, red=12, green=13)\n",
    "\n",
    "games = []\n",
    "for line in lines:\n",
    "    game = Game.from_string(line)\n",
    "    games.append(game)\n",
    "    \n",
    "id_sum = 0\n",
    "for game in games:\n",
    "    if game.check(benchmark):\n",
    "        id_sum += game.id\n",
    "\n",
    "id_sum"
   ]
  },
  {
   "cell_type": "code",
   "execution_count": null,
   "id": "2795ea27-e55d-41ef-b14c-c5e2be594d69",
   "metadata": {},
   "outputs": [],
   "source": []
  }
 ],
 "metadata": {
  "kernelspec": {
   "display_name": "Python 3 (ipykernel)",
   "language": "python",
   "name": "python3"
  },
  "language_info": {
   "codemirror_mode": {
    "name": "ipython",
    "version": 3
   },
   "file_extension": ".py",
   "mimetype": "text/x-python",
   "name": "python",
   "nbconvert_exporter": "python",
   "pygments_lexer": "ipython3",
   "version": "3.11.4"
  }
 },
 "nbformat": 4,
 "nbformat_minor": 5
}
