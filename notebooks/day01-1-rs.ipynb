{
 "cells": [
  {
   "cell_type": "code",
   "execution_count": null,
   "id": "bf9ca1f0",
   "metadata": {},
   "outputs": [],
   "source": [
    "let text = r#\"\n",
    "1abc2\n",
    "pqr3stu8vwx\n",
    "a1b2c3d4e5f\n",
    "treb7uchet\n",
    "\"#;\n",
    "let lines: Vec<&str> = text.trim().lines().collect();\n",
    "lines"
   ]
  },
  {
   "cell_type": "code",
   "execution_count": null,
   "id": "2f5c28f1",
   "metadata": {},
   "outputs": [],
   "source": [
    ":dep regex\n",
    "use regex::Regex;\n",
    "\n",
    "let re = Regex::new(r\"\\d\").unwrap();\n",
    "re"
   ]
  },
  {
   "cell_type": "code",
   "execution_count": null,
   "id": "fcd11f5b",
   "metadata": {},
   "outputs": [],
   "source": [
    "let matches: Vec<String> = re.find_iter(&lines[1])\n",
    "  .map(|c| c.as_str().to_owned())\n",
    "  .collect();\n",
    "matches"
   ]
  },
  {
   "cell_type": "code",
   "execution_count": null,
   "id": "aa21fb22",
   "metadata": {},
   "outputs": [],
   "source": [
    "let mut extracted_digits: Vec<Vec<String>> = Vec::new();\n",
    "\n",
    "for line in &lines {\n",
    "    let matches: Vec<String> = re.find_iter(line)\n",
    "                                 .map(|c| c.as_str().to_owned())\n",
    "                                 .collect();\n",
    "    extracted_digits.push(matches);\n",
    "}\n",
    "extracted_digits"
   ]
  },
  {
   "cell_type": "code",
   "execution_count": null,
   "id": "f02eb455",
   "metadata": {},
   "outputs": [],
   "source": [
    "// show what .first() looks like (Some/None) as contrast to Python's item[0]\n",
    "&extracted_digits[0].first()"
   ]
  },
  {
   "cell_type": "code",
   "execution_count": null,
   "id": "c29bad90",
   "metadata": {},
   "outputs": [],
   "source": [
    "&extracted_digits[0].last()"
   ]
  },
  {
   "cell_type": "code",
   "execution_count": null,
   "id": "1c4fea04",
   "metadata": {},
   "outputs": [],
   "source": [
    "let combined = {\n",
    "    let first = &extracted_digits[0].first().unwrap();\n",
    "    let second = &extracted_digits[0].last().unwrap();\n",
    "    format!(\"{}{}\", first, second)\n",
    "};\n",
    "combined"
   ]
  },
  {
   "cell_type": "code",
   "execution_count": null,
   "id": "3fe7b1fa",
   "metadata": {},
   "outputs": [],
   "source": [
    "let mut combines: Vec<String> = Vec::new();\n",
    "for item in &extracted_digits {\n",
    "    let combine = {\n",
    "        let first = item.first().unwrap();\n",
    "        let second = item.last().unwrap();\n",
    "        format!(\"{}{}\", first, second)\n",
    "    };\n",
    "    combines.push(combine);\n",
    "}\n",
    "combines"
   ]
  },
  {
   "cell_type": "code",
   "execution_count": null,
   "id": "b64c1926",
   "metadata": {},
   "outputs": [],
   "source": [
    "let combines_n = combines.iter().map(|s| s.parse::<i32>().unwrap()).collect::<Vec<i32>>();\n",
    "combines_n"
   ]
  },
  {
   "cell_type": "code",
   "execution_count": null,
   "id": "a7cab07b",
   "metadata": {},
   "outputs": [],
   "source": [
    "combines_n.iter().sum::<i32>()"
   ]
  },
  {
   "cell_type": "code",
   "execution_count": null,
   "id": "038bbb7b",
   "metadata": {},
   "outputs": [],
   "source": []
  }
 ],
 "metadata": {
  "kernelspec": {
   "display_name": "Rust",
   "language": "rust",
   "name": "rust"
  },
  "language_info": {
   "codemirror_mode": "rust",
   "file_extension": ".rs",
   "mimetype": "text/rust",
   "name": "Rust",
   "pygment_lexer": "rust",
   "version": ""
  }
 },
 "nbformat": 4,
 "nbformat_minor": 5
}
