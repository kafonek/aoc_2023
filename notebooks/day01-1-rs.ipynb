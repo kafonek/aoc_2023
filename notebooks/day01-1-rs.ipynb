{
 "cells": [
  {
   "cell_type": "markdown",
   "id": "59dd0af6",
   "metadata": {},
   "source": [
    "Relevant directions from https://adventofcode.com/2023/day/1  part one -\n",
    "\n",
    "The newly-improved calibration document consists of lines of text; each line originally contained a specific calibration value that the Elves now need to recover. On each line, the calibration value can be found by combining the first digit and the last digit (in that order) to form a single two-digit number.\n",
    "\n",
    "For example:\n",
    "\n",
    "```\n",
    "1abc2\n",
    "pqr3stu8vwx\n",
    "a1b2c3d4e5f\n",
    "treb7uchet\n",
    "```\n",
    "\n",
    "In this example, the calibration values of these four lines are 12, 38, 15, and 77. Adding these together produces **142**.\n",
    "\n",
    "Consider your entire calibration document. What is the sum of all of the calibration values?"
   ]
  },
  {
   "cell_type": "code",
   "execution_count": 2,
   "id": "bf9ca1f0",
   "metadata": {
    "vscode": {
     "languageId": "rust"
    }
   },
   "outputs": [
    {
     "data": {
      "text/plain": [
       "[\"1abc2\", \"pqr3stu8vwx\", \"a1b2c3d4e5f\", \"treb7uchet\"]"
      ]
     },
     "execution_count": 2,
     "metadata": {},
     "output_type": "execute_result"
    }
   ],
   "source": [
    "let text = r#\"\n",
    "1abc2\n",
    "pqr3stu8vwx\n",
    "a1b2c3d4e5f\n",
    "treb7uchet\n",
    "\"#;\n",
    "let lines: Vec<&str> = text.trim().lines().collect();\n",
    "lines"
   ]
  },
  {
   "cell_type": "code",
   "execution_count": 3,
   "id": "2f5c28f1",
   "metadata": {
    "vscode": {
     "languageId": "rust"
    }
   },
   "outputs": [
    {
     "data": {
      "text/plain": [
       "Regex(\"\\\\d\")"
      ]
     },
     "execution_count": 3,
     "metadata": {},
     "output_type": "execute_result"
    }
   ],
   "source": [
    ":dep regex\n",
    "use regex::Regex;\n",
    "\n",
    "let re = Regex::new(r\"\\d\").unwrap();\n",
    "re"
   ]
  },
  {
   "cell_type": "code",
   "execution_count": 4,
   "id": "fcd11f5b",
   "metadata": {
    "vscode": {
     "languageId": "rust"
    }
   },
   "outputs": [
    {
     "data": {
      "text/plain": [
       "[\"3\", \"8\"]"
      ]
     },
     "execution_count": 4,
     "metadata": {},
     "output_type": "execute_result"
    }
   ],
   "source": [
    "let matches: Vec<String> = re.find_iter(&lines[1])\n",
    "  .map(|c| c.as_str().to_owned())\n",
    "  .collect();\n",
    "matches"
   ]
  },
  {
   "cell_type": "code",
   "execution_count": 5,
   "id": "aa21fb22",
   "metadata": {
    "vscode": {
     "languageId": "rust"
    }
   },
   "outputs": [
    {
     "data": {
      "text/plain": [
       "[[\"1\", \"2\"], [\"3\", \"8\"], [\"1\", \"2\", \"3\", \"4\", \"5\"], [\"7\"]]"
      ]
     },
     "execution_count": 5,
     "metadata": {},
     "output_type": "execute_result"
    }
   ],
   "source": [
    "let mut extracted_digits: Vec<Vec<String>> = Vec::new();\n",
    "\n",
    "for line in &lines {\n",
    "    let matches: Vec<String> = re.find_iter(line)\n",
    "                                 .map(|c| c.as_str().to_owned())\n",
    "                                 .collect();\n",
    "    extracted_digits.push(matches);\n",
    "}\n",
    "extracted_digits"
   ]
  },
  {
   "cell_type": "code",
   "execution_count": 6,
   "id": "f02eb455",
   "metadata": {
    "vscode": {
     "languageId": "rust"
    }
   },
   "outputs": [
    {
     "data": {
      "text/plain": [
       "Some(\"1\")"
      ]
     },
     "execution_count": 6,
     "metadata": {},
     "output_type": "execute_result"
    }
   ],
   "source": [
    "// show what .first() looks like (Some/None) as contrast to Python's item[0]\n",
    "&extracted_digits[0].first()"
   ]
  },
  {
   "cell_type": "code",
   "execution_count": 7,
   "id": "c29bad90",
   "metadata": {
    "vscode": {
     "languageId": "rust"
    }
   },
   "outputs": [
    {
     "data": {
      "text/plain": [
       "Some(\"2\")"
      ]
     },
     "execution_count": 7,
     "metadata": {},
     "output_type": "execute_result"
    }
   ],
   "source": [
    "&extracted_digits[0].last()"
   ]
  },
  {
   "cell_type": "code",
   "execution_count": 8,
   "id": "1c4fea04",
   "metadata": {
    "vscode": {
     "languageId": "rust"
    }
   },
   "outputs": [
    {
     "data": {
      "text/plain": [
       "\"12\""
      ]
     },
     "execution_count": 8,
     "metadata": {},
     "output_type": "execute_result"
    }
   ],
   "source": [
    "let combined = {\n",
    "    let first = &extracted_digits[0].first().unwrap();\n",
    "    let second = &extracted_digits[0].last().unwrap();\n",
    "    format!(\"{}{}\", first, second)\n",
    "};\n",
    "combined"
   ]
  },
  {
   "cell_type": "code",
   "execution_count": 9,
   "id": "3fe7b1fa",
   "metadata": {
    "vscode": {
     "languageId": "rust"
    }
   },
   "outputs": [
    {
     "data": {
      "text/plain": [
       "[\"12\", \"38\", \"15\", \"77\"]"
      ]
     },
     "execution_count": 9,
     "metadata": {},
     "output_type": "execute_result"
    }
   ],
   "source": [
    "let mut combines: Vec<String> = Vec::new();\n",
    "for item in &extracted_digits {\n",
    "    let combine = {\n",
    "        let first = item.first().unwrap();\n",
    "        let second = item.last().unwrap();\n",
    "        format!(\"{}{}\", first, second)\n",
    "    };\n",
    "    combines.push(combine);\n",
    "}\n",
    "combines"
   ]
  },
  {
   "cell_type": "code",
   "execution_count": 10,
   "id": "b64c1926",
   "metadata": {
    "vscode": {
     "languageId": "rust"
    }
   },
   "outputs": [
    {
     "data": {
      "text/plain": [
       "[12, 38, 15, 77]"
      ]
     },
     "execution_count": 10,
     "metadata": {},
     "output_type": "execute_result"
    }
   ],
   "source": [
    "let combines_n = combines.iter().map(|s| s.parse::<i32>().unwrap()).collect::<Vec<i32>>();\n",
    "combines_n"
   ]
  },
  {
   "cell_type": "code",
   "execution_count": 11,
   "id": "a7cab07b",
   "metadata": {
    "vscode": {
     "languageId": "rust"
    }
   },
   "outputs": [
    {
     "data": {
      "text/plain": [
       "142"
      ]
     },
     "execution_count": 11,
     "metadata": {},
     "output_type": "execute_result"
    }
   ],
   "source": [
    "combines_n.iter().sum::<i32>()"
   ]
  },
  {
   "cell_type": "code",
   "execution_count": null,
   "id": "038bbb7b",
   "metadata": {
    "vscode": {
     "languageId": "rust"
    }
   },
   "outputs": [],
   "source": []
  }
 ],
 "metadata": {
  "kernelspec": {
   "display_name": "Rust",
   "language": "rust",
   "name": "rust"
  },
  "language_info": {
   "codemirror_mode": "rust",
   "file_extension": ".rs",
   "mimetype": "text/rust",
   "name": "Rust",
   "pygment_lexer": "rust",
   "version": ""
  }
 },
 "nbformat": 4,
 "nbformat_minor": 5
}
