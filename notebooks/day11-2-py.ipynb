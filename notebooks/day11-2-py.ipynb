{
 "cells": [
  {
   "cell_type": "code",
   "execution_count": 2,
   "id": "de379fe7-b9f1-429a-a881-3f118ca586ed",
   "metadata": {},
   "outputs": [
    {
     "data": {
      "text/html": [
       "<div>\n",
       "<style scoped>\n",
       "    .dataframe tbody tr th:only-of-type {\n",
       "        vertical-align: middle;\n",
       "    }\n",
       "\n",
       "    .dataframe tbody tr th {\n",
       "        vertical-align: top;\n",
       "    }\n",
       "\n",
       "    .dataframe thead th {\n",
       "        text-align: right;\n",
       "    }\n",
       "</style>\n",
       "<table border=\"1\" class=\"dataframe\">\n",
       "  <thead>\n",
       "    <tr style=\"text-align: right;\">\n",
       "      <th></th>\n",
       "      <th>0</th>\n",
       "      <th>1</th>\n",
       "      <th>2</th>\n",
       "      <th>3</th>\n",
       "      <th>4</th>\n",
       "      <th>5</th>\n",
       "      <th>6</th>\n",
       "      <th>7</th>\n",
       "      <th>8</th>\n",
       "      <th>9</th>\n",
       "    </tr>\n",
       "  </thead>\n",
       "  <tbody>\n",
       "    <tr>\n",
       "      <th>0</th>\n",
       "      <td>.</td>\n",
       "      <td>.</td>\n",
       "      <td>.</td>\n",
       "      <td>#</td>\n",
       "      <td>.</td>\n",
       "      <td>.</td>\n",
       "      <td>.</td>\n",
       "      <td>.</td>\n",
       "      <td>.</td>\n",
       "      <td>.</td>\n",
       "    </tr>\n",
       "    <tr>\n",
       "      <th>1</th>\n",
       "      <td>.</td>\n",
       "      <td>.</td>\n",
       "      <td>.</td>\n",
       "      <td>.</td>\n",
       "      <td>.</td>\n",
       "      <td>.</td>\n",
       "      <td>.</td>\n",
       "      <td>#</td>\n",
       "      <td>.</td>\n",
       "      <td>.</td>\n",
       "    </tr>\n",
       "    <tr>\n",
       "      <th>2</th>\n",
       "      <td>#</td>\n",
       "      <td>.</td>\n",
       "      <td>.</td>\n",
       "      <td>.</td>\n",
       "      <td>.</td>\n",
       "      <td>.</td>\n",
       "      <td>.</td>\n",
       "      <td>.</td>\n",
       "      <td>.</td>\n",
       "      <td>.</td>\n",
       "    </tr>\n",
       "    <tr>\n",
       "      <th>3</th>\n",
       "      <td>.</td>\n",
       "      <td>.</td>\n",
       "      <td>.</td>\n",
       "      <td>.</td>\n",
       "      <td>.</td>\n",
       "      <td>.</td>\n",
       "      <td>.</td>\n",
       "      <td>.</td>\n",
       "      <td>.</td>\n",
       "      <td>.</td>\n",
       "    </tr>\n",
       "    <tr>\n",
       "      <th>4</th>\n",
       "      <td>.</td>\n",
       "      <td>.</td>\n",
       "      <td>.</td>\n",
       "      <td>.</td>\n",
       "      <td>.</td>\n",
       "      <td>.</td>\n",
       "      <td>#</td>\n",
       "      <td>.</td>\n",
       "      <td>.</td>\n",
       "      <td>.</td>\n",
       "    </tr>\n",
       "    <tr>\n",
       "      <th>5</th>\n",
       "      <td>.</td>\n",
       "      <td>#</td>\n",
       "      <td>.</td>\n",
       "      <td>.</td>\n",
       "      <td>.</td>\n",
       "      <td>.</td>\n",
       "      <td>.</td>\n",
       "      <td>.</td>\n",
       "      <td>.</td>\n",
       "      <td>.</td>\n",
       "    </tr>\n",
       "    <tr>\n",
       "      <th>6</th>\n",
       "      <td>.</td>\n",
       "      <td>.</td>\n",
       "      <td>.</td>\n",
       "      <td>.</td>\n",
       "      <td>.</td>\n",
       "      <td>.</td>\n",
       "      <td>.</td>\n",
       "      <td>.</td>\n",
       "      <td>.</td>\n",
       "      <td>#</td>\n",
       "    </tr>\n",
       "    <tr>\n",
       "      <th>7</th>\n",
       "      <td>.</td>\n",
       "      <td>.</td>\n",
       "      <td>.</td>\n",
       "      <td>.</td>\n",
       "      <td>.</td>\n",
       "      <td>.</td>\n",
       "      <td>.</td>\n",
       "      <td>.</td>\n",
       "      <td>.</td>\n",
       "      <td>.</td>\n",
       "    </tr>\n",
       "    <tr>\n",
       "      <th>8</th>\n",
       "      <td>.</td>\n",
       "      <td>.</td>\n",
       "      <td>.</td>\n",
       "      <td>.</td>\n",
       "      <td>.</td>\n",
       "      <td>.</td>\n",
       "      <td>.</td>\n",
       "      <td>#</td>\n",
       "      <td>.</td>\n",
       "      <td>.</td>\n",
       "    </tr>\n",
       "    <tr>\n",
       "      <th>9</th>\n",
       "      <td>#</td>\n",
       "      <td>.</td>\n",
       "      <td>.</td>\n",
       "      <td>.</td>\n",
       "      <td>#</td>\n",
       "      <td>.</td>\n",
       "      <td>.</td>\n",
       "      <td>.</td>\n",
       "      <td>.</td>\n",
       "      <td>.</td>\n",
       "    </tr>\n",
       "  </tbody>\n",
       "</table>\n",
       "</div>"
      ],
      "text/plain": [
       "   0  1  2  3  4  5  6  7  8  9\n",
       "0  .  .  .  #  .  .  .  .  .  .\n",
       "1  .  .  .  .  .  .  .  #  .  .\n",
       "2  #  .  .  .  .  .  .  .  .  .\n",
       "3  .  .  .  .  .  .  .  .  .  .\n",
       "4  .  .  .  .  .  .  #  .  .  .\n",
       "5  .  #  .  .  .  .  .  .  .  .\n",
       "6  .  .  .  .  .  .  .  .  .  #\n",
       "7  .  .  .  .  .  .  .  .  .  .\n",
       "8  .  .  .  .  .  .  .  #  .  .\n",
       "9  #  .  .  .  #  .  .  .  .  ."
      ]
     },
     "execution_count": 2,
     "metadata": {},
     "output_type": "execute_result"
    }
   ],
   "source": [
    "import pandas\n",
    "\n",
    "text = \"\"\"\n",
    "...#......\n",
    ".......#..\n",
    "#.........\n",
    "..........\n",
    "......#...\n",
    ".#........\n",
    ".........#\n",
    "..........\n",
    ".......#..\n",
    "#...#.....\n",
    "\"\"\"\n",
    "\n",
    "lines = [list(line) for line in text.split()]\n",
    "df = pandas.DataFrame(lines)\n",
    "df"
   ]
  },
  {
   "cell_type": "code",
   "execution_count": 3,
   "id": "4efb86d6-94fa-4086-be55-57dfed3a7c14",
   "metadata": {},
   "outputs": [
    {
     "data": {
      "text/plain": [
       "0    .\n",
       "1    .\n",
       "2    .\n",
       "3    #\n",
       "4    .\n",
       "5    .\n",
       "6    .\n",
       "7    .\n",
       "8    .\n",
       "9    .\n",
       "Name: 0, dtype: object"
      ]
     },
     "execution_count": 3,
     "metadata": {},
     "output_type": "execute_result"
    }
   ],
   "source": [
    "df.iloc[0]"
   ]
  },
  {
   "cell_type": "code",
   "execution_count": 5,
   "id": "2eacd7ee-ccb6-4d78-9e7b-44310eb76ba1",
   "metadata": {},
   "outputs": [
    {
     "data": {
      "text/plain": [
       "0    .\n",
       "1    .\n",
       "2    #\n",
       "3    .\n",
       "4    .\n",
       "5    .\n",
       "6    .\n",
       "7    .\n",
       "8    .\n",
       "9    #\n",
       "Name: 0, dtype: object"
      ]
     },
     "execution_count": 5,
     "metadata": {},
     "output_type": "execute_result"
    }
   ],
   "source": [
    "df.iloc[:, 0]"
   ]
  },
  {
   "cell_type": "code",
   "execution_count": null,
   "id": "cb0940a6-ec05-4877-a1dc-3bc7827686b5",
   "metadata": {},
   "outputs": [],
   "source": [
    "idx = 1\n",
    "galaxies = {}\n",
    "for cell in grid.flatten():\n",
    "    if cell.value == '#':\n",
    "        galaxies[idx] = cell\n",
    "        idx += 1\n",
    "\n",
    "galaxies"
   ]
  },
  {
   "cell_type": "code",
   "execution_count": null,
   "id": "2968fdbf-200f-47bb-8ea4-ceacad6b9af6",
   "metadata": {},
   "outputs": [],
   "source": [
    "idx = 0\n",
    "while True:\n",
    "    try:\n",
    "        row = grid.get_row(idx)\n",
    "    except KeyError:\n",
    "        break\n",
    "    if all(cell.value == '.' for cell in row):\n",
    "        print(f\"duplicating row {idx} {dupe_count} times\")\n",
    "        orig = [cell.copy(deep=True) for cell in row.cells]\n",
    "        for i in range(dupe_count-1):\n",
    "            copy = [cell.copy(deep=True) for cell in orig]\n",
    "            grid.insert_row(idx, copy)\n",
    "        idx += dupe_count + 1\n",
    "    else:\n",
    "        idx += 1\n",
    "\n",
    "grid"
   ]
  },
  {
   "cell_type": "code",
   "execution_count": null,
   "id": "e1d85916-b2ca-4742-80ab-fa90176612b6",
   "metadata": {},
   "outputs": [],
   "source": [
    "grid.get_row(3)"
   ]
  },
  {
   "cell_type": "code",
   "execution_count": null,
   "id": "0d2f26dd-3bdc-41da-9ee0-0e27dc442144",
   "metadata": {},
   "outputs": [],
   "source": [
    "grid.get_row(4)"
   ]
  },
  {
   "cell_type": "code",
   "execution_count": null,
   "id": "79a7068f-bda2-4cec-8d10-9b97674b0037",
   "metadata": {},
   "outputs": [],
   "source": [
    "galaxies"
   ]
  },
  {
   "cell_type": "code",
   "execution_count": null,
   "id": "561d0e4f-784f-4821-82f9-9b5daae15ff9",
   "metadata": {},
   "outputs": [],
   "source": [
    "idx = 0\n",
    "while True:\n",
    "    try:\n",
    "        column = grid.get_column(idx)\n",
    "    except KeyError:\n",
    "        break\n",
    "    if all(cell.value == '.' for cell in column):\n",
    "        print(f\"duplicating column {idx} {dupe_count} times\")\n",
    "        orig = [cell.copy(deep=True) for cell in column.cells]\n",
    "        for i in range(dupe_count-1):\n",
    "            copy = [cell.copy(deep=True) for cell in orig]\n",
    "            grid.insert_column(idx, copy)\n",
    "        idx += dupe_count + 1\n",
    "    else:\n",
    "        idx += 1\n",
    "\n",
    "grid"
   ]
  },
  {
   "cell_type": "code",
   "execution_count": null,
   "id": "4f84bb65-ef97-40e4-ae57-499781a08cbf",
   "metadata": {},
   "outputs": [],
   "source": [
    "galaxies"
   ]
  },
  {
   "cell_type": "code",
   "execution_count": null,
   "id": "7793ad9f-82de-4a65-949c-cb4801b1a0be",
   "metadata": {},
   "outputs": [],
   "source": [
    "def manhattan_distance(cell1: gridthings.Cell, cell2: gridthings.Cell):\n",
    "    return abs(cell2.y - cell1.y) + abs(cell2.x - cell1.x)\n",
    "\n",
    "manhattan_distance(galaxies[5], galaxies[9])"
   ]
  },
  {
   "cell_type": "code",
   "execution_count": null,
   "id": "3c38a857-c3ae-4f30-a368-e42a7708a9ae",
   "metadata": {},
   "outputs": [],
   "source": [
    "import itertools\n",
    "\n",
    "answer = 0\n",
    "for (id1, cell1), (id2, cell2) in itertools.combinations(galaxies.items(), 2):\n",
    "    dist = manhattan_distance(cell1, cell2)\n",
    "    print(id1, id2, dist)\n",
    "    answer += dist\n",
    "\n",
    "answer"
   ]
  },
  {
   "cell_type": "code",
   "execution_count": null,
   "id": "8df1db44-3e14-4bed-bd3b-0425ab5f12f8",
   "metadata": {},
   "outputs": [],
   "source": []
  }
 ],
 "metadata": {
  "kernelspec": {
   "display_name": "Python 3 (ipykernel)",
   "language": "python",
   "name": "python3"
  },
  "language_info": {
   "codemirror_mode": {
    "name": "ipython",
    "version": 3
   },
   "file_extension": ".py",
   "mimetype": "text/x-python",
   "name": "python",
   "nbconvert_exporter": "python",
   "pygments_lexer": "ipython3",
   "version": "3.11.4"
  }
 },
 "nbformat": 4,
 "nbformat_minor": 5
}
