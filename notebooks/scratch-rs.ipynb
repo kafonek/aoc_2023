{
 "cells": [
  {
   "cell_type": "code",
   "execution_count": 53,
   "id": "0344cf69-3b90-40f5-a8db-817c814a1ccf",
   "metadata": {},
   "outputs": [],
   "source": [
    "use std::hash::Hash;\n",
    "\n",
    "#[derive(Debug, Clone, PartialEq, Eq, Hash)]\n",
    "pub struct Cell<T>\n",
    "where\n",
    "    T: Clone + PartialEq + Eq + Hash,\n",
    "{\n",
    "    pub y: usize,\n",
    "    pub x: usize,\n",
    "    pub value: T,\n",
    "}\n",
    "\n",
    "impl<T> Cell<T>\n",
    "where\n",
    "    T: Clone + PartialEq + Eq + Hash,\n",
    "{\n",
    "    pub fn new(y: usize, x: usize, value: T) -> Self {\n",
    "        Cell { y, x, value }\n",
    "    }\n",
    "}\n",
    "\n",
    "#[derive(Debug, Clone, PartialEq, Eq, Hash)]\n",
    "pub struct Grid<T>\n",
    "where\n",
    "    T: Clone + PartialEq + Eq + Hash,\n",
    "{\n",
    "    pub data: Vec<Vec<T>>,\n",
    "}\n",
    "\n",
    "impl<T> Grid<T>\n",
    "where\n",
    "    T: Clone + PartialEq + Eq + Hash,\n",
    "{\n",
    "    pub fn new(data: Vec<Vec<T>>) -> Self {\n",
    "        Grid { data }\n",
    "    }\n",
    "\n",
    "    pub fn get_cell(&self, y: usize, x: usize) -> Option<Cell<T>> {\n",
    "        if y < self.data.len() && x < self.data[y].len() {\n",
    "            Some(Cell::new(y, x, self.data[y][x].clone()))\n",
    "        } else {\n",
    "            None\n",
    "        }\n",
    "    }\n",
    "\n",
    "    pub fn get_row(&self, y: usize) -> Vec<Cell<T>> {\n",
    "        let mut row: Vec<Cell<T>> = Vec::new();\n",
    "        for x in 0..self.data[y].len() {\n",
    "            row.push(self.get_cell(y, x).unwrap());\n",
    "        }\n",
    "        row\n",
    "    }\n",
    "\n",
    "    pub fn get_col(&self, x: usize) -> Vec<Cell<T>> {\n",
    "        let mut col: Vec<Cell<T>> = Vec::new();\n",
    "        for y in 0..self.data.len() {\n",
    "            col.push(self.get_cell(y, x).unwrap());\n",
    "        }\n",
    "        col\n",
    "    }\n",
    "\n",
    "    pub fn insert_row(&mut self, y: usize, row: Vec<T>) {\n",
    "        self.data.insert(y, row);\n",
    "    }\n",
    "\n",
    "    pub fn insert_col(&mut self, x: usize, col: Vec<T>) {\n",
    "        for y in 0..self.data.len() {\n",
    "            self.data[y].insert(x, col[y].clone());\n",
    "        }\n",
    "    }\n",
    "\n",
    "    pub fn peek_horizontal(&self, y: usize, x: usize, offset: usize) -> Vec<Cell<T>> {\n",
    "        let mut results: Vec<Cell<T>> = Vec::new();\n",
    "        if let Some(look_left) = x.checked_sub(offset) {\n",
    "            if let Some(cell) = self.get_cell(y, look_left) {\n",
    "                results.push(cell);\n",
    "            }\n",
    "        }\n",
    "        if let Some(look_right) = x.checked_add(offset) {\n",
    "            if let Some(cell) = self.get_cell(y, look_right) {\n",
    "                results.push(cell);\n",
    "            }\n",
    "        }\n",
    "        results\n",
    "    }\n",
    "\n",
    "    pub fn peek_vertical(&self, y: usize, x: usize, offset: usize) -> Vec<Cell<T>> {\n",
    "        let mut results: Vec<Cell<T>> = Vec::new();\n",
    "        if let Some(look_up) = y.checked_sub(offset) {\n",
    "            if let Some(cell) = self.get_cell(look_up, x) {\n",
    "                results.push(cell);\n",
    "            }\n",
    "        }\n",
    "        if let Some(look_down) = y.checked_add(offset) {\n",
    "            if let Some(cell) = self.get_cell(look_down, x) {\n",
    "                results.push(cell);\n",
    "            }\n",
    "        }\n",
    "        results\n",
    "    }\n",
    "\n",
    "    pub fn peek_linear(&self, y: usize, x: usize, offset: usize) -> Vec<Cell<T>> {\n",
    "        let mut results: Vec<Cell<T>> = Vec::new();\n",
    "        results.append(&mut self.peek_horizontal(y, x, offset));\n",
    "        results.append(&mut self.peek_vertical(y, x, offset));\n",
    "        results\n",
    "    }\n",
    "\n",
    "    pub fn peek_diagonal(&self, y: usize, x: usize, offset: usize) -> Vec<Cell<T>> {\n",
    "        let mut results: Vec<Cell<T>> = Vec::new();\n",
    "        if let Some(look_up) = y.checked_sub(offset) {\n",
    "            if let Some(look_left) = x.checked_sub(offset) {\n",
    "                if let Some(cell) = self.get_cell(look_up, look_left) {\n",
    "                    results.push(cell);\n",
    "                }\n",
    "            }\n",
    "            if let Some(look_right) = x.checked_add(offset) {\n",
    "                if let Some(cell) = self.get_cell(look_up, look_right) {\n",
    "                    results.push(cell);\n",
    "                }\n",
    "            }\n",
    "        }\n",
    "        if let Some(look_down) = y.checked_add(offset) {\n",
    "            if let Some(look_left) = x.checked_sub(offset) {\n",
    "                if let Some(cell) = self.get_cell(look_down, look_left) {\n",
    "                    results.push(cell);\n",
    "                }\n",
    "            }\n",
    "            if let Some(look_right) = x.checked_add(offset) {\n",
    "                if let Some(cell) = self.get_cell(look_down, look_right) {\n",
    "                    results.push(cell);\n",
    "                }\n",
    "            }\n",
    "        }\n",
    "        results\n",
    "    }\n",
    "\n",
    "    pub fn peek_all(&self, y: usize, x: usize, offset: usize) -> Vec<Cell<T>> {\n",
    "        let mut results: Vec<Cell<T>> = Vec::new();\n",
    "        results.append(&mut self.peek_linear(y, x, offset));\n",
    "        results.append(&mut self.peek_diagonal(y, x, offset));\n",
    "        results\n",
    "    }\n",
    "}\n",
    "\n",
    "pub trait GridFromString<T> {\n",
    "    fn from_chars(s: &str) -> Self;\n",
    "    fn from_delimiter(s: &str, delimiter: &str) -> Self;\n",
    "}\n",
    "\n",
    "impl GridFromString<char> for Grid<char> {\n",
    "    fn from_chars(s: &str) -> Self {\n",
    "        let mut data: Vec<Vec<char>> = Vec::new();\n",
    "        for line in s.lines() {\n",
    "            let mut row: Vec<char> = Vec::new();\n",
    "            for c in line.chars() {\n",
    "                row.push(c);\n",
    "            }\n",
    "            data.push(row);\n",
    "        }\n",
    "        Grid::new(data)\n",
    "    }\n",
    "\n",
    "    fn from_delimiter(s: &str, delimiter: &str) -> Self {\n",
    "        let mut data: Vec<Vec<char>> = Vec::new();\n",
    "        for line in s.lines() {\n",
    "            let mut row: Vec<char> = Vec::new();\n",
    "            for c in line.split(delimiter) {\n",
    "                row.push(c.chars().next().unwrap());\n",
    "            }\n",
    "            data.push(row);\n",
    "        }\n",
    "        Grid::new(data)\n",
    "    }\n",
    "}\n",
    "\n",
    "impl GridFromString<i32> for Grid<i32> {\n",
    "    fn from_chars(s: &str) -> Self {\n",
    "        let mut data: Vec<Vec<i32>> = Vec::new();\n",
    "        for line in s.lines() {\n",
    "            let mut row: Vec<i32> = Vec::new();\n",
    "            for c in line.chars() {\n",
    "                row.push(c.to_digit(10).unwrap() as i32);\n",
    "            }\n",
    "            data.push(row);\n",
    "        }\n",
    "        Grid::new(data)\n",
    "    }\n",
    "\n",
    "    fn from_delimiter(s: &str, delimiter: &str) -> Self {\n",
    "        let mut data: Vec<Vec<i32>> = Vec::new();\n",
    "        for line in s.lines() {\n",
    "            let mut row: Vec<i32> = Vec::new();\n",
    "            for c in line.split(delimiter) {\n",
    "                row.push(c.parse::<i32>().unwrap());\n",
    "            }\n",
    "            data.push(row);\n",
    "        }\n",
    "        Grid::new(data)\n",
    "    }\n",
    "}\n"
   ]
  },
  {
   "cell_type": "code",
   "execution_count": 49,
   "id": "938ed893-76c2-4cdc-ae47-4404f9aaa08b",
   "metadata": {},
   "outputs": [
    {
     "data": {
      "text/plain": [
       "Grid { data: [[1, 23, 34], [4, 5, 6]] }"
      ]
     },
     "execution_count": 49,
     "metadata": {},
     "output_type": "execute_result"
    }
   ],
   "source": [
    "let text = r#\"\n",
    "1 23 34\n",
    "4 5 6\n",
    "\"#;\n",
    "let grid: Grid<i32> = Grid::from_delimiter(text.trim(), \" \");\n",
    "grid"
   ]
  },
  {
   "cell_type": "code",
   "execution_count": 50,
   "id": "639ac1f8-86af-4e54-b4ca-169cdd3442e6",
   "metadata": {},
   "outputs": [
    {
     "data": {
      "text/plain": [
       "Some(Cell { y: 1, x: 2, value: 6 })"
      ]
     },
     "execution_count": 50,
     "metadata": {},
     "output_type": "execute_result"
    }
   ],
   "source": [
    "let cell = grid.get_cell(1, 2);\n",
    "cell"
   ]
  },
  {
   "cell_type": "code",
   "execution_count": 51,
   "id": "b74fdb93-3c0b-4aba-9819-a542e82fd9a9",
   "metadata": {},
   "outputs": [
    {
     "data": {
      "text/plain": [
       "[Cell { y: 1, x: 0, value: 4 }, Cell { y: 1, x: 2, value: 6 }, Cell { y: 0, x: 1, value: 23 }, Cell { y: 0, x: 0, value: 1 }, Cell { y: 0, x: 2, value: 34 }]"
      ]
     },
     "execution_count": 51,
     "metadata": {},
     "output_type": "execute_result"
    }
   ],
   "source": [
    "grid.peek_all(1, 1, 1)"
   ]
  },
  {
   "cell_type": "code",
   "execution_count": 45,
   "id": "7ea94d22-45d6-4ea4-9b99-916f98136780",
   "metadata": {},
   "outputs": [
    {
     "data": {
      "text/plain": [
       "Grid { data: [['1', '2', '3'], ['a', 'b', 'c'], ['.', '.', '.']] }"
      ]
     },
     "execution_count": 45,
     "metadata": {},
     "output_type": "execute_result"
    }
   ],
   "source": [
    "let text = r#\"\n",
    "123\n",
    "abc\n",
    "...\n",
    "\"#;\n",
    "\n",
    "let grid: Grid<char> = Grid::from_chars(text.trim());\n",
    "grid"
   ]
  },
  {
   "cell_type": "code",
   "execution_count": 46,
   "id": "773d21b1-35a4-4d38-b30c-86dab2e94d5b",
   "metadata": {},
   "outputs": [
    {
     "data": {
      "text/plain": [
       "[Cell { y: 0, x: 0, value: '1' }, Cell { y: 0, x: 2, value: '3' }, Cell { y: 1, x: 1, value: 'b' }]"
      ]
     },
     "execution_count": 46,
     "metadata": {},
     "output_type": "execute_result"
    }
   ],
   "source": [
    "grid.peek_linear(0, 1, 1)"
   ]
  },
  {
   "cell_type": "code",
   "execution_count": 47,
   "id": "16e620a5-54ad-4795-add0-e9356c390b8c",
   "metadata": {},
   "outputs": [
    {
     "data": {
      "text/plain": [
       "[Cell { y: 1, x: 0, value: 'a' }, Cell { y: 1, x: 2, value: 'c' }]"
      ]
     },
     "execution_count": 47,
     "metadata": {},
     "output_type": "execute_result"
    }
   ],
   "source": [
    "grid.peek_diagonal(0, 1, 1)"
   ]
  },
  {
   "cell_type": "code",
   "execution_count": null,
   "id": "62e9bcf9-941a-46dd-b051-1a6624ab06a9",
   "metadata": {},
   "outputs": [],
   "source": []
  }
 ],
 "metadata": {
  "kernelspec": {
   "display_name": "Rust",
   "language": "rust",
   "name": "rust"
  },
  "language_info": {
   "codemirror_mode": "rust",
   "file_extension": ".rs",
   "mimetype": "text/rust",
   "name": "Rust",
   "pygment_lexer": "rust",
   "version": ""
  }
 },
 "nbformat": 4,
 "nbformat_minor": 5
}
