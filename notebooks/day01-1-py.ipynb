{
 "cells": [
  {
   "cell_type": "code",
   "execution_count": 1,
   "id": "807625b0",
   "metadata": {},
   "outputs": [
    {
     "data": {
      "text/plain": [
       "['1abc2\\n', 'pqr3stu8vwx\\n', 'a1b2c3d4e5f\\n', 'treb7uchet']"
      ]
     },
     "execution_count": 1,
     "metadata": {},
     "output_type": "execute_result"
    }
   ],
   "source": [
    "lines = open('../train/day01-1.txt').readlines()\n",
    "lines"
   ]
  },
  {
   "cell_type": "code",
   "execution_count": 2,
   "id": "c649e364",
   "metadata": {},
   "outputs": [
    {
     "data": {
      "text/plain": [
       "[['1', '2'], ['3', '8'], ['1', '2', '3', '4', '5'], ['7']]"
      ]
     },
     "execution_count": 2,
     "metadata": {},
     "output_type": "execute_result"
    }
   ],
   "source": [
    "extracted_digits = []\n",
    "for line in lines:\n",
    "    nums = [c for c in line if c.isdigit()]\n",
    "    extracted_digits.append(nums)\n",
    "    \n",
    "extracted_digits"
   ]
  },
  {
   "cell_type": "code",
   "execution_count": 3,
   "id": "55b3bbde",
   "metadata": {},
   "outputs": [
    {
     "data": {
      "text/plain": [
       "[12, 38, 15, 77]"
      ]
     },
     "execution_count": 3,
     "metadata": {},
     "output_type": "execute_result"
    }
   ],
   "source": [
    "combined = []\n",
    "for item in extracted_digits:\n",
    "    s = item[0] + item[-1]\n",
    "    combined.append(int(s))\n",
    "    \n",
    "combined"
   ]
  },
  {
   "cell_type": "code",
   "execution_count": 4,
   "id": "78ea918f",
   "metadata": {},
   "outputs": [
    {
     "data": {
      "text/plain": [
       "142"
      ]
     },
     "execution_count": 4,
     "metadata": {},
     "output_type": "execute_result"
    }
   ],
   "source": [
    "sum(combined)"
   ]
  },
  {
   "cell_type": "code",
   "execution_count": 5,
   "id": "6f2c35fb",
   "metadata": {},
   "outputs": [
    {
     "data": {
      "text/plain": [
       "55017"
      ]
     },
     "execution_count": 5,
     "metadata": {},
     "output_type": "execute_result"
    }
   ],
   "source": [
    "# @kafonek target data\n",
    "lines = open('../prod/day01-1.txt').readlines()\n",
    "\n",
    "extracted_digits = []\n",
    "for line in lines:\n",
    "    nums = [c for c in line if c.isdigit()]\n",
    "    extracted_digits.append(nums)\n",
    "    \n",
    "combined = []\n",
    "for item in extracted_digits:\n",
    "    s = item[0] + item[-1]\n",
    "    combined.append(int(s))\n",
    "    \n",
    "sum(combined)    "
   ]
  },
  {
   "cell_type": "code",
   "execution_count": null,
   "id": "660ebf0d-1c0b-4e9c-a8eb-3a6139e074c6",
   "metadata": {},
   "outputs": [],
   "source": []
  }
 ],
 "metadata": {
  "kernelspec": {
   "display_name": "Python 3 (ipykernel)",
   "language": "python",
   "name": "python3"
  },
  "language_info": {
   "codemirror_mode": {
    "name": "ipython",
    "version": 3
   },
   "file_extension": ".py",
   "mimetype": "text/x-python",
   "name": "python",
   "nbconvert_exporter": "python",
   "pygments_lexer": "ipython3",
   "version": "3.11.4"
  }
 },
 "nbformat": 4,
 "nbformat_minor": 5
}
