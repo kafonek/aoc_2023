{
 "cells": [
  {
   "cell_type": "markdown",
   "metadata": {},
   "source": [
    "Relevant directions from https://adventofcode.com/2023/day/1 part one -\n",
    "\n",
    "The newly-improved calibration document consists of lines of text; each line originally contained a specific calibration value that the Elves now need to recover. On each line, the calibration value can be found by combining the first digit and the last digit (in that order) to form a single two-digit number.\n",
    "\n",
    "For example:\n",
    "\n",
    "```\n",
    "1abc2\n",
    "pqr3stu8vwx\n",
    "a1b2c3d4e5f\n",
    "treb7uchet\n",
    "```\n",
    "\n",
    "In this example, the calibration values of these four lines are 12, 38, 15, and 77. Adding these together produces **142**.\n",
    "\n",
    "Consider your entire calibration document. What is the sum of all of the calibration values?"
   ]
  },
  {
   "cell_type": "code",
   "execution_count": 1,
   "id": "e89a9497-2a9a-415e-b935-d09e6bc0f24d",
   "metadata": {},
   "outputs": [
    {
     "data": {
      "text/plain": [
       "['1abc2', 'pqr3stu8vwx', 'a1b2c3d4e5f', 'treb7uchet']"
      ]
     },
     "execution_count": 1,
     "metadata": {},
     "output_type": "execute_result"
    }
   ],
   "source": [
    "text = \"\"\"\n",
    "1abc2\n",
    "pqr3stu8vwx\n",
    "a1b2c3d4e5f\n",
    "treb7uchet\n",
    "\"\"\"\n",
    "lines = text.split()\n",
    "lines"
   ]
  },
  {
   "cell_type": "code",
   "execution_count": 2,
   "id": "c649e364",
   "metadata": {},
   "outputs": [
    {
     "data": {
      "text/plain": [
       "[['1', '2'], ['3', '8'], ['1', '2', '3', '4', '5'], ['7']]"
      ]
     },
     "execution_count": 2,
     "metadata": {},
     "output_type": "execute_result"
    }
   ],
   "source": [
    "extracted_digits = []\n",
    "for line in lines:\n",
    "    nums = [c for c in line if c.isdigit()]\n",
    "    extracted_digits.append(nums)\n",
    "    \n",
    "extracted_digits"
   ]
  },
  {
   "cell_type": "code",
   "execution_count": 3,
   "id": "55b3bbde",
   "metadata": {},
   "outputs": [
    {
     "data": {
      "text/plain": [
       "[12, 38, 15, 77]"
      ]
     },
     "execution_count": 3,
     "metadata": {},
     "output_type": "execute_result"
    }
   ],
   "source": [
    "combined = []\n",
    "for item in extracted_digits:\n",
    "    s = item[0] + item[-1]\n",
    "    combined.append(int(s))\n",
    "    \n",
    "combined"
   ]
  },
  {
   "cell_type": "code",
   "execution_count": 4,
   "id": "78ea918f",
   "metadata": {},
   "outputs": [
    {
     "data": {
      "text/plain": [
       "142"
      ]
     },
     "execution_count": 4,
     "metadata": {},
     "output_type": "execute_result"
    }
   ],
   "source": [
    "sum(combined)"
   ]
  },
  {
   "cell_type": "code",
   "execution_count": 5,
   "id": "6f2c35fb",
   "metadata": {},
   "outputs": [
    {
     "name": "stdout",
     "output_type": "stream",
     "text": [
      "565 µs ± 6.17 µs per loop (mean ± std. dev. of 7 runs, 1,000 loops each)\n"
     ]
    }
   ],
   "source": [
    "%%timeit\n",
    "lines = open('../data/day01.txt').readlines()\n",
    "\n",
    "extracted_digits = []\n",
    "for line in lines:\n",
    "    nums = [c for c in line if c.isdigit()]\n",
    "    extracted_digits.append(nums)\n",
    "    \n",
    "combined = []\n",
    "for item in extracted_digits:\n",
    "    s = item[0] + item[-1]\n",
    "    combined.append(int(s))\n",
    "    \n",
    "sum(combined)    "
   ]
  },
  {
   "cell_type": "code",
   "execution_count": null,
   "id": "660ebf0d-1c0b-4e9c-a8eb-3a6139e074c6",
   "metadata": {},
   "outputs": [],
   "source": []
  }
 ],
 "metadata": {
  "kernelspec": {
   "display_name": "Python 3 (ipykernel)",
   "language": "python",
   "name": "python3"
  },
  "language_info": {
   "codemirror_mode": {
    "name": "ipython",
    "version": 3
   },
   "file_extension": ".py",
   "mimetype": "text/x-python",
   "name": "python",
   "nbconvert_exporter": "python",
   "pygments_lexer": "ipython3",
   "version": "3.11.4"
  }
 },
 "nbformat": 4,
 "nbformat_minor": 5
}
