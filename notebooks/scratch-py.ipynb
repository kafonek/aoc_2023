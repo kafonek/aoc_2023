{
 "cells": [
  {
   "cell_type": "code",
   "execution_count": 1,
   "id": "8edcd032-5f08-4bf6-b6a8-a52b2da07684",
   "metadata": {},
   "outputs": [
    {
     "data": {
      "text/plain": [
       "aoc_2023.gridgraph.grid.Graph"
      ]
     },
     "execution_count": 1,
     "metadata": {},
     "output_type": "execute_result"
    }
   ],
   "source": [
    "from aoc_2023.gridgraph import Graph, Node, Edge\n",
    "\n",
    "Graph"
   ]
  },
  {
   "cell_type": "code",
   "execution_count": 2,
   "id": "d2f53c43-8d6c-4f94-881c-faa199104fb8",
   "metadata": {},
   "outputs": [
    {
     "data": {
      "text/plain": [
       "<Graph (4, 3)>"
      ]
     },
     "execution_count": 2,
     "metadata": {},
     "output_type": "execute_result"
    }
   ],
   "source": [
    "text = \"\"\"\n",
    "abc\n",
    "def\n",
    "xyz\n",
    "foo\n",
    "\"\"\".strip()\n",
    "\n",
    "graph = Graph.from_string(text)\n",
    "graph"
   ]
  },
  {
   "cell_type": "code",
   "execution_count": 3,
   "id": "b60c2349-4fbc-4456-bad1-8476271e020b",
   "metadata": {},
   "outputs": [
    {
     "data": {
      "text/plain": [
       "[<Node 0 0: a>,\n",
       " <Node 1 0: b>,\n",
       " <Node 2 0: c>,\n",
       " <Node 0 1: d>,\n",
       " <Node 1 1: e>,\n",
       " <Node 2 1: f>,\n",
       " <Node 0 2: x>,\n",
       " <Node 1 2: y>,\n",
       " <Node 2 2: z>,\n",
       " <Node 0 3: f>,\n",
       " <Node 1 3: o>,\n",
       " <Node 2 3: o>]"
      ]
     },
     "execution_count": 3,
     "metadata": {},
     "output_type": "execute_result"
    }
   ],
   "source": [
    "graph.flatten()"
   ]
  },
  {
   "cell_type": "code",
   "execution_count": null,
   "id": "12ec510d-357a-4369-a660-7f50f9307ffd",
   "metadata": {},
   "outputs": [],
   "source": [
    "\n",
    "    "
   ]
  },
  {
   "cell_type": "code",
   "execution_count": null,
   "id": "71810c77-fed7-48ab-80c2-05faea26de10",
   "metadata": {},
   "outputs": [],
   "source": [
    "node = graph.get_node(1, 0)\n",
    "node"
   ]
  },
  {
   "cell_type": "code",
   "execution_count": null,
   "id": "2e29e4c6-eadd-4c74-8660-72d609356f7c",
   "metadata": {},
   "outputs": [],
   "source": [
    "graph.linear_neighbors(node)"
   ]
  },
  {
   "cell_type": "code",
   "execution_count": null,
   "id": "519624c8-bd8b-468d-a8c7-8cfbbdde3dc1",
   "metadata": {},
   "outputs": [],
   "source": [
    "text = \"\"\"\n",
    "2199943210\n",
    "3987894921\n",
    "9856789892\n",
    "8767896789\n",
    "9899965678\n",
    "\"\"\"\n",
    "\n",
    "graph = Graph.from_string(text.strip())\n",
    "graph"
   ]
  },
  {
   "cell_type": "code",
   "execution_count": null,
   "id": "448892a8-50af-4366-a69d-6a8ad2e89e2c",
   "metadata": {},
   "outputs": [],
   "source": [
    "for node in graph.flatten():\n",
    "    for neighbor in graph.linear_neighbors(node):\n",
    "        if node.value >= neighbor.value:\n",
    "            break\n",
    "    else:\n",
    "        print(f\"Low node! {node}\")"
   ]
  },
  {
   "cell_type": "code",
   "execution_count": null,
   "id": "4062de28-44ce-42b2-ad82-1b8c048b2dfc",
   "metadata": {},
   "outputs": [],
   "source": [
    "# Create edges any time one number goes up in value to its neighbor, i.e. 0 -> 1 or 5 -> 6\n",
    "graph.edges.clear()\n",
    "for node in graph.flatten():\n",
    "    for neighbor in graph.linear_neighbors(node):\n",
    "        if node.value < neighbor.value and neighbor.value != '9':\n",
    "            graph.add_edge(node, neighbor)\n",
    "\n",
    "len(graph.edges)"
   ]
  },
  {
   "cell_type": "code",
   "execution_count": null,
   "id": "104e9a9d-1f70-4261-a5a6-2d25757d10dc",
   "metadata": {},
   "outputs": [],
   "source": [
    "node = graph.get_node(1, 0)\n",
    "paths = graph.find_all_paths(node)\n",
    "paths"
   ]
  },
  {
   "cell_type": "code",
   "execution_count": null,
   "id": "7241e3c5-20e2-41af-9e71-ab3597aee323",
   "metadata": {},
   "outputs": [],
   "source": [
    "node = graph.get_node(9, 0)\n",
    "paths = graph.find_all_paths(node)\n",
    "paths"
   ]
  },
  {
   "cell_type": "code",
   "execution_count": null,
   "id": "929b7663-98b9-4393-a429-a1b19c72c0c4",
   "metadata": {},
   "outputs": [],
   "source": [
    "node_set = set()\n",
    "for path in paths:\n",
    "    for node in path:\n",
    "        node_set.add(node)\n",
    "\n",
    "node_set"
   ]
  },
  {
   "cell_type": "code",
   "execution_count": null,
   "id": "cc9a7040-447a-406d-af5b-7958a16ac9ce",
   "metadata": {},
   "outputs": [],
   "source": [
    "len(node_set)"
   ]
  },
  {
   "cell_type": "code",
   "execution_count": null,
   "id": "c5bfa4c1-eb44-410f-a123-a22f7f644a4d",
   "metadata": {},
   "outputs": [],
   "source": [
    "text = \"\"\"\n",
    ".....\n",
    ".F-7.\n",
    ".|.|.\n",
    ".L-J.\n",
    ".....\n",
    "\"\"\"\n",
    "\n",
    "graph = Graph.from_string(text.strip())\n",
    "graph"
   ]
  },
  {
   "cell_type": "code",
   "execution_count": null,
   "id": "671cee4d-3ddd-4358-8d06-e5e0948535ca",
   "metadata": {},
   "outputs": [],
   "source": [
    "for node in graph.flatten():\n",
    "    if node == 'F':\n",
    "        "
   ]
  }
 ],
 "metadata": {
  "kernelspec": {
   "display_name": "Python 3 (ipykernel)",
   "language": "python",
   "name": "python3"
  },
  "language_info": {
   "codemirror_mode": {
    "name": "ipython",
    "version": 3
   },
   "file_extension": ".py",
   "mimetype": "text/x-python",
   "name": "python",
   "nbconvert_exporter": "python",
   "pygments_lexer": "ipython3",
   "version": "3.11.4"
  }
 },
 "nbformat": 4,
 "nbformat_minor": 5
}
