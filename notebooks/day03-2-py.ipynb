{
 "cells": [
  {
   "cell_type": "code",
   "execution_count": 1,
   "id": "26a23b5c-dbbe-4a43-8104-cedcd3355014",
   "metadata": {},
   "outputs": [
    {
     "data": {
      "text/plain": [
       "<Grid shape=(10, 10)>"
      ]
     },
     "execution_count": 1,
     "metadata": {},
     "output_type": "execute_result"
    }
   ],
   "source": [
    "import gridthings\n",
    "\n",
    "text = \"\"\"\n",
    "467..114..\n",
    "...*......\n",
    "..35..633.\n",
    "......#...\n",
    "617*......\n",
    ".....+.58.\n",
    "..592.....\n",
    "......755.\n",
    "...$.*....\n",
    ".664.598..\n",
    "\"\"\"\n",
    "\n",
    "grid = gridthings.Grid(text)\n",
    "grid"
   ]
  },
  {
   "cell_type": "code",
   "execution_count": 2,
   "id": "8f13d2e4-9170-4fb7-8d1a-a2f15a6d0773",
   "metadata": {},
   "outputs": [
    {
     "data": {
      "text/plain": [
       "[[Cell(y=0, x=0, value='4'),\n",
       "  Cell(y=0, x=1, value='6'),\n",
       "  Cell(y=0, x=2, value='7')],\n",
       " [Cell(y=0, x=5, value='1'),\n",
       "  Cell(y=0, x=6, value='1'),\n",
       "  Cell(y=0, x=7, value='4')],\n",
       " [Cell(y=2, x=2, value='3'), Cell(y=2, x=3, value='5')],\n",
       " [Cell(y=2, x=6, value='6'),\n",
       "  Cell(y=2, x=7, value='3'),\n",
       "  Cell(y=2, x=8, value='3')],\n",
       " [Cell(y=4, x=0, value='6'),\n",
       "  Cell(y=4, x=1, value='1'),\n",
       "  Cell(y=4, x=2, value='7')],\n",
       " [Cell(y=5, x=7, value='5'), Cell(y=5, x=8, value='8')],\n",
       " [Cell(y=6, x=2, value='5'),\n",
       "  Cell(y=6, x=3, value='9'),\n",
       "  Cell(y=6, x=4, value='2')],\n",
       " [Cell(y=7, x=6, value='7'),\n",
       "  Cell(y=7, x=7, value='5'),\n",
       "  Cell(y=7, x=8, value='5')],\n",
       " [Cell(y=9, x=1, value='6'),\n",
       "  Cell(y=9, x=2, value='6'),\n",
       "  Cell(y=9, x=3, value='4')],\n",
       " [Cell(y=9, x=5, value='5'),\n",
       "  Cell(y=9, x=6, value='9'),\n",
       "  Cell(y=9, x=7, value='8')]]"
      ]
     },
     "execution_count": 2,
     "metadata": {},
     "output_type": "execute_result"
    }
   ],
   "source": [
    "collection = []\n",
    "current = []\n",
    "# use grid.data.values() instead of grid.flatten() to avoid \"wrap-around\" numbers, e.g.\n",
    "# . . 3\n",
    "# 4 & .\n",
    "for row in grid.data.values():\n",
    "    for c in row.values():\n",
    "        if c.value.isdigit():\n",
    "            current.append(c)\n",
    "        else:\n",
    "            if current:\n",
    "                collection.append(current)\n",
    "                current = []\n",
    "    # end of row\n",
    "    if current:\n",
    "        collection.append(current)\n",
    "        current = []\n",
    "\n",
    "collection"
   ]
  },
  {
   "cell_type": "code",
   "execution_count": 3,
   "id": "9757e889-0318-407f-9eab-b02db6d74f97",
   "metadata": {},
   "outputs": [
    {
     "data": {
      "text/plain": [
       "[<Number 467)>,\n",
       " <Number 114)>,\n",
       " <Number 35)>,\n",
       " <Number 633)>,\n",
       " <Number 617)>,\n",
       " <Number 58)>,\n",
       " <Number 592)>,\n",
       " <Number 755)>,\n",
       " <Number 664)>,\n",
       " <Number 598)>]"
      ]
     },
     "execution_count": 3,
     "metadata": {},
     "output_type": "execute_result"
    }
   ],
   "source": [
    "from dataclasses import dataclass\n",
    "from typing import List\n",
    "from gridthings import Cell, OutOfBoundsCell\n",
    "\n",
    "@dataclass\n",
    "class Number:\n",
    "    cells: List[Cell]\n",
    "\n",
    "    @property\n",
    "    def value(self) -> int:\n",
    "        s = ''.join(c.value for c in self.cells)\n",
    "        return int(s)\n",
    "\n",
    "    def gears(self) -> List[Cell]:\n",
    "        \"Return the list of Gears (*) touching this Number\"\n",
    "        return [item for item in self.peek_all() if item.value == \"*\"]\n",
    "\n",
    "    def peek_all(self) -> List[Cell]:\n",
    "        \"\"\"\n",
    "        Returns all adjacent cells to this Number, excluding cells belonging to this\n",
    "        Number group or out of bounds cells\n",
    "        \"\"\"\n",
    "        total_results = []\n",
    "        for cell in self.cells:\n",
    "            results = grid.peek_all(cell.y, cell.x)\n",
    "            for item in results:\n",
    "                if item in self.cells:\n",
    "                    continue\n",
    "                if isinstance(item, OutOfBoundsCell):\n",
    "                    continue\n",
    "                if item in total_results:\n",
    "                    continue\n",
    "                total_results.append(item)\n",
    "        return total_results\n",
    "\n",
    "    def __repr__(self):\n",
    "        return f\"<Number {self.value})>\"\n",
    "\n",
    "nums = []\n",
    "for item in collection:\n",
    "    nums.append(Number(cells=item))\n",
    "\n",
    "nums"
   ]
  },
  {
   "cell_type": "code",
   "execution_count": 4,
   "id": "a273247e-dcd2-4840-8fa7-e82403a0bedd",
   "metadata": {},
   "outputs": [
    {
     "data": {
      "text/plain": [
       "[Cell(y=1, x=3, value='*')]"
      ]
     },
     "execution_count": 4,
     "metadata": {},
     "output_type": "execute_result"
    }
   ],
   "source": [
    "nums[0].gears()"
   ]
  },
  {
   "cell_type": "code",
   "execution_count": 5,
   "id": "a95e7e98-ebf5-4019-bc93-8070d3ce7318",
   "metadata": {},
   "outputs": [
    {
     "data": {
      "text/plain": [
       "defaultdict(list,\n",
       "            {Cell(y=1, x=3, value='*'): [<Number 467)>, <Number 35)>],\n",
       "             Cell(y=4, x=3, value='*'): [<Number 617)>],\n",
       "             Cell(y=8, x=5, value='*'): [<Number 755)>, <Number 598)>]})"
      ]
     },
     "execution_count": 5,
     "metadata": {},
     "output_type": "execute_result"
    }
   ],
   "source": [
    "import collections\n",
    "gear_counts = collections.defaultdict(list)\n",
    "\n",
    "for n in nums:\n",
    "    for gear in n.gears():\n",
    "        gear_counts[gear].append(n)\n",
    "\n",
    "gear_counts\n",
    "    "
   ]
  },
  {
   "cell_type": "code",
   "execution_count": 6,
   "id": "5fa0addf-afce-488b-9577-ebe9910106c8",
   "metadata": {},
   "outputs": [
    {
     "data": {
      "text/plain": [
       "467835"
      ]
     },
     "execution_count": 6,
     "metadata": {},
     "output_type": "execute_result"
    }
   ],
   "source": [
    "answer = 0\n",
    "for c, matches in gear_counts.items():\n",
    "    if len(matches) == 2:\n",
    "        gear_ratio = matches[0].value * matches[1].value\n",
    "        answer += gear_ratio\n",
    "answer"
   ]
  },
  {
   "cell_type": "code",
   "execution_count": null,
   "id": "edfdbbd9-deb5-4802-babf-8ecb73b55290",
   "metadata": {},
   "outputs": [],
   "source": []
  }
 ],
 "metadata": {
  "kernelspec": {
   "display_name": "Python 3 (ipykernel)",
   "language": "python",
   "name": "python3"
  },
  "language_info": {
   "codemirror_mode": {
    "name": "ipython",
    "version": 3
   },
   "file_extension": ".py",
   "mimetype": "text/x-python",
   "name": "python",
   "nbconvert_exporter": "python",
   "pygments_lexer": "ipython3",
   "version": "3.11.4"
  }
 },
 "nbformat": 4,
 "nbformat_minor": 5
}
